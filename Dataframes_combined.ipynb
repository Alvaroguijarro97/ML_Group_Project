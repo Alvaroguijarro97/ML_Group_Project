{
  "nbformat": 4,
  "nbformat_minor": 0,
  "metadata": {
    "colab": {
      "provenance": [],
      "toc_visible": true,
      "include_colab_link": true
    },
    "kernelspec": {
      "name": "python3",
      "display_name": "Python 3"
    },
    "language_info": {
      "name": "python"
    }
  },
  "cells": [
    {
      "cell_type": "markdown",
      "metadata": {
        "id": "view-in-github",
        "colab_type": "text"
      },
      "source": [
        "<a href=\"https://colab.research.google.com/github/Alvaroguijarro97/ML_Group_Project/blob/main/Dataframes_combined.ipynb\" target=\"_parent\"><img src=\"https://colab.research.google.com/assets/colab-badge.svg\" alt=\"Open In Colab\"/></a>"
      ]
    },
    {
      "cell_type": "markdown",
      "source": [
        "# Combination of different Data Sets"
      ],
      "metadata": {
        "id": "QJ8mTdW_3MvL"
      }
    },
    {
      "cell_type": "code",
      "source": [
        "# importing basic modules\n",
        "import pandas as pd\n",
        "import matplotlib.pylab as plt\n",
        "import numpy as np"
      ],
      "metadata": {
        "id": "bjSVHgQK3RBS"
      },
      "execution_count": 1,
      "outputs": []
    },
    {
      "cell_type": "code",
      "source": [
        "# import file \"foreign_data_by_state_sorted.csv\"\n",
        "from google.colab import files\n",
        "uploaded = files.upload()"
      ],
      "metadata": {
        "colab": {
          "base_uri": "https://localhost:8080/",
          "height": 73
        },
        "id": "Jd8g7DH_6ERN",
        "outputId": "8b581521-5608-4c8e-b77a-6d27ab946cbc"
      },
      "execution_count": 2,
      "outputs": [
        {
          "output_type": "display_data",
          "data": {
            "text/plain": [
              "<IPython.core.display.HTML object>"
            ],
            "text/html": [
              "\n",
              "     <input type=\"file\" id=\"files-d915650f-8af2-4af8-97a8-678367a1e9b7\" name=\"files[]\" multiple disabled\n",
              "        style=\"border:none\" />\n",
              "     <output id=\"result-d915650f-8af2-4af8-97a8-678367a1e9b7\">\n",
              "      Upload widget is only available when the cell has been executed in the\n",
              "      current browser session. Please rerun this cell to enable.\n",
              "      </output>\n",
              "      <script>// Copyright 2017 Google LLC\n",
              "//\n",
              "// Licensed under the Apache License, Version 2.0 (the \"License\");\n",
              "// you may not use this file except in compliance with the License.\n",
              "// You may obtain a copy of the License at\n",
              "//\n",
              "//      http://www.apache.org/licenses/LICENSE-2.0\n",
              "//\n",
              "// Unless required by applicable law or agreed to in writing, software\n",
              "// distributed under the License is distributed on an \"AS IS\" BASIS,\n",
              "// WITHOUT WARRANTIES OR CONDITIONS OF ANY KIND, either express or implied.\n",
              "// See the License for the specific language governing permissions and\n",
              "// limitations under the License.\n",
              "\n",
              "/**\n",
              " * @fileoverview Helpers for google.colab Python module.\n",
              " */\n",
              "(function(scope) {\n",
              "function span(text, styleAttributes = {}) {\n",
              "  const element = document.createElement('span');\n",
              "  element.textContent = text;\n",
              "  for (const key of Object.keys(styleAttributes)) {\n",
              "    element.style[key] = styleAttributes[key];\n",
              "  }\n",
              "  return element;\n",
              "}\n",
              "\n",
              "// Max number of bytes which will be uploaded at a time.\n",
              "const MAX_PAYLOAD_SIZE = 100 * 1024;\n",
              "\n",
              "function _uploadFiles(inputId, outputId) {\n",
              "  const steps = uploadFilesStep(inputId, outputId);\n",
              "  const outputElement = document.getElementById(outputId);\n",
              "  // Cache steps on the outputElement to make it available for the next call\n",
              "  // to uploadFilesContinue from Python.\n",
              "  outputElement.steps = steps;\n",
              "\n",
              "  return _uploadFilesContinue(outputId);\n",
              "}\n",
              "\n",
              "// This is roughly an async generator (not supported in the browser yet),\n",
              "// where there are multiple asynchronous steps and the Python side is going\n",
              "// to poll for completion of each step.\n",
              "// This uses a Promise to block the python side on completion of each step,\n",
              "// then passes the result of the previous step as the input to the next step.\n",
              "function _uploadFilesContinue(outputId) {\n",
              "  const outputElement = document.getElementById(outputId);\n",
              "  const steps = outputElement.steps;\n",
              "\n",
              "  const next = steps.next(outputElement.lastPromiseValue);\n",
              "  return Promise.resolve(next.value.promise).then((value) => {\n",
              "    // Cache the last promise value to make it available to the next\n",
              "    // step of the generator.\n",
              "    outputElement.lastPromiseValue = value;\n",
              "    return next.value.response;\n",
              "  });\n",
              "}\n",
              "\n",
              "/**\n",
              " * Generator function which is called between each async step of the upload\n",
              " * process.\n",
              " * @param {string} inputId Element ID of the input file picker element.\n",
              " * @param {string} outputId Element ID of the output display.\n",
              " * @return {!Iterable<!Object>} Iterable of next steps.\n",
              " */\n",
              "function* uploadFilesStep(inputId, outputId) {\n",
              "  const inputElement = document.getElementById(inputId);\n",
              "  inputElement.disabled = false;\n",
              "\n",
              "  const outputElement = document.getElementById(outputId);\n",
              "  outputElement.innerHTML = '';\n",
              "\n",
              "  const pickedPromise = new Promise((resolve) => {\n",
              "    inputElement.addEventListener('change', (e) => {\n",
              "      resolve(e.target.files);\n",
              "    });\n",
              "  });\n",
              "\n",
              "  const cancel = document.createElement('button');\n",
              "  inputElement.parentElement.appendChild(cancel);\n",
              "  cancel.textContent = 'Cancel upload';\n",
              "  const cancelPromise = new Promise((resolve) => {\n",
              "    cancel.onclick = () => {\n",
              "      resolve(null);\n",
              "    };\n",
              "  });\n",
              "\n",
              "  // Wait for the user to pick the files.\n",
              "  const files = yield {\n",
              "    promise: Promise.race([pickedPromise, cancelPromise]),\n",
              "    response: {\n",
              "      action: 'starting',\n",
              "    }\n",
              "  };\n",
              "\n",
              "  cancel.remove();\n",
              "\n",
              "  // Disable the input element since further picks are not allowed.\n",
              "  inputElement.disabled = true;\n",
              "\n",
              "  if (!files) {\n",
              "    return {\n",
              "      response: {\n",
              "        action: 'complete',\n",
              "      }\n",
              "    };\n",
              "  }\n",
              "\n",
              "  for (const file of files) {\n",
              "    const li = document.createElement('li');\n",
              "    li.append(span(file.name, {fontWeight: 'bold'}));\n",
              "    li.append(span(\n",
              "        `(${file.type || 'n/a'}) - ${file.size} bytes, ` +\n",
              "        `last modified: ${\n",
              "            file.lastModifiedDate ? file.lastModifiedDate.toLocaleDateString() :\n",
              "                                    'n/a'} - `));\n",
              "    const percent = span('0% done');\n",
              "    li.appendChild(percent);\n",
              "\n",
              "    outputElement.appendChild(li);\n",
              "\n",
              "    const fileDataPromise = new Promise((resolve) => {\n",
              "      const reader = new FileReader();\n",
              "      reader.onload = (e) => {\n",
              "        resolve(e.target.result);\n",
              "      };\n",
              "      reader.readAsArrayBuffer(file);\n",
              "    });\n",
              "    // Wait for the data to be ready.\n",
              "    let fileData = yield {\n",
              "      promise: fileDataPromise,\n",
              "      response: {\n",
              "        action: 'continue',\n",
              "      }\n",
              "    };\n",
              "\n",
              "    // Use a chunked sending to avoid message size limits. See b/62115660.\n",
              "    let position = 0;\n",
              "    do {\n",
              "      const length = Math.min(fileData.byteLength - position, MAX_PAYLOAD_SIZE);\n",
              "      const chunk = new Uint8Array(fileData, position, length);\n",
              "      position += length;\n",
              "\n",
              "      const base64 = btoa(String.fromCharCode.apply(null, chunk));\n",
              "      yield {\n",
              "        response: {\n",
              "          action: 'append',\n",
              "          file: file.name,\n",
              "          data: base64,\n",
              "        },\n",
              "      };\n",
              "\n",
              "      let percentDone = fileData.byteLength === 0 ?\n",
              "          100 :\n",
              "          Math.round((position / fileData.byteLength) * 100);\n",
              "      percent.textContent = `${percentDone}% done`;\n",
              "\n",
              "    } while (position < fileData.byteLength);\n",
              "  }\n",
              "\n",
              "  // All done.\n",
              "  yield {\n",
              "    response: {\n",
              "      action: 'complete',\n",
              "    }\n",
              "  };\n",
              "}\n",
              "\n",
              "scope.google = scope.google || {};\n",
              "scope.google.colab = scope.google.colab || {};\n",
              "scope.google.colab._files = {\n",
              "  _uploadFiles,\n",
              "  _uploadFilesContinue,\n",
              "};\n",
              "})(self);\n",
              "</script> "
            ]
          },
          "metadata": {}
        },
        {
          "output_type": "stream",
          "name": "stdout",
          "text": [
            "Saving foreign_data_by_state_sorted.csv to foreign_data_by_state_sorted.csv\n"
          ]
        }
      ]
    },
    {
      "cell_type": "code",
      "source": [
        "import io\n",
        "foreign_data_complete = pd.read_csv(io.BytesIO(uploaded['foreign_data_by_state_sorted.csv']), encoding=\"windows_1258\")\n",
        "\n",
        "foreign_data_complete = foreign_data_complete.drop([0])\n",
        "\n",
        "foreign_data_complete = foreign_data_complete.rename(\n",
        "    columns={\n",
        "        \"Foreign_Population\": \"Foreign_Population.0\",\n",
        "        \"Country_Score\": \"Country_Score.0\",\n",
        "        \"Country\": \"Country.0\"\n",
        "        },\n",
        "    index={\n",
        "        1: \"Baden-Württemberg\",\n",
        "        2: \"Bavaria\",\n",
        "        3: \"Berlin\",\n",
        "        4: \"Brandenburg\",\n",
        "        5: \"Bremen\",\n",
        "        6: \"Hamburg\",\n",
        "        7: \"Hesse\",\n",
        "        8: \"Mecklenburg Western Pomerania\",\n",
        "        9: \"Lower Saxony\",\n",
        "        10: \"Northrhine-Westphalia\",\n",
        "        11: \"Rhineland Palatinate\",\n",
        "        12: \"Saarland\",\n",
        "        13: \"Sachsen\",\n",
        "        14: \"Sachsen-Anhalt\",\n",
        "        15: \"Schleswig-Holstein\",\n",
        "        16: \"Thuringia\"\n",
        "        }\n",
        "        )"
      ],
      "metadata": {
        "id": "wYkFg8YM6-rL"
      },
      "execution_count": 3,
      "outputs": []
    },
    {
      "cell_type": "code",
      "source": [
        "# import file \"migrant_background_data_by_state_sorted\"\n",
        "from google.colab import files\n",
        "uploaded = files.upload()"
      ],
      "metadata": {
        "colab": {
          "base_uri": "https://localhost:8080/",
          "height": 73
        },
        "id": "7Ru_rvua6E2G",
        "outputId": "d5c22f94-6eb6-4178-c319-89f8e98afea2"
      },
      "execution_count": 4,
      "outputs": [
        {
          "output_type": "display_data",
          "data": {
            "text/plain": [
              "<IPython.core.display.HTML object>"
            ],
            "text/html": [
              "\n",
              "     <input type=\"file\" id=\"files-f0e750ce-ead5-4797-bbed-34c60aac5140\" name=\"files[]\" multiple disabled\n",
              "        style=\"border:none\" />\n",
              "     <output id=\"result-f0e750ce-ead5-4797-bbed-34c60aac5140\">\n",
              "      Upload widget is only available when the cell has been executed in the\n",
              "      current browser session. Please rerun this cell to enable.\n",
              "      </output>\n",
              "      <script>// Copyright 2017 Google LLC\n",
              "//\n",
              "// Licensed under the Apache License, Version 2.0 (the \"License\");\n",
              "// you may not use this file except in compliance with the License.\n",
              "// You may obtain a copy of the License at\n",
              "//\n",
              "//      http://www.apache.org/licenses/LICENSE-2.0\n",
              "//\n",
              "// Unless required by applicable law or agreed to in writing, software\n",
              "// distributed under the License is distributed on an \"AS IS\" BASIS,\n",
              "// WITHOUT WARRANTIES OR CONDITIONS OF ANY KIND, either express or implied.\n",
              "// See the License for the specific language governing permissions and\n",
              "// limitations under the License.\n",
              "\n",
              "/**\n",
              " * @fileoverview Helpers for google.colab Python module.\n",
              " */\n",
              "(function(scope) {\n",
              "function span(text, styleAttributes = {}) {\n",
              "  const element = document.createElement('span');\n",
              "  element.textContent = text;\n",
              "  for (const key of Object.keys(styleAttributes)) {\n",
              "    element.style[key] = styleAttributes[key];\n",
              "  }\n",
              "  return element;\n",
              "}\n",
              "\n",
              "// Max number of bytes which will be uploaded at a time.\n",
              "const MAX_PAYLOAD_SIZE = 100 * 1024;\n",
              "\n",
              "function _uploadFiles(inputId, outputId) {\n",
              "  const steps = uploadFilesStep(inputId, outputId);\n",
              "  const outputElement = document.getElementById(outputId);\n",
              "  // Cache steps on the outputElement to make it available for the next call\n",
              "  // to uploadFilesContinue from Python.\n",
              "  outputElement.steps = steps;\n",
              "\n",
              "  return _uploadFilesContinue(outputId);\n",
              "}\n",
              "\n",
              "// This is roughly an async generator (not supported in the browser yet),\n",
              "// where there are multiple asynchronous steps and the Python side is going\n",
              "// to poll for completion of each step.\n",
              "// This uses a Promise to block the python side on completion of each step,\n",
              "// then passes the result of the previous step as the input to the next step.\n",
              "function _uploadFilesContinue(outputId) {\n",
              "  const outputElement = document.getElementById(outputId);\n",
              "  const steps = outputElement.steps;\n",
              "\n",
              "  const next = steps.next(outputElement.lastPromiseValue);\n",
              "  return Promise.resolve(next.value.promise).then((value) => {\n",
              "    // Cache the last promise value to make it available to the next\n",
              "    // step of the generator.\n",
              "    outputElement.lastPromiseValue = value;\n",
              "    return next.value.response;\n",
              "  });\n",
              "}\n",
              "\n",
              "/**\n",
              " * Generator function which is called between each async step of the upload\n",
              " * process.\n",
              " * @param {string} inputId Element ID of the input file picker element.\n",
              " * @param {string} outputId Element ID of the output display.\n",
              " * @return {!Iterable<!Object>} Iterable of next steps.\n",
              " */\n",
              "function* uploadFilesStep(inputId, outputId) {\n",
              "  const inputElement = document.getElementById(inputId);\n",
              "  inputElement.disabled = false;\n",
              "\n",
              "  const outputElement = document.getElementById(outputId);\n",
              "  outputElement.innerHTML = '';\n",
              "\n",
              "  const pickedPromise = new Promise((resolve) => {\n",
              "    inputElement.addEventListener('change', (e) => {\n",
              "      resolve(e.target.files);\n",
              "    });\n",
              "  });\n",
              "\n",
              "  const cancel = document.createElement('button');\n",
              "  inputElement.parentElement.appendChild(cancel);\n",
              "  cancel.textContent = 'Cancel upload';\n",
              "  const cancelPromise = new Promise((resolve) => {\n",
              "    cancel.onclick = () => {\n",
              "      resolve(null);\n",
              "    };\n",
              "  });\n",
              "\n",
              "  // Wait for the user to pick the files.\n",
              "  const files = yield {\n",
              "    promise: Promise.race([pickedPromise, cancelPromise]),\n",
              "    response: {\n",
              "      action: 'starting',\n",
              "    }\n",
              "  };\n",
              "\n",
              "  cancel.remove();\n",
              "\n",
              "  // Disable the input element since further picks are not allowed.\n",
              "  inputElement.disabled = true;\n",
              "\n",
              "  if (!files) {\n",
              "    return {\n",
              "      response: {\n",
              "        action: 'complete',\n",
              "      }\n",
              "    };\n",
              "  }\n",
              "\n",
              "  for (const file of files) {\n",
              "    const li = document.createElement('li');\n",
              "    li.append(span(file.name, {fontWeight: 'bold'}));\n",
              "    li.append(span(\n",
              "        `(${file.type || 'n/a'}) - ${file.size} bytes, ` +\n",
              "        `last modified: ${\n",
              "            file.lastModifiedDate ? file.lastModifiedDate.toLocaleDateString() :\n",
              "                                    'n/a'} - `));\n",
              "    const percent = span('0% done');\n",
              "    li.appendChild(percent);\n",
              "\n",
              "    outputElement.appendChild(li);\n",
              "\n",
              "    const fileDataPromise = new Promise((resolve) => {\n",
              "      const reader = new FileReader();\n",
              "      reader.onload = (e) => {\n",
              "        resolve(e.target.result);\n",
              "      };\n",
              "      reader.readAsArrayBuffer(file);\n",
              "    });\n",
              "    // Wait for the data to be ready.\n",
              "    let fileData = yield {\n",
              "      promise: fileDataPromise,\n",
              "      response: {\n",
              "        action: 'continue',\n",
              "      }\n",
              "    };\n",
              "\n",
              "    // Use a chunked sending to avoid message size limits. See b/62115660.\n",
              "    let position = 0;\n",
              "    do {\n",
              "      const length = Math.min(fileData.byteLength - position, MAX_PAYLOAD_SIZE);\n",
              "      const chunk = new Uint8Array(fileData, position, length);\n",
              "      position += length;\n",
              "\n",
              "      const base64 = btoa(String.fromCharCode.apply(null, chunk));\n",
              "      yield {\n",
              "        response: {\n",
              "          action: 'append',\n",
              "          file: file.name,\n",
              "          data: base64,\n",
              "        },\n",
              "      };\n",
              "\n",
              "      let percentDone = fileData.byteLength === 0 ?\n",
              "          100 :\n",
              "          Math.round((position / fileData.byteLength) * 100);\n",
              "      percent.textContent = `${percentDone}% done`;\n",
              "\n",
              "    } while (position < fileData.byteLength);\n",
              "  }\n",
              "\n",
              "  // All done.\n",
              "  yield {\n",
              "    response: {\n",
              "      action: 'complete',\n",
              "    }\n",
              "  };\n",
              "}\n",
              "\n",
              "scope.google = scope.google || {};\n",
              "scope.google.colab = scope.google.colab || {};\n",
              "scope.google.colab._files = {\n",
              "  _uploadFiles,\n",
              "  _uploadFilesContinue,\n",
              "};\n",
              "})(self);\n",
              "</script> "
            ]
          },
          "metadata": {}
        },
        {
          "output_type": "stream",
          "name": "stdout",
          "text": [
            "Saving migrant_background_data_by_state_sorted.csv to migrant_background_data_by_state_sorted.csv\n"
          ]
        }
      ]
    },
    {
      "cell_type": "code",
      "source": [
        "import io\n",
        "migrant_background_data_complete = pd.read_csv(io.BytesIO(uploaded['migrant_background_data_by_state_sorted.csv']), encoding=\"windows_1258\")\n",
        "\n",
        "migrant_background_data_complete = migrant_background_data_complete.drop([0])\n",
        "\n",
        "migrant_background_data_complete = migrant_background_data_complete.rename(\n",
        "    columns={\n",
        "        \"Population with migrant background\": \"Population with migrant background.0\",\n",
        "        \"Country_Score\": \"Country_Score.0\",\n",
        "        \"Country\": \"Country.0\"\n",
        "        },\n",
        "    index={\n",
        "        1: \"Baden-Württemberg\",\n",
        "        2: \"Bavaria\",\n",
        "        3: \"Berlin\",\n",
        "        4: \"Brandenburg\",\n",
        "        5: \"Bremen\",\n",
        "        6: \"Hamburg\",\n",
        "        7: \"Hesse\",\n",
        "        8: \"Mecklenburg Western Pomerania\",\n",
        "        9: \"Lower Saxony\",\n",
        "        10: \"Northrhine-Westphalia\",\n",
        "        11: \"Rhineland Palatinate\",\n",
        "        12: \"Saarland\",\n",
        "        13: \"Sachsen\",\n",
        "        14: \"Sachsen-Anhalt\",\n",
        "        15: \"Schleswig-Holstein\",\n",
        "        16: \"Thuringia\"\n",
        "        }\n",
        "        )"
      ],
      "metadata": {
        "id": "j26dAY__MYWP"
      },
      "execution_count": 5,
      "outputs": []
    },
    {
      "cell_type": "code",
      "source": [
        "# import file \"geographical_data_by_state_sorted\"\n",
        "from google.colab import files\n",
        "uploaded = files.upload()"
      ],
      "metadata": {
        "colab": {
          "base_uri": "https://localhost:8080/",
          "height": 73
        },
        "id": "j0I2Gp_GZ5Wp",
        "outputId": "54d1d149-243c-49b0-91e7-9ded0b8d9636"
      },
      "execution_count": 6,
      "outputs": [
        {
          "output_type": "display_data",
          "data": {
            "text/plain": [
              "<IPython.core.display.HTML object>"
            ],
            "text/html": [
              "\n",
              "     <input type=\"file\" id=\"files-2f95feb2-186f-4f17-9ba4-b7c67bd52efa\" name=\"files[]\" multiple disabled\n",
              "        style=\"border:none\" />\n",
              "     <output id=\"result-2f95feb2-186f-4f17-9ba4-b7c67bd52efa\">\n",
              "      Upload widget is only available when the cell has been executed in the\n",
              "      current browser session. Please rerun this cell to enable.\n",
              "      </output>\n",
              "      <script>// Copyright 2017 Google LLC\n",
              "//\n",
              "// Licensed under the Apache License, Version 2.0 (the \"License\");\n",
              "// you may not use this file except in compliance with the License.\n",
              "// You may obtain a copy of the License at\n",
              "//\n",
              "//      http://www.apache.org/licenses/LICENSE-2.0\n",
              "//\n",
              "// Unless required by applicable law or agreed to in writing, software\n",
              "// distributed under the License is distributed on an \"AS IS\" BASIS,\n",
              "// WITHOUT WARRANTIES OR CONDITIONS OF ANY KIND, either express or implied.\n",
              "// See the License for the specific language governing permissions and\n",
              "// limitations under the License.\n",
              "\n",
              "/**\n",
              " * @fileoverview Helpers for google.colab Python module.\n",
              " */\n",
              "(function(scope) {\n",
              "function span(text, styleAttributes = {}) {\n",
              "  const element = document.createElement('span');\n",
              "  element.textContent = text;\n",
              "  for (const key of Object.keys(styleAttributes)) {\n",
              "    element.style[key] = styleAttributes[key];\n",
              "  }\n",
              "  return element;\n",
              "}\n",
              "\n",
              "// Max number of bytes which will be uploaded at a time.\n",
              "const MAX_PAYLOAD_SIZE = 100 * 1024;\n",
              "\n",
              "function _uploadFiles(inputId, outputId) {\n",
              "  const steps = uploadFilesStep(inputId, outputId);\n",
              "  const outputElement = document.getElementById(outputId);\n",
              "  // Cache steps on the outputElement to make it available for the next call\n",
              "  // to uploadFilesContinue from Python.\n",
              "  outputElement.steps = steps;\n",
              "\n",
              "  return _uploadFilesContinue(outputId);\n",
              "}\n",
              "\n",
              "// This is roughly an async generator (not supported in the browser yet),\n",
              "// where there are multiple asynchronous steps and the Python side is going\n",
              "// to poll for completion of each step.\n",
              "// This uses a Promise to block the python side on completion of each step,\n",
              "// then passes the result of the previous step as the input to the next step.\n",
              "function _uploadFilesContinue(outputId) {\n",
              "  const outputElement = document.getElementById(outputId);\n",
              "  const steps = outputElement.steps;\n",
              "\n",
              "  const next = steps.next(outputElement.lastPromiseValue);\n",
              "  return Promise.resolve(next.value.promise).then((value) => {\n",
              "    // Cache the last promise value to make it available to the next\n",
              "    // step of the generator.\n",
              "    outputElement.lastPromiseValue = value;\n",
              "    return next.value.response;\n",
              "  });\n",
              "}\n",
              "\n",
              "/**\n",
              " * Generator function which is called between each async step of the upload\n",
              " * process.\n",
              " * @param {string} inputId Element ID of the input file picker element.\n",
              " * @param {string} outputId Element ID of the output display.\n",
              " * @return {!Iterable<!Object>} Iterable of next steps.\n",
              " */\n",
              "function* uploadFilesStep(inputId, outputId) {\n",
              "  const inputElement = document.getElementById(inputId);\n",
              "  inputElement.disabled = false;\n",
              "\n",
              "  const outputElement = document.getElementById(outputId);\n",
              "  outputElement.innerHTML = '';\n",
              "\n",
              "  const pickedPromise = new Promise((resolve) => {\n",
              "    inputElement.addEventListener('change', (e) => {\n",
              "      resolve(e.target.files);\n",
              "    });\n",
              "  });\n",
              "\n",
              "  const cancel = document.createElement('button');\n",
              "  inputElement.parentElement.appendChild(cancel);\n",
              "  cancel.textContent = 'Cancel upload';\n",
              "  const cancelPromise = new Promise((resolve) => {\n",
              "    cancel.onclick = () => {\n",
              "      resolve(null);\n",
              "    };\n",
              "  });\n",
              "\n",
              "  // Wait for the user to pick the files.\n",
              "  const files = yield {\n",
              "    promise: Promise.race([pickedPromise, cancelPromise]),\n",
              "    response: {\n",
              "      action: 'starting',\n",
              "    }\n",
              "  };\n",
              "\n",
              "  cancel.remove();\n",
              "\n",
              "  // Disable the input element since further picks are not allowed.\n",
              "  inputElement.disabled = true;\n",
              "\n",
              "  if (!files) {\n",
              "    return {\n",
              "      response: {\n",
              "        action: 'complete',\n",
              "      }\n",
              "    };\n",
              "  }\n",
              "\n",
              "  for (const file of files) {\n",
              "    const li = document.createElement('li');\n",
              "    li.append(span(file.name, {fontWeight: 'bold'}));\n",
              "    li.append(span(\n",
              "        `(${file.type || 'n/a'}) - ${file.size} bytes, ` +\n",
              "        `last modified: ${\n",
              "            file.lastModifiedDate ? file.lastModifiedDate.toLocaleDateString() :\n",
              "                                    'n/a'} - `));\n",
              "    const percent = span('0% done');\n",
              "    li.appendChild(percent);\n",
              "\n",
              "    outputElement.appendChild(li);\n",
              "\n",
              "    const fileDataPromise = new Promise((resolve) => {\n",
              "      const reader = new FileReader();\n",
              "      reader.onload = (e) => {\n",
              "        resolve(e.target.result);\n",
              "      };\n",
              "      reader.readAsArrayBuffer(file);\n",
              "    });\n",
              "    // Wait for the data to be ready.\n",
              "    let fileData = yield {\n",
              "      promise: fileDataPromise,\n",
              "      response: {\n",
              "        action: 'continue',\n",
              "      }\n",
              "    };\n",
              "\n",
              "    // Use a chunked sending to avoid message size limits. See b/62115660.\n",
              "    let position = 0;\n",
              "    do {\n",
              "      const length = Math.min(fileData.byteLength - position, MAX_PAYLOAD_SIZE);\n",
              "      const chunk = new Uint8Array(fileData, position, length);\n",
              "      position += length;\n",
              "\n",
              "      const base64 = btoa(String.fromCharCode.apply(null, chunk));\n",
              "      yield {\n",
              "        response: {\n",
              "          action: 'append',\n",
              "          file: file.name,\n",
              "          data: base64,\n",
              "        },\n",
              "      };\n",
              "\n",
              "      let percentDone = fileData.byteLength === 0 ?\n",
              "          100 :\n",
              "          Math.round((position / fileData.byteLength) * 100);\n",
              "      percent.textContent = `${percentDone}% done`;\n",
              "\n",
              "    } while (position < fileData.byteLength);\n",
              "  }\n",
              "\n",
              "  // All done.\n",
              "  yield {\n",
              "    response: {\n",
              "      action: 'complete',\n",
              "    }\n",
              "  };\n",
              "}\n",
              "\n",
              "scope.google = scope.google || {};\n",
              "scope.google.colab = scope.google.colab || {};\n",
              "scope.google.colab._files = {\n",
              "  _uploadFiles,\n",
              "  _uploadFilesContinue,\n",
              "};\n",
              "})(self);\n",
              "</script> "
            ]
          },
          "metadata": {}
        },
        {
          "output_type": "stream",
          "name": "stdout",
          "text": [
            "Saving geographical_data_by_state_sorted.csv to geographical_data_by_state_sorted.csv\n"
          ]
        }
      ]
    },
    {
      "cell_type": "code",
      "source": [
        "import io\n",
        "geography_data_complete = pd.read_csv(io.BytesIO(uploaded['geographical_data_by_state_sorted.csv']), encoding=\"windows_1258\")\n",
        "geography_data_complete = geography_data_complete.drop([0])\n",
        "\n",
        "geography_data_complete = geography_data_complete.rename(\n",
        "    columns={\n",
        "        \"Distance\": \"Distance.0\",\n",
        "        \"Country_Score\": \"Country_Score.0\",\n",
        "        \"Country\": \"Country.0\"\n",
        "        },\n",
        "    index={\n",
        "        1: \"Baden-Württemberg\",\n",
        "        2: \"Bavaria\",\n",
        "        3: \"Berlin\",\n",
        "        4: \"Brandenburg\",\n",
        "        5: \"Bremen\",\n",
        "        6: \"Hamburg\",\n",
        "        7: \"Hesse\",\n",
        "        8: \"Mecklenburg Western Pomerania\",\n",
        "        9: \"Lower Saxony\",\n",
        "        10: \"Northrhine-Westphalia\",\n",
        "        11: \"Rhineland Palatinate\",\n",
        "        12: \"Saarland\",\n",
        "        13: \"Sachsen\",\n",
        "        14: \"Sachsen-Anhalt\",\n",
        "        15: \"Schleswig-Holstein\",\n",
        "        16: \"Thuringia\"\n",
        "        }\n",
        "        )"
      ],
      "metadata": {
        "id": "5qTxMnZnaFwn"
      },
      "execution_count": 7,
      "outputs": []
    },
    {
      "cell_type": "code",
      "source": [
        "blank_df = pd.DataFrame(\n",
        "    {\n",
        "    \"Baden-Württemberg\": [],\n",
        "    \"Bavaria\": [],\n",
        "    \"Berlin\": [],\n",
        "    \"Brandenburg\": [],\n",
        "    \"Bremen\": [],\n",
        "    \"Hamburg\": [],\n",
        "    \"Hesse\": [],\n",
        "    \"Mecklenburg Western Pomerania\": [],\n",
        "    \"Lower Saxony\": [],\n",
        "    \"Northrhine-Westphalia\": [],\n",
        "    \"Rhineland Palatinate\": [],\n",
        "    \"Saarland\": [],\n",
        "    \"Sachsen\": [],\n",
        "    \"Sachsen-Anhalt\": [],\n",
        "    \"Schleswig-Holstein\": [],\n",
        "    \"Thuringia\": []\n",
        "    }\n",
        ")\n",
        "\n",
        "blank_df = blank_df.T"
      ],
      "metadata": {
        "id": "pumdC0SV5Xti"
      },
      "execution_count": 8,
      "outputs": []
    },
    {
      "cell_type": "code",
      "execution_count": 9,
      "metadata": {
        "id": "U3u9ZjEc3Lg_"
      },
      "outputs": [],
      "source": [
        "central_table_renamed_filtered_1 = blank_df.join(migrant_background_data_complete, rsuffix='_migrant')\n",
        "central_table_renamed_filtered_1 = central_table_renamed_filtered_1.add_suffix('_migrant')\n",
        "\n",
        "central_table_renamed_filtered_2 = blank_df.join(foreign_data_complete, rsuffix='_foreign')\n",
        "central_table_renamed_filtered_2 = central_table_renamed_filtered_2.add_suffix('_foreign')\n",
        "\n",
        "central_table_renamed_filtered_3 = blank_df.join(geography_data_complete, rsuffix='_geography')\n",
        "central_table_renamed_filtered_3 = central_table_renamed_filtered_3.add_suffix('_geography')\n",
        "\n",
        "central_table_migrant_background_foreign = central_table_renamed_filtered_1.join(central_table_renamed_filtered_2)\n",
        "\n",
        "central_table_migrant_background_foreign_geography = central_table_migrant_background_foreign.join(central_table_renamed_filtered_3)"
      ]
    },
    {
      "cell_type": "code",
      "source": [
        "#Upload Data_Abortion_state.csv\n",
        "from google.colab import files\n",
        "uploaded = files.upload()"
      ],
      "metadata": {
        "colab": {
          "base_uri": "https://localhost:8080/",
          "height": 73
        },
        "id": "jLGErWOkcn_R",
        "outputId": "9fbb3fa5-5586-4ca0-f7da-e3e7a15937df"
      },
      "execution_count": 10,
      "outputs": [
        {
          "output_type": "display_data",
          "data": {
            "text/plain": [
              "<IPython.core.display.HTML object>"
            ],
            "text/html": [
              "\n",
              "     <input type=\"file\" id=\"files-a5169437-a45e-4844-8c6d-89422e16b243\" name=\"files[]\" multiple disabled\n",
              "        style=\"border:none\" />\n",
              "     <output id=\"result-a5169437-a45e-4844-8c6d-89422e16b243\">\n",
              "      Upload widget is only available when the cell has been executed in the\n",
              "      current browser session. Please rerun this cell to enable.\n",
              "      </output>\n",
              "      <script>// Copyright 2017 Google LLC\n",
              "//\n",
              "// Licensed under the Apache License, Version 2.0 (the \"License\");\n",
              "// you may not use this file except in compliance with the License.\n",
              "// You may obtain a copy of the License at\n",
              "//\n",
              "//      http://www.apache.org/licenses/LICENSE-2.0\n",
              "//\n",
              "// Unless required by applicable law or agreed to in writing, software\n",
              "// distributed under the License is distributed on an \"AS IS\" BASIS,\n",
              "// WITHOUT WARRANTIES OR CONDITIONS OF ANY KIND, either express or implied.\n",
              "// See the License for the specific language governing permissions and\n",
              "// limitations under the License.\n",
              "\n",
              "/**\n",
              " * @fileoverview Helpers for google.colab Python module.\n",
              " */\n",
              "(function(scope) {\n",
              "function span(text, styleAttributes = {}) {\n",
              "  const element = document.createElement('span');\n",
              "  element.textContent = text;\n",
              "  for (const key of Object.keys(styleAttributes)) {\n",
              "    element.style[key] = styleAttributes[key];\n",
              "  }\n",
              "  return element;\n",
              "}\n",
              "\n",
              "// Max number of bytes which will be uploaded at a time.\n",
              "const MAX_PAYLOAD_SIZE = 100 * 1024;\n",
              "\n",
              "function _uploadFiles(inputId, outputId) {\n",
              "  const steps = uploadFilesStep(inputId, outputId);\n",
              "  const outputElement = document.getElementById(outputId);\n",
              "  // Cache steps on the outputElement to make it available for the next call\n",
              "  // to uploadFilesContinue from Python.\n",
              "  outputElement.steps = steps;\n",
              "\n",
              "  return _uploadFilesContinue(outputId);\n",
              "}\n",
              "\n",
              "// This is roughly an async generator (not supported in the browser yet),\n",
              "// where there are multiple asynchronous steps and the Python side is going\n",
              "// to poll for completion of each step.\n",
              "// This uses a Promise to block the python side on completion of each step,\n",
              "// then passes the result of the previous step as the input to the next step.\n",
              "function _uploadFilesContinue(outputId) {\n",
              "  const outputElement = document.getElementById(outputId);\n",
              "  const steps = outputElement.steps;\n",
              "\n",
              "  const next = steps.next(outputElement.lastPromiseValue);\n",
              "  return Promise.resolve(next.value.promise).then((value) => {\n",
              "    // Cache the last promise value to make it available to the next\n",
              "    // step of the generator.\n",
              "    outputElement.lastPromiseValue = value;\n",
              "    return next.value.response;\n",
              "  });\n",
              "}\n",
              "\n",
              "/**\n",
              " * Generator function which is called between each async step of the upload\n",
              " * process.\n",
              " * @param {string} inputId Element ID of the input file picker element.\n",
              " * @param {string} outputId Element ID of the output display.\n",
              " * @return {!Iterable<!Object>} Iterable of next steps.\n",
              " */\n",
              "function* uploadFilesStep(inputId, outputId) {\n",
              "  const inputElement = document.getElementById(inputId);\n",
              "  inputElement.disabled = false;\n",
              "\n",
              "  const outputElement = document.getElementById(outputId);\n",
              "  outputElement.innerHTML = '';\n",
              "\n",
              "  const pickedPromise = new Promise((resolve) => {\n",
              "    inputElement.addEventListener('change', (e) => {\n",
              "      resolve(e.target.files);\n",
              "    });\n",
              "  });\n",
              "\n",
              "  const cancel = document.createElement('button');\n",
              "  inputElement.parentElement.appendChild(cancel);\n",
              "  cancel.textContent = 'Cancel upload';\n",
              "  const cancelPromise = new Promise((resolve) => {\n",
              "    cancel.onclick = () => {\n",
              "      resolve(null);\n",
              "    };\n",
              "  });\n",
              "\n",
              "  // Wait for the user to pick the files.\n",
              "  const files = yield {\n",
              "    promise: Promise.race([pickedPromise, cancelPromise]),\n",
              "    response: {\n",
              "      action: 'starting',\n",
              "    }\n",
              "  };\n",
              "\n",
              "  cancel.remove();\n",
              "\n",
              "  // Disable the input element since further picks are not allowed.\n",
              "  inputElement.disabled = true;\n",
              "\n",
              "  if (!files) {\n",
              "    return {\n",
              "      response: {\n",
              "        action: 'complete',\n",
              "      }\n",
              "    };\n",
              "  }\n",
              "\n",
              "  for (const file of files) {\n",
              "    const li = document.createElement('li');\n",
              "    li.append(span(file.name, {fontWeight: 'bold'}));\n",
              "    li.append(span(\n",
              "        `(${file.type || 'n/a'}) - ${file.size} bytes, ` +\n",
              "        `last modified: ${\n",
              "            file.lastModifiedDate ? file.lastModifiedDate.toLocaleDateString() :\n",
              "                                    'n/a'} - `));\n",
              "    const percent = span('0% done');\n",
              "    li.appendChild(percent);\n",
              "\n",
              "    outputElement.appendChild(li);\n",
              "\n",
              "    const fileDataPromise = new Promise((resolve) => {\n",
              "      const reader = new FileReader();\n",
              "      reader.onload = (e) => {\n",
              "        resolve(e.target.result);\n",
              "      };\n",
              "      reader.readAsArrayBuffer(file);\n",
              "    });\n",
              "    // Wait for the data to be ready.\n",
              "    let fileData = yield {\n",
              "      promise: fileDataPromise,\n",
              "      response: {\n",
              "        action: 'continue',\n",
              "      }\n",
              "    };\n",
              "\n",
              "    // Use a chunked sending to avoid message size limits. See b/62115660.\n",
              "    let position = 0;\n",
              "    do {\n",
              "      const length = Math.min(fileData.byteLength - position, MAX_PAYLOAD_SIZE);\n",
              "      const chunk = new Uint8Array(fileData, position, length);\n",
              "      position += length;\n",
              "\n",
              "      const base64 = btoa(String.fromCharCode.apply(null, chunk));\n",
              "      yield {\n",
              "        response: {\n",
              "          action: 'append',\n",
              "          file: file.name,\n",
              "          data: base64,\n",
              "        },\n",
              "      };\n",
              "\n",
              "      let percentDone = fileData.byteLength === 0 ?\n",
              "          100 :\n",
              "          Math.round((position / fileData.byteLength) * 100);\n",
              "      percent.textContent = `${percentDone}% done`;\n",
              "\n",
              "    } while (position < fileData.byteLength);\n",
              "  }\n",
              "\n",
              "  // All done.\n",
              "  yield {\n",
              "    response: {\n",
              "      action: 'complete',\n",
              "    }\n",
              "  };\n",
              "}\n",
              "\n",
              "scope.google = scope.google || {};\n",
              "scope.google.colab = scope.google.colab || {};\n",
              "scope.google.colab._files = {\n",
              "  _uploadFiles,\n",
              "  _uploadFilesContinue,\n",
              "};\n",
              "})(self);\n",
              "</script> "
            ]
          },
          "metadata": {}
        },
        {
          "output_type": "stream",
          "name": "stdout",
          "text": [
            "Saving Data_Abortion_state.csv to Data_Abortion_state.csv\n"
          ]
        }
      ]
    },
    {
      "cell_type": "code",
      "source": [
        "import io\n",
        "df_abortion_state = pd.read_csv(io.BytesIO(uploaded['Data_Abortion_state.csv']) ,encoding=\"windows_1258\")\n",
        "df_abortion_state = df_abortion_state.rename(index = {\n",
        "    0: 'Baden-Württemberg',\n",
        "    1: 'Bavaria',\n",
        "    2: 'Berlin',\n",
        "    3: 'Brandenburg',\n",
        "    4: 'Bremen',\n",
        "    5: 'Hamburg',\n",
        "    6: 'Hesse',\n",
        "    7: 'Mecklenburg Western Pomerania',\n",
        "    8: 'Lower Saxony',\n",
        "    9: 'Northrhine-Westphalia',\n",
        "    10: 'Rhineland Palatinate',\n",
        "    11: 'Saarland',\n",
        "    12: 'Sachsen',\n",
        "    13: 'Sachsen-Anhalt',\n",
        "    14: 'Schleswig-Holstein',\n",
        "    15: 'Thuringia'},\n",
        "  columns = {\n",
        "       \"Ausland\" : \"Foreign\"\n",
        "       }\n",
        "    )"
      ],
      "metadata": {
        "id": "oziFkIvFcrUy"
      },
      "execution_count": 11,
      "outputs": []
    },
    {
      "cell_type": "code",
      "source": [
        "column_names = list(df_abortion_state.columns)\n",
        "df_abortion_total = df_abortion_state.convert_dtypes()\n",
        "df_abortion_total['Germans_total']= df_abortion_state[column_names[:-1]].sum(axis=1)\n",
        "df_abortion_total = df_abortion_total.rename(index={\n",
        "    0: 'Baden-Württemberg',\n",
        "    1: 'Bavaria',\n",
        "    2: 'Berlin',\n",
        "    3: 'Brandenburg',\n",
        "    4: 'Bremen',\n",
        "    5: 'Hamburg',\n",
        "    6: 'Hesse',\n",
        "    7: 'Mecklenburg Western Pomerania',\n",
        "    8: 'Lower Saxony',\n",
        "    9: 'Northrhine-Westphalia',\n",
        "    10: 'Rhineland Palatinate',\n",
        "    11: 'Saarland',\n",
        "    12: 'Sachsen',\n",
        "    13: 'Sachsen-Anhalt',\n",
        "    14: 'Schleswig-Holstein',\n",
        "    15: 'Thuringia'}\n",
        "    )\n",
        "df_abortion_total = df_abortion_total.filter(items = [\"Foreign\", \"Germans_total\"])\n",
        "df_abortion_total = df_abortion_total.fillna(0)"
      ],
      "metadata": {
        "id": "O8Zdf967cz3R"
      },
      "execution_count": 12,
      "outputs": []
    },
    {
      "cell_type": "code",
      "source": [
        "#Add the abortion information of each state into the dataframe\n",
        "central_table_migrant_background_foreign_geography[\"abortions_total\"] = df_abortion_total[\"Germans_total\"]\n",
        "central_table_migrant_background_foreign_geography[\"abortions_foreign\"] = df_abortion_total[\"Foreign\"]\n",
        "central_table_migrant_background_foreign_geography[\"abortions_local\"] = df_abortion_total[\"Germans_total\"] - df_abortion_total[\"Foreign\"]\n",
        "central_table_migrant_background_foreign_geography[\"abortions_type\"] = \"\"\n",
        "\n",
        "#Create DataFrame containing the rows for the foreign abortions in Germany\n",
        "central_table_migrant_background_foreign_geography_aforeign = central_table_migrant_background_foreign_geography.loc[central_table_migrant_background_foreign_geography.index.repeat(central_table_migrant_background_foreign_geography.abortions_foreign)]\n",
        "central_table_migrant_background_foreign_geography_aforeign.abortions_type = 1\n",
        "\n",
        "#Create DataFrame containing the rows for the foreign abortions in Germany\n",
        "central_table_migrant_background_foreign_geography_alocal = central_table_migrant_background_foreign_geography.loc[central_table_migrant_background_foreign_geography.index.repeat(central_table_migrant_background_foreign_geography.abortions_local)]\n",
        "central_table_migrant_background_foreign_geography_alocal.abortions_type = 0\n",
        "\n",
        "info = [central_table_migrant_background_foreign_geography_aforeign,central_table_migrant_background_foreign_geography_alocal]\n",
        "central_table_migrant_background_foreign_geography_repeated = pd.concat(info)"
      ],
      "metadata": {
        "id": "P4uN0pc3dYpi"
      },
      "execution_count": 13,
      "outputs": []
    },
    {
      "cell_type": "code",
      "source": [
        "# possibility to download the generated Data Frame\n",
        "central_table_migrant_background_foreign_geography_repeated.to_csv('central_table_migrant_background_foreign_geography_repeated.csv') \n",
        "from google.colab import files\n",
        "files.download(\"central_table_migrant_background_foreign_geography_repeated.csv\")"
      ],
      "metadata": {
        "colab": {
          "base_uri": "https://localhost:8080/",
          "height": 34
        },
        "id": "RSD7K_-xi7ns",
        "outputId": "1b5255c4-e1d2-4de7-b954-7f538caface3"
      },
      "execution_count": 14,
      "outputs": [
        {
          "output_type": "display_data",
          "data": {
            "text/plain": [
              "<IPython.core.display.Javascript object>"
            ],
            "application/javascript": [
              "\n",
              "    async function download(id, filename, size) {\n",
              "      if (!google.colab.kernel.accessAllowed) {\n",
              "        return;\n",
              "      }\n",
              "      const div = document.createElement('div');\n",
              "      const label = document.createElement('label');\n",
              "      label.textContent = `Downloading \"${filename}\": `;\n",
              "      div.appendChild(label);\n",
              "      const progress = document.createElement('progress');\n",
              "      progress.max = size;\n",
              "      div.appendChild(progress);\n",
              "      document.body.appendChild(div);\n",
              "\n",
              "      const buffers = [];\n",
              "      let downloaded = 0;\n",
              "\n",
              "      const channel = await google.colab.kernel.comms.open(id);\n",
              "      // Send a message to notify the kernel that we're ready.\n",
              "      channel.send({})\n",
              "\n",
              "      for await (const message of channel.messages) {\n",
              "        // Send a message to notify the kernel that we're ready.\n",
              "        channel.send({})\n",
              "        if (message.buffers) {\n",
              "          for (const buffer of message.buffers) {\n",
              "            buffers.push(buffer);\n",
              "            downloaded += buffer.byteLength;\n",
              "            progress.value = downloaded;\n",
              "          }\n",
              "        }\n",
              "      }\n",
              "      const blob = new Blob(buffers, {type: 'application/binary'});\n",
              "      const a = document.createElement('a');\n",
              "      a.href = window.URL.createObjectURL(blob);\n",
              "      a.download = filename;\n",
              "      div.appendChild(a);\n",
              "      a.click();\n",
              "      div.remove();\n",
              "    }\n",
              "  "
            ]
          },
          "metadata": {}
        },
        {
          "output_type": "display_data",
          "data": {
            "text/plain": [
              "<IPython.core.display.Javascript object>"
            ],
            "application/javascript": [
              "download(\"download_371e6437-3134-4bde-879c-763513201f1a\", \"central_table_migrant_background_foreign_geography_repeated.csv\", 173398986)"
            ]
          },
          "metadata": {}
        }
      ]
    },
    {
      "cell_type": "code",
      "source": [
        "# Central Table with the NAs replaced by 0 since in our case NA means to small to measure (wihle other populations are represented by small single digit numbers)\n",
        "No_NA_central_table = central_table_migrant_background_foreign_geography_repeated.fillna(0)"
      ],
      "metadata": {
        "id": "FD6RKBp4xBIv"
      },
      "execution_count": 15,
      "outputs": []
    },
    {
      "cell_type": "code",
      "source": [
        "# possibility to download the generated Data Frame without NAs\n",
        "No_NA_central_table.to_csv('No_NA_central_table.csv') \n",
        "from google.colab import files\n",
        "files.download(\"No_NA_central_table.csv\")"
      ],
      "metadata": {
        "id": "ksOTjJVl1pP4",
        "outputId": "de6002ec-eeb1-40b0-8541-ac8e8597719d",
        "colab": {
          "base_uri": "https://localhost:8080/",
          "height": 17
        }
      },
      "execution_count": null,
      "outputs": [
        {
          "output_type": "display_data",
          "data": {
            "text/plain": [
              "<IPython.core.display.Javascript object>"
            ],
            "application/javascript": [
              "\n",
              "    async function download(id, filename, size) {\n",
              "      if (!google.colab.kernel.accessAllowed) {\n",
              "        return;\n",
              "      }\n",
              "      const div = document.createElement('div');\n",
              "      const label = document.createElement('label');\n",
              "      label.textContent = `Downloading \"${filename}\": `;\n",
              "      div.appendChild(label);\n",
              "      const progress = document.createElement('progress');\n",
              "      progress.max = size;\n",
              "      div.appendChild(progress);\n",
              "      document.body.appendChild(div);\n",
              "\n",
              "      const buffers = [];\n",
              "      let downloaded = 0;\n",
              "\n",
              "      const channel = await google.colab.kernel.comms.open(id);\n",
              "      // Send a message to notify the kernel that we're ready.\n",
              "      channel.send({})\n",
              "\n",
              "      for await (const message of channel.messages) {\n",
              "        // Send a message to notify the kernel that we're ready.\n",
              "        channel.send({})\n",
              "        if (message.buffers) {\n",
              "          for (const buffer of message.buffers) {\n",
              "            buffers.push(buffer);\n",
              "            downloaded += buffer.byteLength;\n",
              "            progress.value = downloaded;\n",
              "          }\n",
              "        }\n",
              "      }\n",
              "      const blob = new Blob(buffers, {type: 'application/binary'});\n",
              "      const a = document.createElement('a');\n",
              "      a.href = window.URL.createObjectURL(blob);\n",
              "      a.download = filename;\n",
              "      div.appendChild(a);\n",
              "      a.click();\n",
              "      div.remove();\n",
              "    }\n",
              "  "
            ]
          },
          "metadata": {}
        },
        {
          "output_type": "display_data",
          "data": {
            "text/plain": [
              "<IPython.core.display.Javascript object>"
            ],
            "application/javascript": [
              "download(\"download_d02a0bf6-589a-4a2e-be20-4a1c50b8b884\", \"No_NA_central_table.csv\", 174635051)"
            ]
          },
          "metadata": {}
        }
      ]
    },
    {
      "cell_type": "code",
      "source": [
        "No_NA_central_table.columns"
      ],
      "metadata": {
        "id": "Jn3gZParRuyJ",
        "outputId": "981e9e18-b57c-45da-d135-c725d3233be9",
        "colab": {
          "base_uri": "https://localhost:8080/"
        }
      },
      "execution_count": 16,
      "outputs": [
        {
          "output_type": "execute_result",
          "data": {
            "text/plain": [
              "Index(['Population with migrant background.0_migrant',\n",
              "       'Population with migrant background.1_migrant',\n",
              "       'Population with migrant background.2_migrant',\n",
              "       'Population with migrant background.3_migrant',\n",
              "       'Population with migrant background.4_migrant',\n",
              "       'Population with migrant background.5_migrant',\n",
              "       'Population with migrant background.6_migrant',\n",
              "       'Population with migrant background.7_migrant',\n",
              "       'Population with migrant background.8_migrant',\n",
              "       'Population with migrant background.9_migrant',\n",
              "       ...\n",
              "       'Country_Score.25_geography', 'Country_Score.26_geography',\n",
              "       'Country_Score.27_geography', 'Country_Score.28_geography',\n",
              "       'Country_Score.29_geography', 'Country_Score.30_geography',\n",
              "       'abortions_total', 'abortions_foreign', 'abortions_local',\n",
              "       'abortions_type'],\n",
              "      dtype='object', length=229)"
            ]
          },
          "metadata": {},
          "execution_count": 16
        }
      ]
    },
    {
      "cell_type": "markdown",
      "source": [
        "# Basic Model Creation"
      ],
      "metadata": {
        "id": "1k_qII6yLKjz"
      }
    },
    {
      "cell_type": "code",
      "source": [
        "# Delete string variable country code\n",
        "No_NA_central_table_no_ISO3 = No_NA_central_table[No_NA_central_table.columns.drop(list(No_NA_central_table.filter(regex = \"Country\\.\")))]\n",
        "\n",
        "# Set X and y values with our own data\n",
        "X = No_NA_central_table_no_ISO3.drop([\"abortions_foreign\",\t\"abortions_local\",\t\"abortions_type\", \"abortions_total\"], axis=1)\n",
        "y = No_NA_central_table_no_ISO3[\"abortions_type\"]"
      ],
      "metadata": {
        "id": "2oq41wLZLjX3"
      },
      "execution_count": 17,
      "outputs": []
    },
    {
      "cell_type": "code",
      "source": [
        "# possibility to download the generated Data Frame without NAs\n",
        "No_NA_central_table_no_ISO3.to_csv('No_NA_central_table_no_ISO3.csv') \n",
        "from google.colab import files\n",
        "files.download(\"No_NA_central_table_no_ISO3.csv\")"
      ],
      "metadata": {
        "id": "mk85NB33QCEU"
      },
      "execution_count": null,
      "outputs": []
    },
    {
      "cell_type": "code",
      "source": [
        "# Plot distribution of y\n",
        "# y is etremely uneven distributed\n",
        "import matplotlib.pyplot as plt\n",
        "\n",
        "y.value_counts().plot.barh()\n",
        "plt.xlabel(\"Number of samples\")\n",
        "_ = plt.title(\"Number of samples per class in target\")"
      ],
      "metadata": {
        "id": "5Oa4IIsILmMg",
        "outputId": "37dd2190-b994-47cb-c71c-21ca73cea777",
        "colab": {
          "base_uri": "https://localhost:8080/",
          "height": 295
        }
      },
      "execution_count": 18,
      "outputs": [
        {
          "output_type": "display_data",
          "data": {
            "text/plain": [
              "<Figure size 432x288 with 1 Axes>"
            ],
            "image/png": "[encoded data removed]"
          },
          "metadata": {
            "needs_background": "light"
          }
        }
      ]
    },
    {
      "cell_type": "code",
      "source": [
        "# Set up training and testing data\n",
        "from sklearn.model_selection import train_test_split\n",
        "# TBA: set sub parameters (testsize etc.)\n",
        "X_train, X_test, y_train, y_test = train_test_split(\n",
        "    X, y, shuffle=True, random_state=123, test_size=0.5)"
      ],
      "metadata": {
        "id": "9UBZS7FELofF"
      },
      "execution_count": 19,
      "outputs": []
    },
    {
      "cell_type": "markdown",
      "source": [
        "## Dummy Model"
      ],
      "metadata": {
        "id": "h4sXcN-EjPx-"
      }
    },
    {
      "cell_type": "code",
      "source": [
        "from sklearn.dummy import DummyClassifier\n",
        "\n",
        "dummy_classifier = DummyClassifier(strategy=\"most_frequent\")\n",
        "dummy_classifier.fit(X_train, y_train)\n",
        "print(f\"Accuracy Dummy Classifier: \"\n",
        "      f\"{dummy_classifier.score(X_test, y_test):.3f}\")"
      ],
      "metadata": {
        "colab": {
          "base_uri": "https://localhost:8080/"
        },
        "id": "djbTbUI-jZOL",
        "outputId": "9046c6a6-a417-4156-8e50-50fd93bd1823"
      },
      "execution_count": 24,
      "outputs": [
        {
          "output_type": "stream",
          "name": "stdout",
          "text": [
            "Accuracy Dummy Classifier: 0.994\n"
          ]
        }
      ]
    },
    {
      "cell_type": "markdown",
      "source": [
        "## Logistic Regression Model (unweighted)"
      ],
      "metadata": {
        "id": "uiP6IRUL1Dy9"
      }
    },
    {
      "cell_type": "code",
      "source": [
        "# Create Logistic Regression Model\n",
        "from sklearn.linear_model import LogisticRegression\n",
        "\n",
        "classifier_no_weights = LogisticRegression(max_iter= 1000)\n",
        "classifier_no_weights.fit(X_train, y_train)"
      ],
      "metadata": {
        "id": "keVroQK4LqUs",
        "outputId": "4c5147bd-6b0c-44f7-ebfd-08ddf0c5b25d",
        "colab": {
          "base_uri": "https://localhost:8080/"
        }
      },
      "execution_count": 33,
      "outputs": [
        {
          "output_type": "execute_result",
          "data": {
            "text/plain": [
              "LogisticRegression(max_iter=1000)"
            ]
          },
          "metadata": {},
          "execution_count": 33
        }
      ]
    },
    {
      "cell_type": "markdown",
      "source": [
        "### Accuracy Metrics"
      ],
      "metadata": {
        "id": "epyrv0zSGHAI"
      }
    },
    {
      "cell_type": "code",
      "source": [
        "# LogisticRegression .score for the unweighted model for accuracy metrics\n",
        "# Accuracy score is extremely high (which is a suspicious) \n",
        "unbalanced_accuracy_unweighted = classifier_no_weights.score(X_test, y_test)\n",
        "print(f\" Unbabalnced accuracy: {unbalanced_accuracy_unweighted:.3f}\")"
      ],
      "metadata": {
        "colab": {
          "base_uri": "https://localhost:8080/"
        },
        "id": "q-A5p3trmWiy",
        "outputId": "190508c3-286e-49d3-c32c-2277d61ac22e"
      },
      "execution_count": null,
      "outputs": [
        {
          "output_type": "stream",
          "name": "stdout",
          "text": [
            " Unbabalnced accuracy: 0.994\n"
          ]
        }
      ]
    },
    {
      "cell_type": "code",
      "source": [
        "# Using 'balanced accuracy' metric (for binary and multiclass classification problems with imbalanced datasets)\n",
        "# Definition: Average of recall obtained on each class\n",
        "# Unweighted balanced accuracy is 50/50 (which is a poor score) \n",
        " \n",
        "from sklearn.metrics import balanced_accuracy_score\n",
        "\n",
        "target_predicted = classifier_no_weights.predict(X_test)\n",
        "\n",
        "balanced_accuracy_unweighted = balanced_accuracy_score(y_test, target_predicted)\n",
        "print(f\"Balanced accuracy: {balanced_accuracy_unweighted:.3f}\")"
      ],
      "metadata": {
        "colab": {
          "base_uri": "https://localhost:8080/"
        },
        "id": "IhSTQDcwn4q9",
        "outputId": "becc90cf-5a70-48c7-d4ce-ad382ba5f452"
      },
      "execution_count": null,
      "outputs": [
        {
          "output_type": "stream",
          "name": "stdout",
          "text": [
            "Balanced accuracy: 0.500\n"
          ]
        }
      ]
    },
    {
      "cell_type": "markdown",
      "source": [
        "### Confusion Matrix"
      ],
      "metadata": {
        "id": "Z052CWAOFvzf"
      }
    },
    {
      "cell_type": "code",
      "source": [
        "# Due to the extreme inbalance, an unweighted model predicts 0 foreign pregnancies\n",
        "# An unweighted model therefore scores extremely high on unbalanced accuracy and extremely poor on balanced accuracy\n",
        "from sklearn.metrics import ConfusionMatrixDisplay\n",
        "\n",
        "_ = ConfusionMatrixDisplay.from_estimator(classifier_no_weights, X_test, y_test)"
      ],
      "metadata": {
        "id": "1vU3P6uVXms-",
        "outputId": "3f8be389-2642-40d8-f158-e77dd9b85d0d",
        "colab": {
          "base_uri": "https://localhost:8080/",
          "height": 279
        }
      },
      "execution_count": 49,
      "outputs": [
        {
          "output_type": "display_data",
          "data": {
            "text/plain": [
              "<Figure size 432x288 with 2 Axes>"
            ],
            "image/png": "[encoded data removed]"
          },
          "metadata": {
            "needs_background": "light"
          }
        }
      ]
    },
    {
      "cell_type": "markdown",
      "source": [
        "## Logistic Regression Model (weighted)"
      ],
      "metadata": {
        "id": "3gf6Roiz3yp5"
      }
    },
    {
      "cell_type": "code",
      "source": [
        "# Optimized class weights based on the distribution of the y variables\n",
        "from sklearn.utils.class_weight import compute_class_weight\n",
        "classes = np.unique(y)\n",
        "class_weights = compute_class_weight(class_weight = \"balanced\", classes= np.unique(y_train), y= y_train)\n",
        "class_weights"
      ],
      "metadata": {
        "colab": {
          "base_uri": "https://localhost:8080/"
        },
        "id": "Li9-V6KbqdMD",
        "outputId": "58f11854-e54c-4079-a519-9cd58c85affb"
      },
      "execution_count": 26,
      "outputs": [
        {
          "output_type": "execute_result",
          "data": {
            "text/plain": [
              "array([ 0.50297422, 84.5557554 ])"
            ]
          },
          "metadata": {},
          "execution_count": 26
        }
      ]
    },
    {
      "cell_type": "code",
      "source": [
        "# Implement provided ideal weights into Logistic Regression Model\n",
        "classifier_class_weights = LogisticRegression(max_iter= 1500, class_weight={0:class_weights[0],1:class_weights[1]})\n",
        "classifier_class_weights.fit(X_train, y_train)"
      ],
      "metadata": {
        "colab": {
          "base_uri": "https://localhost:8080/"
        },
        "id": "S0KEYcbyu_Tg",
        "outputId": "5f8300fc-d331-4f81-8e28-965b18b8dcea"
      },
      "execution_count": 25,
      "outputs": [
        {
          "output_type": "execute_result",
          "data": {
            "text/plain": [
              "LogisticRegression(class_weight={0: 0.502974216326094, 1: 84.55575539568345},\n",
              "                   max_iter=1500)"
            ]
          },
          "metadata": {},
          "execution_count": 25
        }
      ]
    },
    {
      "cell_type": "markdown",
      "source": [
        "### Accuracy Metrics"
      ],
      "metadata": {
        "id": "vAhRQgg5F8yp"
      }
    },
    {
      "cell_type": "code",
      "source": [
        "# LogisticRegression .score for the unweighted model for accuracy metrics\n",
        "# score is still high but not necessarily problematic (lower than unweighted)\n",
        "unbalanced_accuracy_weighted = classifier_class_weights.score(X_test, y_test)\n",
        "print(f\" Unbabalanced accuracy: {unbalanced_accuracy_weighted:.3f}\")"
      ],
      "metadata": {
        "colab": {
          "base_uri": "https://localhost:8080/"
        },
        "id": "1zFkFtFxwqus",
        "outputId": "13968e43-473e-4c21-d0fa-a2897b49a03e"
      },
      "execution_count": null,
      "outputs": [
        {
          "output_type": "stream",
          "name": "stdout",
          "text": [
            " Unbabalanced accuracy: 0.861\n"
          ]
        }
      ]
    },
    {
      "cell_type": "code",
      "source": [
        "# Using 'balanced accuracy' metric (for binary and multiclass classification problems with imbalanced datasets)\n",
        "# Definition: Average of recall obtained on each class\n",
        "# Unweighted balanced accuracy is high and much better than the performance of the unweighted model \n",
        " \n",
        "from sklearn.metrics import balanced_accuracy_score\n",
        "\n",
        "target_predicted = classifier_class_weights.predict(X_test)\n",
        "\n",
        "balanced_accuracy_weighted = balanced_accuracy_score(y_test, target_predicted)\n",
        "print(f\"Balanced accuracy: {balanced_accuracy_weighted:.3f}\")"
      ],
      "metadata": {
        "colab": {
          "base_uri": "https://localhost:8080/"
        },
        "id": "vshSkwQHwt1q",
        "outputId": "2420ea8f-6b6b-4aa5-ae1b-a889d69fd2cb"
      },
      "execution_count": null,
      "outputs": [
        {
          "output_type": "stream",
          "name": "stdout",
          "text": [
            "Balanced accuracy: 0.845\n"
          ]
        }
      ]
    },
    {
      "cell_type": "markdown",
      "source": [
        "### Confusion Matrix"
      ],
      "metadata": {
        "id": "vD7zuKCXF1HS"
      }
    },
    {
      "cell_type": "code",
      "source": [
        "# Confusion Matrix shows much improved numbers\n",
        "from sklearn.metrics import ConfusionMatrixDisplay\n",
        "\n",
        "_ = ConfusionMatrixDisplay.from_estimator(classifier_class_weights, X_test, y_test)"
      ],
      "metadata": {
        "colab": {
          "base_uri": "https://localhost:8080/",
          "height": 282
        },
        "id": "CLFcZEOswxEf",
        "outputId": "2585943d-2204-4d06-a6c2-04486f95c63d"
      },
      "execution_count": null,
      "outputs": [
        {
          "output_type": "display_data",
          "data": {
            "text/plain": [
              "<Figure size 432x288 with 2 Axes>"
            ],
            "image/png": "[encoded data removed]"
          },
          "metadata": {
            "needs_background": "light"
          }
        }
      ]
    },
    {
      "cell_type": "markdown",
      "source": [
        "## Metrics"
      ],
      "metadata": {
        "id": "PKz_MM65FhLA"
      }
    },
    {
      "cell_type": "markdown",
      "source": [
        "### Precision-Recall Curves\n",
        "\n"
      ],
      "metadata": {
        "id": "LgkAyjj5515f"
      }
    },
    {
      "cell_type": "code",
      "source": [
        "# Precision-Recall Curve\n",
        "# reflects the high basic score of the dummy model (due to very inbalanced classes), however our weighted model still performs better\n",
        "from sklearn.metrics import PrecisionRecallDisplay\n",
        "\n",
        "disp = PrecisionRecallDisplay.from_estimator(\n",
        "    classifier_class_weights, X_test, y_test, pos_label= 0,\n",
        "    marker=\"+\")\n",
        "disp = PrecisionRecallDisplay.from_estimator(\n",
        "    dummy_classifier, X_test, y_test, pos_label= 0,\n",
        "    color=\"tab:orange\", linestyle=\"--\", ax=disp.ax_)\n",
        "plt.xlabel(\"Recall (TPR or sensitivity)\")\n",
        "plt.ylabel(\"Precision (PPV)\")\n",
        "plt.xlim(0, 1)\n",
        "plt.ylim(0, 1)\n",
        "plt.legend(bbox_to_anchor=(1.05, 0.8), loc=\"upper left\")\n",
        "_ = disp.ax_.set_title(\"Precision-recall curve\")"
      ],
      "metadata": {
        "id": "30xRc7e456hg",
        "outputId": "a0fd2c5d-b86c-49cc-9abe-8cb4eaf34544",
        "colab": {
          "base_uri": "https://localhost:8080/",
          "height": 295
        }
      },
      "execution_count": null,
      "outputs": [
        {
          "output_type": "display_data",
          "data": {
            "text/plain": [
              "<Figure size 432x288 with 1 Axes>"
            ],
            "image/png": "[encoded data removed]"
          },
          "metadata": {
            "needs_background": "light"
          }
        }
      ]
    },
    {
      "cell_type": "markdown",
      "source": [
        "###Receiver Operating Characteristic (ROC) Curve"
      ],
      "metadata": {
        "id": "TALubLsS6ixw"
      }
    },
    {
      "cell_type": "code",
      "source": [
        "# Receiver Operating Characteristic (ROC) Curve\n",
        "# probability threshold varies for determining prediction and compute the metrics\n",
        "# Area under the ROC (ROC-AUC) to characterize the generalization performance of our classifier (similar to precision-recall curve above)\n",
        "# lower bound of the ROC-AUC is 0.5 (generalization performance of dummy classifier)\n",
        "from sklearn.metrics import RocCurveDisplay\n",
        "\n",
        "disp = RocCurveDisplay.from_estimator(\n",
        "    classifier_class_weights, X_test, y_test, pos_label= 0,\n",
        "    marker=\"+\")\n",
        "disp = RocCurveDisplay.from_estimator(\n",
        "    dummy_classifier, X_test, y_test, pos_label= 0,\n",
        "    color=\"tab:orange\", ax=disp.ax_)\n",
        "plt.xlabel(\"False positive rate\")\n",
        "plt.ylabel(\"True positive rate\\n(sensitivity or recall)\")\n",
        "plt.xlim(0, 1)\n",
        "plt.ylim(0, 1)\n",
        "plt.legend(bbox_to_anchor=(1.05, 0.8), loc=\"upper left\")\n",
        "_ = disp.ax_.set_title(\"Receiver Operating Characteristic curve\")\n",
        "\n"
      ],
      "metadata": {
        "id": "WgblL7SL6lXU",
        "outputId": "1676062d-a56d-4925-d6db-92ff4994ffa9",
        "colab": {
          "base_uri": "https://localhost:8080/",
          "height": 295
        }
      },
      "execution_count": 26,
      "outputs": [
        {
          "output_type": "display_data",
          "data": {
            "text/plain": [
              "<Figure size 432x288 with 1 Axes>"
            ],
            "image/png": "[encoded data removed]"
          },
          "metadata": {
            "needs_background": "light"
          }
        }
      ]
    },
    {
      "cell_type": "markdown",
      "source": [
        "# Further Modeling "
      ],
      "metadata": {
        "id": "dH_XBTIPRjq8"
      }
    },
    {
      "cell_type": "markdown",
      "source": [
        "## Random Forest"
      ],
      "metadata": {
        "id": "yseL3dTUSDvv"
      }
    },
    {
      "cell_type": "markdown",
      "source": [
        "### Random Forest Classifier (unweighted)"
      ],
      "metadata": {
        "id": "jDdVCPcLfHLz"
      }
    },
    {
      "cell_type": "code",
      "source": [
        "# Decision trees often perform better on imbalanced datasets.\n",
        "# their hierarchical structure allows them to learn signals from both classes.\n",
        "# One Option here would be using a Random Forest model.\n",
        "\n",
        "from sklearn.ensemble import RandomForestClassifier\n",
        "from sklearn.metrics import accuracy_score\n",
        "from sklearn.metrics import balanced_accuracy_score\n",
        "from sklearn.metrics import roc_auc_score\n",
        " \n",
        "# Train model\n",
        "classifier_forest = RandomForestClassifier(random_state=123)\n",
        "classifier_forest.fit(X_train, y_train)\n",
        " \n",
        "# Predict on training set\n",
        "pred_y_forest = classifier_forest.predict(X_test)\n",
        " \n",
        "# Is our model predicting both classes?\n",
        "print(f\"Classes that are being predicted: \"\n",
        "      f\"{np.unique(pred_y_forest)}\")\n",
        "# this model is only predicting 0, which means it’s completely ignoring the minority class in favor of the majority class\n",
        " \n",
        "# How's our accuracy?\n",
        "print(f\"Accuracy Score: \"\n",
        "      f\"{accuracy_score(y_test, pred_y_forest):.4f}\")\n",
        " \n",
        "# What about AUROC?\n",
        "# Area Under ROC Curve (AUROC) represents the likelihood of your model distinguishing observations from two classes\n",
        "prob_y_forest = classifier_forest.predict_proba(X_test)\n",
        "prob_y_forest = [p[1] for p in prob_y_forest]\n",
        "\n",
        "print(f\"Area Under ROC Curve (AUROC): \"\n",
        "      f\"{roc_auc_score(y_test, prob_y_forest):.4f}\")"
      ],
      "metadata": {
        "colab": {
          "base_uri": "https://localhost:8080/"
        },
        "id": "xC844-lmfJ1D",
        "outputId": "85243c99-10e5-4796-cfec-6ceb26c77c02"
      },
      "execution_count": 23,
      "outputs": [
        {
          "output_type": "stream",
          "name": "stdout",
          "text": [
            "Classes that are being predicted: [0]\n",
            "Accuracy Score: 0.9938\n",
            "Area Under ROC Curve (AUROC): 0.9022\n"
          ]
        }
      ]
    },
    {
      "cell_type": "code",
      "source": [
        "# View the classification report for test data and predictions\n",
        "from sklearn.metrics import classification_report\n",
        "\n",
        "print(classification_report(y_test, pred_y_forest))"
      ],
      "metadata": {
        "colab": {
          "base_uri": "https://localhost:8080/"
        },
        "id": "gHQh6nolh2-k",
        "outputId": "244f86ab-3361-49d3-a787-ba654ae1a219"
      },
      "execution_count": 24,
      "outputs": [
        {
          "output_type": "stream",
          "name": "stdout",
          "text": [
            "              precision    recall  f1-score   support\n",
            "\n",
            "           0       0.99      1.00      1.00     46721\n",
            "           1       0.00      0.00      0.00       292\n",
            "\n",
            "    accuracy                           0.99     47013\n",
            "   macro avg       0.50      0.50      0.50     47013\n",
            "weighted avg       0.99      0.99      0.99     47013\n",
            "\n"
          ]
        },
        {
          "output_type": "stream",
          "name": "stderr",
          "text": [
            "/usr/local/lib/python3.7/dist-packages/sklearn/metrics/_classification.py:1318: UndefinedMetricWarning: Precision and F-score are ill-defined and being set to 0.0 in labels with no predicted samples. Use `zero_division` parameter to control this behavior.\n",
            "  _warn_prf(average, modifier, msg_start, len(result))\n",
            "/usr/local/lib/python3.7/dist-packages/sklearn/metrics/_classification.py:1318: UndefinedMetricWarning: Precision and F-score are ill-defined and being set to 0.0 in labels with no predicted samples. Use `zero_division` parameter to control this behavior.\n",
            "  _warn_prf(average, modifier, msg_start, len(result))\n",
            "/usr/local/lib/python3.7/dist-packages/sklearn/metrics/_classification.py:1318: UndefinedMetricWarning: Precision and F-score are ill-defined and being set to 0.0 in labels with no predicted samples. Use `zero_division` parameter to control this behavior.\n",
            "  _warn_prf(average, modifier, msg_start, len(result))\n"
          ]
        }
      ]
    },
    {
      "cell_type": "code",
      "source": [
        "# View confusion matrix for test data and predictions\n",
        "from sklearn.metrics import ConfusionMatrixDisplay\n",
        "\n",
        "_ = ConfusionMatrixDisplay.from_estimator(classifier_forest, X_test, y_test)"
      ],
      "metadata": {
        "colab": {
          "base_uri": "https://localhost:8080/",
          "height": 279
        },
        "id": "oZBpQVNFPfyl",
        "outputId": "9abd94cc-acbf-4b96-dc15-5c37dae898e8"
      },
      "execution_count": 26,
      "outputs": [
        {
          "output_type": "display_data",
          "data": {
            "text/plain": [
              "<Figure size 432x288 with 2 Axes>"
            ],
            "image/png": "[encoded data removed]"
          },
          "metadata": {
            "needs_background": "light"
          }
        }
      ]
    },
    {
      "cell_type": "markdown",
      "source": [
        "### Random Forest Classifier (weighted)"
      ],
      "metadata": {
        "id": "8MsOldFKHkxB"
      }
    },
    {
      "cell_type": "code",
      "source": [
        "# Train model with balanced class weight\n",
        "# The “balanced” mode uses the values of y to automatically adjust weights inversely proportional to class frequencies in the input data as n_samples / (n_classes * np.bincount(y))\n",
        "classifier_weighted_forest = RandomForestClassifier(random_state=123, class_weight='balanced')\n",
        "classifier_weighted_forest.fit(X_train, y_train)\n",
        " \n",
        "# Predict on training set\n",
        "pred_y_weighted_forest = classifier_weighted_forest.predict(X_test)\n",
        " \n",
        "# Is our model still predicting just one class?\n",
        "print(f\"Classes that are being predicted: \"\n",
        "      f\"{np.unique(pred_y_weighted_forest)}\")\n",
        " \n",
        "# How's our accuracy when a weight is added?\n",
        "print(f\"Accuracy Score: \"\n",
        "      f\"{accuracy_score(y_test, pred_y_weighted_forest):.4f}\")\n",
        " \n",
        "# What about AUROC?\n",
        "# Area Under ROC Curve (AUROC) represents the likelihood of your model distinguishing observations from two classes\n",
        "prob_y_weighted_forest = classifier_weighted_forest.predict_proba(X_test)\n",
        "prob_y_weighted_forest = [p[1] for p in prob_y_weighted_forest]\n",
        "\n",
        "print(f\"Area Under ROC Curve (AUROC): \"\n",
        "      f\"{roc_auc_score(y_test, pred_y_weighted_forest):.4f}\")"
      ],
      "metadata": {
        "colab": {
          "base_uri": "https://localhost:8080/"
        },
        "id": "O_VlBhi6HrSV",
        "outputId": "57cf0c14-9002-4416-f4e9-4fa89648d981"
      },
      "execution_count": 27,
      "outputs": [
        {
          "output_type": "stream",
          "name": "stdout",
          "text": [
            "Classes that are being predicted: [0 1]\n",
            "Accuracy Score: 0.8607\n",
            "Area Under ROC Curve (AUROC): 0.8448\n"
          ]
        }
      ]
    },
    {
      "cell_type": "code",
      "source": [
        "# View the classification report for test data and predictions\n",
        "\n",
        "print(classification_report(y_test, pred_y_weighted_forest))"
      ],
      "metadata": {
        "colab": {
          "base_uri": "https://localhost:8080/"
        },
        "id": "qWayl7QUh0Or",
        "outputId": "3a2eaf7a-12b0-4a96-ce32-73358b0575c3"
      },
      "execution_count": 28,
      "outputs": [
        {
          "output_type": "stream",
          "name": "stdout",
          "text": [
            "              precision    recall  f1-score   support\n",
            "\n",
            "           0       1.00      0.86      0.92     46721\n",
            "           1       0.04      0.83      0.07       292\n",
            "\n",
            "    accuracy                           0.86     47013\n",
            "   macro avg       0.52      0.84      0.50     47013\n",
            "weighted avg       0.99      0.86      0.92     47013\n",
            "\n"
          ]
        }
      ]
    },
    {
      "cell_type": "code",
      "source": [
        "# View confusion matrix for test data and predictions\n",
        "from sklearn.metrics import ConfusionMatrixDisplay\n",
        "\n",
        "_ = ConfusionMatrixDisplay.from_estimator(classifier_weighted_forest, X_test, y_test)"
      ],
      "metadata": {
        "colab": {
          "base_uri": "https://localhost:8080/",
          "height": 282
        },
        "id": "pZs8mgGePQsR",
        "outputId": "0a494278-9ba3-4a13-f479-746f50daba48"
      },
      "execution_count": 29,
      "outputs": [
        {
          "output_type": "display_data",
          "data": {
            "text/plain": [
              "<Figure size 432x288 with 2 Axes>"
            ],
            "image/png": "[encoded data removed]"
          },
          "metadata": {
            "needs_background": "light"
          }
        }
      ]
    },
    {
      "cell_type": "markdown",
      "source": [
        "### Random Forest with Random Undersampling"
      ],
      "metadata": {
        "id": "q5kOk2tbKynS"
      }
    },
    {
      "cell_type": "code",
      "source": [
        "# A balanced random forest randomly under-samples each boostrap sample to balance it.\n",
        "from imblearn.ensemble import BalancedRandomForestClassifier\n",
        "\n",
        "# Train model \n",
        "classifier_balanced_forest = BalancedRandomForestClassifier(random_state=123)\n",
        "classifier_balanced_forest.fit(X_train, y_train)\n",
        " \n",
        "# Predict on training set\n",
        "pred_y_balanced_forest = classifier_balanced_forest.predict(X_test)\n",
        " \n",
        "# Is our model still predicting just one class?\n",
        "print(f\"Classes that are being predicted: \"\n",
        "      f\"{np.unique(pred_y_balanced_forest)}\")\n",
        " \n",
        "# How's our accuracy when a weight is added?\n",
        "print(f\"Accuracy Score: \"\n",
        "      f\"{accuracy_score(y_test, pred_y_balanced_forest):.4f}\")\n",
        "\n",
        "# and balanced accuracy?\n",
        "balanced_accuracy_weighted = balanced_accuracy_score(y_test, pred_y_forest)\n",
        "print(f\"Balanced accuracy: \"\n",
        "      f\"{balanced_accuracy_weighted:.4f}\")\n",
        " \n",
        "# What about AUROC?\n",
        "# Area Under ROC Curve (AUROC) represents the likelihood of your model distinguishing observations from two classes\n",
        "prob_y_balanced_forest = classifier_balanced_forest.predict_proba(X_test)\n",
        "prob_y_balanced_forest = [p[1] for p in prob_y_balanced_forest]\n",
        "\n",
        "print(f\"Area Under ROC Curve (AUROC): \"\n",
        "      f\"{roc_auc_score(y_test, prob_y_balanced_forest):.4f}\")"
      ],
      "metadata": {
        "colab": {
          "base_uri": "https://localhost:8080/"
        },
        "id": "RkYCkYchK4Eh",
        "outputId": "689c84cd-58b9-46b1-8145-c47e7f4eadd4"
      },
      "execution_count": 69,
      "outputs": [
        {
          "output_type": "stream",
          "name": "stdout",
          "text": [
            "Classes that are being predicted: [0 1]\n",
            "Accuracy Score: 0.8607\n",
            "Balanced accuracy: 0.5000\n",
            "Area Under ROC Curve (AUROC): 0.9038\n"
          ]
        }
      ]
    },
    {
      "cell_type": "code",
      "source": [
        "# View the classification report for test data and predictions\n",
        "from sklearn.metrics import classification_report\n",
        "\n",
        "print(classification_report(y_test, pred_y_balanced_forest))"
      ],
      "metadata": {
        "colab": {
          "base_uri": "https://localhost:8080/"
        },
        "id": "OxdCYV8Mcow1",
        "outputId": "3bf43a0b-bf21-4abd-debc-703add600c36"
      },
      "execution_count": 34,
      "outputs": [
        {
          "output_type": "stream",
          "name": "stdout",
          "text": [
            "              precision    recall  f1-score   support\n",
            "\n",
            "           0       1.00      0.86      0.92     46721\n",
            "           1       0.04      0.83      0.07       292\n",
            "\n",
            "    accuracy                           0.86     47013\n",
            "   macro avg       0.52      0.84      0.50     47013\n",
            "weighted avg       0.99      0.86      0.92     47013\n",
            "\n"
          ]
        }
      ]
    },
    {
      "cell_type": "code",
      "source": [
        "# View confusion matrix for test data and predictions\n",
        "from sklearn.metrics import ConfusionMatrixDisplay\n",
        "\n",
        "_ = ConfusionMatrixDisplay.from_estimator(classifier_balanced_forest, X_test, y_test)"
      ],
      "metadata": {
        "colab": {
          "base_uri": "https://localhost:8080/",
          "height": 282
        },
        "id": "R0aunB8yCxrd",
        "outputId": "51ccf632-07ad-4e52-fede-ccf6224e2c53"
      },
      "execution_count": 36,
      "outputs": [
        {
          "output_type": "display_data",
          "data": {
            "text/plain": [
              "<Figure size 432x288 with 2 Axes>"
            ],
            "image/png": "[encoded data removed]"
          },
          "metadata": {
            "needs_background": "light"
          }
        }
      ]
    },
    {
      "cell_type": "code",
      "source": [
        "from sklearn.feature_selection import SelectFromModel\n",
        "from sklearn.inspection import permutation_importance\n",
        "from matplotlib import pyplot as plt\n",
        "\n",
        "sel = SelectFromModel(classifier_balanced_forest)\n",
        "sel.fit(X_train, y_train)\n",
        "\n",
        "sel.get_support()\n",
        "\n",
        "selected_feat= X_train.columns[(sel.get_support())]\n",
        "len(selected_feat)\n",
        "\n",
        "print(selected_feat)"
      ],
      "metadata": {
        "colab": {
          "base_uri": "https://localhost:8080/"
        },
        "id": "TrhiGc3GQL8s",
        "outputId": "de6f31e0-0dee-4b30-8882-eddd814609cd"
      },
      "execution_count": 55,
      "outputs": [
        {
          "output_type": "stream",
          "name": "stdout",
          "text": [
            "Index(['Country_Score.6_foreign', 'Country_Score.7_foreign',\n",
            "       'Country_Score.18_foreign', 'Distance.0_geography',\n",
            "       'Distance.12_geography', 'Distance.14_geography',\n",
            "       'Distance.15_geography', 'Distance.16_geography',\n",
            "       'Distance.17_geography', 'Distance.18_geography',\n",
            "       'Distance.19_geography', 'Distance.20_geography',\n",
            "       'Distance.21_geography', 'Distance.24_geography',\n",
            "       'Distance.26_geography', 'Distance.29_geography',\n",
            "       'Distance.30_geography', 'Country_Score.1_geography',\n",
            "       'Country_Score.2_geography', 'Country_Score.11_geography',\n",
            "       'Country_Score.15_geography', 'Country_Score.16_geography',\n",
            "       'Country_Score.20_geography', 'Country_Score.21_geography',\n",
            "       'Country_Score.26_geography', 'Country_Score.27_geography'],\n",
            "      dtype='object')\n"
          ]
        }
      ]
    },
    {
      "cell_type": "code",
      "source": [
        "# Random Forest Classification Feature Importance\n",
        "from matplotlib import pyplot\n",
        "\n",
        "# get importance\n",
        "importance = classifier_balanced_forest.feature_importances_\n",
        "sorted_importance = np.argsort(importance)\n",
        "most_important = sorted_importance[-10 : ]\n",
        "\n",
        "# summarize feature importance\n",
        "for i,v in enumerate(most_important):\n",
        "\tprint('Feature: %0d, Score: %.5f' % (i,v))\n",
        "# plot feature importance\n",
        "pyplot.bar([x for x in range(len(most_important))], most_important)\n",
        "print(pyplot.show())"
      ],
      "metadata": {
        "colab": {
          "base_uri": "https://localhost:8080/",
          "height": 452
        },
        "id": "AasRXOCMeFix",
        "outputId": "d73bdcd6-f328-4a0b-fa36-bd4c49e3c74e"
      },
      "execution_count": 61,
      "outputs": [
        {
          "output_type": "stream",
          "name": "stdout",
          "text": [
            "Feature: 0, Score: 106.00000\n",
            "Feature: 1, Score: 121.00000\n",
            "Feature: 2, Score: 139.00000\n",
            "Feature: 3, Score: 117.00000\n",
            "Feature: 4, Score: 108.00000\n",
            "Feature: 5, Score: 63.00000\n",
            "Feature: 6, Score: 120.00000\n",
            "Feature: 7, Score: 112.00000\n",
            "Feature: 8, Score: 146.00000\n",
            "Feature: 9, Score: 109.00000\n"
          ]
        },
        {
          "output_type": "display_data",
          "data": {
            "text/plain": [
              "<Figure size 432x288 with 1 Axes>"
            ],
            "image/png": "[encoded data removed]"
          },
          "metadata": {
            "needs_background": "light"
          }
        },
        {
          "output_type": "stream",
          "name": "stdout",
          "text": [
            "None\n"
          ]
        }
      ]
    },
    {
      "cell_type": "code",
      "source": [
        "feat_importances = pd.Series(classifier_balanced_forest.feature_importances_, index=X.columns)\n",
        "feat_importances.nlargest(15).plot(kind='barh')\n",
        "plt.title(\"Top 15 important features\")\n",
        "plt.show()"
      ],
      "metadata": {
        "colab": {
          "base_uri": "https://localhost:8080/",
          "height": 281
        },
        "id": "oURp_-Dlh-6I",
        "outputId": "b1572102-de98-40f5-e8c3-6492bc522593"
      },
      "execution_count": 63,
      "outputs": [
        {
          "output_type": "display_data",
          "data": {
            "text/plain": [
              "<Figure size 432x288 with 1 Axes>"
            ],
            "image/png": "[encoded data removed]"
          },
          "metadata": {
            "needs_background": "light"
          }
        }
      ]
    },
    {
      "cell_type": "markdown",
      "source": [
        "## Support Vector Machine Model"
      ],
      "metadata": {
        "id": "juSxRjvnRTzb"
      }
    },
    {
      "cell_type": "code",
      "source": [
        "# SVM for imbalanced classification\n",
        "from sklearn.svm import SVC\n",
        "\n",
        "# Train model \n",
        "classifier_balanced_svm = SVC(gamma='scale', class_weight='balanced')\n",
        "classifier_balanced_svm.fit(X_train, y_train)\n",
        "\n",
        "# Predict on training set\n",
        "pred_y_balanced_svm = classifier_balanced_svm.predict(X_test)"
      ],
      "metadata": {
        "id": "PgIPyO_BSMla"
      },
      "execution_count": 71,
      "outputs": []
    },
    {
      "cell_type": "code",
      "source": [
        "# SVM Model evaluation \n",
        "from sklearn.model_selection import cross_val_score\n",
        "from sklearn.model_selection import RepeatedStratifiedKFold\n",
        "from numpy import mean\n",
        "\n",
        "# Is our model still predicting just one class?\n",
        "print(f\"Classes that are being predicted: \"\n",
        "      f\"{np.unique(pred_y_balanced_svm)}\")\n",
        " \n",
        "# How's our accuracy when a weight is added?\n",
        "print(f\"Accuracy Score: \"\n",
        "      f\"{accuracy_score(y_test, pred_y_balanced_svm):.4f}\")\n",
        " \n",
        "# define evaluation procedure\n",
        "cv = RepeatedStratifiedKFold(n_splits=10, n_repeats=3, random_state=1)\n",
        "# evaluate model\n",
        "scores = cross_val_score(classifier_balanced_svm, X_test, y_test, scoring='roc_auc', cv=cv, n_jobs=-1)\n",
        "# summarize performance\n",
        "print('Mean ROC AUC: %.3f' % mean(scores))"
      ],
      "metadata": {
        "colab": {
          "base_uri": "https://localhost:8080/"
        },
        "id": "ot7W_Xo2LDV5",
        "outputId": "04aeab2b-4689-496c-d675-aeeef2aabfde"
      },
      "execution_count": null,
      "outputs": [
        {
          "output_type": "stream",
          "name": "stdout",
          "text": [
            "Classes that are being predicted: [0 1]\n",
            "Accuracy Score: 0.8818\n"
          ]
        }
      ]
    },
    {
      "cell_type": "code",
      "source": [
        "# View the classification report for test data and predictions\n",
        "\n",
        "print(classification_report(y_test, pred_y_balanced_svm))"
      ],
      "metadata": {
        "colab": {
          "base_uri": "https://localhost:8080/"
        },
        "id": "dIcHAdylcY_7",
        "outputId": "d3c67b36-479d-4c8a-b31a-54391a857020"
      },
      "execution_count": 29,
      "outputs": [
        {
          "output_type": "stream",
          "name": "stdout",
          "text": [
            "              precision    recall  f1-score   support\n",
            "\n",
            "           0       1.00      0.88      0.94     46721\n",
            "           1       0.04      0.81      0.08       292\n",
            "\n",
            "    accuracy                           0.88     47013\n",
            "   macro avg       0.52      0.85      0.51     47013\n",
            "weighted avg       0.99      0.88      0.93     47013\n",
            "\n"
          ]
        }
      ]
    },
    {
      "cell_type": "code",
      "source": [
        "# View confusion matrix for test data and predictions\n",
        "from sklearn.metrics import ConfusionMatrixDisplay\n",
        "_ = ConfusionMatrixDisplay.from_estimator(classifier_balanced_svm, X_test, y_test)"
      ],
      "metadata": {
        "colab": {
          "base_uri": "https://localhost:8080/",
          "height": 279
        },
        "id": "fmz5COv9c-A8",
        "outputId": "e8566d80-a3b9-4d75-a03a-e5055c03c78d"
      },
      "execution_count": 31,
      "outputs": [
        {
          "output_type": "display_data",
          "data": {
            "text/plain": [
              "<Figure size 432x288 with 2 Axes>"
            ],
            "image/png": "[encoded data removed]"
          },
          "metadata": {
            "needs_background": "light"
          }
        }
      ]
    },
    {
      "cell_type": "code",
      "source": [
        "feat_importances = pd.Series(classifier_balanced_svm.feature_importances_, index=X.columns)\n",
        "feat_importances.nlargest(15).plot(kind='barh')\n",
        "plt.title(\"Top 15 important features\")\n",
        "plt.show()"
      ],
      "metadata": {
        "id": "MxFyIBDG4rto",
        "outputId": "7aacfb89-1532-494e-ba29-626dd4bc6305",
        "colab": {
          "base_uri": "https://localhost:8080/",
          "height": 215
        }
      },
      "execution_count": 70,
      "outputs": [
        {
          "output_type": "error",
          "ename": "NameError",
          "evalue": "ignored",
          "traceback": [
            "\u001b[0;31m---------------------------------------------------------------------------\u001b[0m",
            "\u001b[0;31mNameError\u001b[0m                                 Traceback (most recent call last)",
            "\u001b[0;32m<ipython-input-70-7cb5455fbc47>\u001b[0m in \u001b[0;36m<module>\u001b[0;34m\u001b[0m\n\u001b[0;32m----> 1\u001b[0;31m \u001b[0mfeat_importances\u001b[0m \u001b[0;34m=\u001b[0m \u001b[0mpd\u001b[0m\u001b[0;34m.\u001b[0m\u001b[0mSeries\u001b[0m\u001b[0;34m(\u001b[0m\u001b[0mclassifier_balanced_svm\u001b[0m\u001b[0;34m.\u001b[0m\u001b[0mfeature_importances_\u001b[0m\u001b[0;34m,\u001b[0m \u001b[0mindex\u001b[0m\u001b[0;34m=\u001b[0m\u001b[0mX\u001b[0m\u001b[0;34m.\u001b[0m\u001b[0mcolumns\u001b[0m\u001b[0;34m)\u001b[0m\u001b[0;34m\u001b[0m\u001b[0;34m\u001b[0m\u001b[0m\n\u001b[0m\u001b[1;32m      2\u001b[0m \u001b[0mfeat_importances\u001b[0m\u001b[0;34m.\u001b[0m\u001b[0mnlargest\u001b[0m\u001b[0;34m(\u001b[0m\u001b[0;36m15\u001b[0m\u001b[0;34m)\u001b[0m\u001b[0;34m.\u001b[0m\u001b[0mplot\u001b[0m\u001b[0;34m(\u001b[0m\u001b[0mkind\u001b[0m\u001b[0;34m=\u001b[0m\u001b[0;34m'barh'\u001b[0m\u001b[0;34m)\u001b[0m\u001b[0;34m\u001b[0m\u001b[0;34m\u001b[0m\u001b[0m\n\u001b[1;32m      3\u001b[0m \u001b[0mplt\u001b[0m\u001b[0;34m.\u001b[0m\u001b[0mtitle\u001b[0m\u001b[0;34m(\u001b[0m\u001b[0;34m\"Top 15 important features\"\u001b[0m\u001b[0;34m)\u001b[0m\u001b[0;34m\u001b[0m\u001b[0;34m\u001b[0m\u001b[0m\n\u001b[1;32m      4\u001b[0m \u001b[0mplt\u001b[0m\u001b[0;34m.\u001b[0m\u001b[0mshow\u001b[0m\u001b[0;34m(\u001b[0m\u001b[0;34m)\u001b[0m\u001b[0;34m\u001b[0m\u001b[0;34m\u001b[0m\u001b[0m\n",
            "\u001b[0;31mNameError\u001b[0m: name 'classifier_balanced_svm' is not defined"
          ]
        }
      ]
    }
  ]
}
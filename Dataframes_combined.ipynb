{
  "cells": [
    {
      "cell_type": "markdown",
      "metadata": {
        "colab_type": "text",
        "id": "view-in-github"
      },
      "source": [
        "<a href=\"https://colab.research.google.com/github/Alvaroguijarro97/ML_Group_Project/blob/main/Dataframes_combined.ipynb\" target=\"_parent\"><img src=\"https://colab.research.google.com/assets/colab-badge.svg\" alt=\"Open In Colab\"/></a>"
      ]
    },
    {
      "cell_type": "markdown",
      "metadata": {
        "id": "QJ8mTdW_3MvL"
      },
      "source": [
        "# Combination of different Data Sets"
      ]
    },
    {
      "cell_type": "code",
      "execution_count": 2,
      "metadata": {
        "id": "bjSVHgQK3RBS"
      },
      "outputs": [],
      "source": [
        "# importing basic modules\n",
        "import pandas as pd\n",
        "import matplotlib.pylab as plt\n",
        "import numpy as np"
      ]
    },
    {
      "cell_type": "code",
      "execution_count": 3,
      "metadata": {
        "colab": {
          "base_uri": "https://localhost:8080/",
          "height": 73
        },
        "id": "Jd8g7DH_6ERN",
        "outputId": "f774abef-5f2f-4d34-bb50-c49ba7a91f10"
      },
      "outputs": [
        {
          "data": {
            "text/html": [
              "\n",
              "     <input type=\"file\" id=\"files-eefb9c01-3b4e-4d4b-8c5d-6d34ef902c7c\" name=\"files[]\" multiple disabled\n",
              "        style=\"border:none\" />\n",
              "     <output id=\"result-eefb9c01-3b4e-4d4b-8c5d-6d34ef902c7c\">\n",
              "      Upload widget is only available when the cell has been executed in the\n",
              "      current browser session. Please rerun this cell to enable.\n",
              "      </output>\n",
              "      <script>// Copyright 2017 Google LLC\n",
              "//\n",
              "// Licensed under the Apache License, Version 2.0 (the \"License\");\n",
              "// you may not use this file except in compliance with the License.\n",
              "// You may obtain a copy of the License at\n",
              "//\n",
              "//      http://www.apache.org/licenses/LICENSE-2.0\n",
              "//\n",
              "// Unless required by applicable law or agreed to in writing, software\n",
              "// distributed under the License is distributed on an \"AS IS\" BASIS,\n",
              "// WITHOUT WARRANTIES OR CONDITIONS OF ANY KIND, either express or implied.\n",
              "// See the License for the specific language governing permissions and\n",
              "// limitations under the License.\n",
              "\n",
              "/**\n",
              " * @fileoverview Helpers for google.colab Python module.\n",
              " */\n",
              "(function(scope) {\n",
              "function span(text, styleAttributes = {}) {\n",
              "  const element = document.createElement('span');\n",
              "  element.textContent = text;\n",
              "  for (const key of Object.keys(styleAttributes)) {\n",
              "    element.style[key] = styleAttributes[key];\n",
              "  }\n",
              "  return element;\n",
              "}\n",
              "\n",
              "// Max number of bytes which will be uploaded at a time.\n",
              "const MAX_PAYLOAD_SIZE = 100 * 1024;\n",
              "\n",
              "function _uploadFiles(inputId, outputId) {\n",
              "  const steps = uploadFilesStep(inputId, outputId);\n",
              "  const outputElement = document.getElementById(outputId);\n",
              "  // Cache steps on the outputElement to make it available for the next call\n",
              "  // to uploadFilesContinue from Python.\n",
              "  outputElement.steps = steps;\n",
              "\n",
              "  return _uploadFilesContinue(outputId);\n",
              "}\n",
              "\n",
              "// This is roughly an async generator (not supported in the browser yet),\n",
              "// where there are multiple asynchronous steps and the Python side is going\n",
              "// to poll for completion of each step.\n",
              "// This uses a Promise to block the python side on completion of each step,\n",
              "// then passes the result of the previous step as the input to the next step.\n",
              "function _uploadFilesContinue(outputId) {\n",
              "  const outputElement = document.getElementById(outputId);\n",
              "  const steps = outputElement.steps;\n",
              "\n",
              "  const next = steps.next(outputElement.lastPromiseValue);\n",
              "  return Promise.resolve(next.value.promise).then((value) => {\n",
              "    // Cache the last promise value to make it available to the next\n",
              "    // step of the generator.\n",
              "    outputElement.lastPromiseValue = value;\n",
              "    return next.value.response;\n",
              "  });\n",
              "}\n",
              "\n",
              "/**\n",
              " * Generator function which is called between each async step of the upload\n",
              " * process.\n",
              " * @param {string} inputId Element ID of the input file picker element.\n",
              " * @param {string} outputId Element ID of the output display.\n",
              " * @return {!Iterable<!Object>} Iterable of next steps.\n",
              " */\n",
              "function* uploadFilesStep(inputId, outputId) {\n",
              "  const inputElement = document.getElementById(inputId);\n",
              "  inputElement.disabled = false;\n",
              "\n",
              "  const outputElement = document.getElementById(outputId);\n",
              "  outputElement.innerHTML = '';\n",
              "\n",
              "  const pickedPromise = new Promise((resolve) => {\n",
              "    inputElement.addEventListener('change', (e) => {\n",
              "      resolve(e.target.files);\n",
              "    });\n",
              "  });\n",
              "\n",
              "  const cancel = document.createElement('button');\n",
              "  inputElement.parentElement.appendChild(cancel);\n",
              "  cancel.textContent = 'Cancel upload';\n",
              "  const cancelPromise = new Promise((resolve) => {\n",
              "    cancel.onclick = () => {\n",
              "      resolve(null);\n",
              "    };\n",
              "  });\n",
              "\n",
              "  // Wait for the user to pick the files.\n",
              "  const files = yield {\n",
              "    promise: Promise.race([pickedPromise, cancelPromise]),\n",
              "    response: {\n",
              "      action: 'starting',\n",
              "    }\n",
              "  };\n",
              "\n",
              "  cancel.remove();\n",
              "\n",
              "  // Disable the input element since further picks are not allowed.\n",
              "  inputElement.disabled = true;\n",
              "\n",
              "  if (!files) {\n",
              "    return {\n",
              "      response: {\n",
              "        action: 'complete',\n",
              "      }\n",
              "    };\n",
              "  }\n",
              "\n",
              "  for (const file of files) {\n",
              "    const li = document.createElement('li');\n",
              "    li.append(span(file.name, {fontWeight: 'bold'}));\n",
              "    li.append(span(\n",
              "        `(${file.type || 'n/a'}) - ${file.size} bytes, ` +\n",
              "        `last modified: ${\n",
              "            file.lastModifiedDate ? file.lastModifiedDate.toLocaleDateString() :\n",
              "                                    'n/a'} - `));\n",
              "    const percent = span('0% done');\n",
              "    li.appendChild(percent);\n",
              "\n",
              "    outputElement.appendChild(li);\n",
              "\n",
              "    const fileDataPromise = new Promise((resolve) => {\n",
              "      const reader = new FileReader();\n",
              "      reader.onload = (e) => {\n",
              "        resolve(e.target.result);\n",
              "      };\n",
              "      reader.readAsArrayBuffer(file);\n",
              "    });\n",
              "    // Wait for the data to be ready.\n",
              "    let fileData = yield {\n",
              "      promise: fileDataPromise,\n",
              "      response: {\n",
              "        action: 'continue',\n",
              "      }\n",
              "    };\n",
              "\n",
              "    // Use a chunked sending to avoid message size limits. See b/62115660.\n",
              "    let position = 0;\n",
              "    do {\n",
              "      const length = Math.min(fileData.byteLength - position, MAX_PAYLOAD_SIZE);\n",
              "      const chunk = new Uint8Array(fileData, position, length);\n",
              "      position += length;\n",
              "\n",
              "      const base64 = btoa(String.fromCharCode.apply(null, chunk));\n",
              "      yield {\n",
              "        response: {\n",
              "          action: 'append',\n",
              "          file: file.name,\n",
              "          data: base64,\n",
              "        },\n",
              "      };\n",
              "\n",
              "      let percentDone = fileData.byteLength === 0 ?\n",
              "          100 :\n",
              "          Math.round((position / fileData.byteLength) * 100);\n",
              "      percent.textContent = `${percentDone}% done`;\n",
              "\n",
              "    } while (position < fileData.byteLength);\n",
              "  }\n",
              "\n",
              "  // All done.\n",
              "  yield {\n",
              "    response: {\n",
              "      action: 'complete',\n",
              "    }\n",
              "  };\n",
              "}\n",
              "\n",
              "scope.google = scope.google || {};\n",
              "scope.google.colab = scope.google.colab || {};\n",
              "scope.google.colab._files = {\n",
              "  _uploadFiles,\n",
              "  _uploadFilesContinue,\n",
              "};\n",
              "})(self);\n",
              "</script> "
            ],
            "text/plain": [
              "<IPython.core.display.HTML object>"
            ]
          },
          "metadata": {},
          "output_type": "display_data"
        },
        {
          "name": "stdout",
          "output_type": "stream",
          "text": [
            "Saving foreign_data_by_state_sorted.csv to foreign_data_by_state_sorted.csv\n"
          ]
        }
      ],
      "source": [
        "# import file \"foreign_data_by_state_sorted.csv\"\n",
        "from google.colab import files\n",
        "uploaded = files.upload()"
      ]
    },
    {
      "cell_type": "code",
      "execution_count": 4,
      "metadata": {
        "id": "wYkFg8YM6-rL"
      },
      "outputs": [],
      "source": [
        "import io\n",
        "foreign_data_complete = pd.read_csv(io.BytesIO(uploaded['foreign_data_by_state_sorted.csv']), encoding=\"windows_1258\")\n",
        "\n",
        "foreign_data_complete = foreign_data_complete.drop([0])\n",
        "\n",
        "foreign_data_complete = foreign_data_complete.rename(\n",
        "    columns={\n",
        "        \"Foreign_Population\": \"Foreign_Population.0\",\n",
        "        \"Country_Score\": \"Country_Score.0\",\n",
        "        \"Country\": \"Country.0\"\n",
        "        },\n",
        "    index={\n",
        "        1: \"Baden-Württemberg\",\n",
        "        2: \"Bavaria\",\n",
        "        3: \"Berlin\",\n",
        "        4: \"Brandenburg\",\n",
        "        5: \"Bremen\",\n",
        "        6: \"Hamburg\",\n",
        "        7: \"Hesse\",\n",
        "        8: \"Mecklenburg Western Pomerania\",\n",
        "        9: \"Lower Saxony\",\n",
        "        10: \"Northrhine-Westphalia\",\n",
        "        11: \"Rhineland Palatinate\",\n",
        "        12: \"Saarland\",\n",
        "        13: \"Sachsen\",\n",
        "        14: \"Sachsen-Anhalt\",\n",
        "        15: \"Schleswig-Holstein\",\n",
        "        16: \"Thuringia\"\n",
        "        }\n",
        "        )"
      ]
    },
    {
      "cell_type": "code",
      "execution_count": 5,
      "metadata": {
        "colab": {
          "base_uri": "https://localhost:8080/",
          "height": 73
        },
        "id": "7Ru_rvua6E2G",
        "outputId": "e8934908-69d3-4a43-8837-2ad0bf33e90b"
      },
      "outputs": [
        {
          "data": {
            "text/html": [
              "\n",
              "     <input type=\"file\" id=\"files-709f7a3e-58ef-463b-8585-11f91858279e\" name=\"files[]\" multiple disabled\n",
              "        style=\"border:none\" />\n",
              "     <output id=\"result-709f7a3e-58ef-463b-8585-11f91858279e\">\n",
              "      Upload widget is only available when the cell has been executed in the\n",
              "      current browser session. Please rerun this cell to enable.\n",
              "      </output>\n",
              "      <script>// Copyright 2017 Google LLC\n",
              "//\n",
              "// Licensed under the Apache License, Version 2.0 (the \"License\");\n",
              "// you may not use this file except in compliance with the License.\n",
              "// You may obtain a copy of the License at\n",
              "//\n",
              "//      http://www.apache.org/licenses/LICENSE-2.0\n",
              "//\n",
              "// Unless required by applicable law or agreed to in writing, software\n",
              "// distributed under the License is distributed on an \"AS IS\" BASIS,\n",
              "// WITHOUT WARRANTIES OR CONDITIONS OF ANY KIND, either express or implied.\n",
              "// See the License for the specific language governing permissions and\n",
              "// limitations under the License.\n",
              "\n",
              "/**\n",
              " * @fileoverview Helpers for google.colab Python module.\n",
              " */\n",
              "(function(scope) {\n",
              "function span(text, styleAttributes = {}) {\n",
              "  const element = document.createElement('span');\n",
              "  element.textContent = text;\n",
              "  for (const key of Object.keys(styleAttributes)) {\n",
              "    element.style[key] = styleAttributes[key];\n",
              "  }\n",
              "  return element;\n",
              "}\n",
              "\n",
              "// Max number of bytes which will be uploaded at a time.\n",
              "const MAX_PAYLOAD_SIZE = 100 * 1024;\n",
              "\n",
              "function _uploadFiles(inputId, outputId) {\n",
              "  const steps = uploadFilesStep(inputId, outputId);\n",
              "  const outputElement = document.getElementById(outputId);\n",
              "  // Cache steps on the outputElement to make it available for the next call\n",
              "  // to uploadFilesContinue from Python.\n",
              "  outputElement.steps = steps;\n",
              "\n",
              "  return _uploadFilesContinue(outputId);\n",
              "}\n",
              "\n",
              "// This is roughly an async generator (not supported in the browser yet),\n",
              "// where there are multiple asynchronous steps and the Python side is going\n",
              "// to poll for completion of each step.\n",
              "// This uses a Promise to block the python side on completion of each step,\n",
              "// then passes the result of the previous step as the input to the next step.\n",
              "function _uploadFilesContinue(outputId) {\n",
              "  const outputElement = document.getElementById(outputId);\n",
              "  const steps = outputElement.steps;\n",
              "\n",
              "  const next = steps.next(outputElement.lastPromiseValue);\n",
              "  return Promise.resolve(next.value.promise).then((value) => {\n",
              "    // Cache the last promise value to make it available to the next\n",
              "    // step of the generator.\n",
              "    outputElement.lastPromiseValue = value;\n",
              "    return next.value.response;\n",
              "  });\n",
              "}\n",
              "\n",
              "/**\n",
              " * Generator function which is called between each async step of the upload\n",
              " * process.\n",
              " * @param {string} inputId Element ID of the input file picker element.\n",
              " * @param {string} outputId Element ID of the output display.\n",
              " * @return {!Iterable<!Object>} Iterable of next steps.\n",
              " */\n",
              "function* uploadFilesStep(inputId, outputId) {\n",
              "  const inputElement = document.getElementById(inputId);\n",
              "  inputElement.disabled = false;\n",
              "\n",
              "  const outputElement = document.getElementById(outputId);\n",
              "  outputElement.innerHTML = '';\n",
              "\n",
              "  const pickedPromise = new Promise((resolve) => {\n",
              "    inputElement.addEventListener('change', (e) => {\n",
              "      resolve(e.target.files);\n",
              "    });\n",
              "  });\n",
              "\n",
              "  const cancel = document.createElement('button');\n",
              "  inputElement.parentElement.appendChild(cancel);\n",
              "  cancel.textContent = 'Cancel upload';\n",
              "  const cancelPromise = new Promise((resolve) => {\n",
              "    cancel.onclick = () => {\n",
              "      resolve(null);\n",
              "    };\n",
              "  });\n",
              "\n",
              "  // Wait for the user to pick the files.\n",
              "  const files = yield {\n",
              "    promise: Promise.race([pickedPromise, cancelPromise]),\n",
              "    response: {\n",
              "      action: 'starting',\n",
              "    }\n",
              "  };\n",
              "\n",
              "  cancel.remove();\n",
              "\n",
              "  // Disable the input element since further picks are not allowed.\n",
              "  inputElement.disabled = true;\n",
              "\n",
              "  if (!files) {\n",
              "    return {\n",
              "      response: {\n",
              "        action: 'complete',\n",
              "      }\n",
              "    };\n",
              "  }\n",
              "\n",
              "  for (const file of files) {\n",
              "    const li = document.createElement('li');\n",
              "    li.append(span(file.name, {fontWeight: 'bold'}));\n",
              "    li.append(span(\n",
              "        `(${file.type || 'n/a'}) - ${file.size} bytes, ` +\n",
              "        `last modified: ${\n",
              "            file.lastModifiedDate ? file.lastModifiedDate.toLocaleDateString() :\n",
              "                                    'n/a'} - `));\n",
              "    const percent = span('0% done');\n",
              "    li.appendChild(percent);\n",
              "\n",
              "    outputElement.appendChild(li);\n",
              "\n",
              "    const fileDataPromise = new Promise((resolve) => {\n",
              "      const reader = new FileReader();\n",
              "      reader.onload = (e) => {\n",
              "        resolve(e.target.result);\n",
              "      };\n",
              "      reader.readAsArrayBuffer(file);\n",
              "    });\n",
              "    // Wait for the data to be ready.\n",
              "    let fileData = yield {\n",
              "      promise: fileDataPromise,\n",
              "      response: {\n",
              "        action: 'continue',\n",
              "      }\n",
              "    };\n",
              "\n",
              "    // Use a chunked sending to avoid message size limits. See b/62115660.\n",
              "    let position = 0;\n",
              "    do {\n",
              "      const length = Math.min(fileData.byteLength - position, MAX_PAYLOAD_SIZE);\n",
              "      const chunk = new Uint8Array(fileData, position, length);\n",
              "      position += length;\n",
              "\n",
              "      const base64 = btoa(String.fromCharCode.apply(null, chunk));\n",
              "      yield {\n",
              "        response: {\n",
              "          action: 'append',\n",
              "          file: file.name,\n",
              "          data: base64,\n",
              "        },\n",
              "      };\n",
              "\n",
              "      let percentDone = fileData.byteLength === 0 ?\n",
              "          100 :\n",
              "          Math.round((position / fileData.byteLength) * 100);\n",
              "      percent.textContent = `${percentDone}% done`;\n",
              "\n",
              "    } while (position < fileData.byteLength);\n",
              "  }\n",
              "\n",
              "  // All done.\n",
              "  yield {\n",
              "    response: {\n",
              "      action: 'complete',\n",
              "    }\n",
              "  };\n",
              "}\n",
              "\n",
              "scope.google = scope.google || {};\n",
              "scope.google.colab = scope.google.colab || {};\n",
              "scope.google.colab._files = {\n",
              "  _uploadFiles,\n",
              "  _uploadFilesContinue,\n",
              "};\n",
              "})(self);\n",
              "</script> "
            ],
            "text/plain": [
              "<IPython.core.display.HTML object>"
            ]
          },
          "metadata": {},
          "output_type": "display_data"
        },
        {
          "name": "stdout",
          "output_type": "stream",
          "text": [
            "Saving migrant_background_data_by_state_sorted.csv to migrant_background_data_by_state_sorted.csv\n"
          ]
        }
      ],
      "source": [
        "# import file \"migrant_background_data_by_state_sorted\"\n",
        "from google.colab import files\n",
        "uploaded = files.upload()"
      ]
    },
    {
      "cell_type": "code",
      "execution_count": 6,
      "metadata": {
        "id": "j26dAY__MYWP"
      },
      "outputs": [],
      "source": [
        "import io\n",
        "migrant_background_data_complete = pd.read_csv(io.BytesIO(uploaded['migrant_background_data_by_state_sorted.csv']), encoding=\"windows_1258\")\n",
        "\n",
        "migrant_background_data_complete = migrant_background_data_complete.drop([0])\n",
        "\n",
        "migrant_background_data_complete = migrant_background_data_complete.rename(\n",
        "    columns={\n",
        "        \"Population with migrant background\": \"Population with migrant background.0\",\n",
        "        \"Country_Score\": \"Country_Score.0\",\n",
        "        \"Country\": \"Country.0\"\n",
        "        },\n",
        "    index={\n",
        "        1: \"Baden-Württemberg\",\n",
        "        2: \"Bavaria\",\n",
        "        3: \"Berlin\",\n",
        "        4: \"Brandenburg\",\n",
        "        5: \"Bremen\",\n",
        "        6: \"Hamburg\",\n",
        "        7: \"Hesse\",\n",
        "        8: \"Mecklenburg Western Pomerania\",\n",
        "        9: \"Lower Saxony\",\n",
        "        10: \"Northrhine-Westphalia\",\n",
        "        11: \"Rhineland Palatinate\",\n",
        "        12: \"Saarland\",\n",
        "        13: \"Sachsen\",\n",
        "        14: \"Sachsen-Anhalt\",\n",
        "        15: \"Schleswig-Holstein\",\n",
        "        16: \"Thuringia\"\n",
        "        }\n",
        "        )"
      ]
    },
    {
      "cell_type": "code",
      "execution_count": 7,
      "metadata": {
        "colab": {
          "base_uri": "https://localhost:8080/",
          "height": 73
        },
        "id": "j0I2Gp_GZ5Wp",
        "outputId": "ebff8440-8b35-4e32-af9c-c6a68544d021"
      },
      "outputs": [
        {
          "data": {
            "text/html": [
              "\n",
              "     <input type=\"file\" id=\"files-acf0a1f6-52c9-4389-9be5-6e355ba70350\" name=\"files[]\" multiple disabled\n",
              "        style=\"border:none\" />\n",
              "     <output id=\"result-acf0a1f6-52c9-4389-9be5-6e355ba70350\">\n",
              "      Upload widget is only available when the cell has been executed in the\n",
              "      current browser session. Please rerun this cell to enable.\n",
              "      </output>\n",
              "      <script>// Copyright 2017 Google LLC\n",
              "//\n",
              "// Licensed under the Apache License, Version 2.0 (the \"License\");\n",
              "// you may not use this file except in compliance with the License.\n",
              "// You may obtain a copy of the License at\n",
              "//\n",
              "//      http://www.apache.org/licenses/LICENSE-2.0\n",
              "//\n",
              "// Unless required by applicable law or agreed to in writing, software\n",
              "// distributed under the License is distributed on an \"AS IS\" BASIS,\n",
              "// WITHOUT WARRANTIES OR CONDITIONS OF ANY KIND, either express or implied.\n",
              "// See the License for the specific language governing permissions and\n",
              "// limitations under the License.\n",
              "\n",
              "/**\n",
              " * @fileoverview Helpers for google.colab Python module.\n",
              " */\n",
              "(function(scope) {\n",
              "function span(text, styleAttributes = {}) {\n",
              "  const element = document.createElement('span');\n",
              "  element.textContent = text;\n",
              "  for (const key of Object.keys(styleAttributes)) {\n",
              "    element.style[key] = styleAttributes[key];\n",
              "  }\n",
              "  return element;\n",
              "}\n",
              "\n",
              "// Max number of bytes which will be uploaded at a time.\n",
              "const MAX_PAYLOAD_SIZE = 100 * 1024;\n",
              "\n",
              "function _uploadFiles(inputId, outputId) {\n",
              "  const steps = uploadFilesStep(inputId, outputId);\n",
              "  const outputElement = document.getElementById(outputId);\n",
              "  // Cache steps on the outputElement to make it available for the next call\n",
              "  // to uploadFilesContinue from Python.\n",
              "  outputElement.steps = steps;\n",
              "\n",
              "  return _uploadFilesContinue(outputId);\n",
              "}\n",
              "\n",
              "// This is roughly an async generator (not supported in the browser yet),\n",
              "// where there are multiple asynchronous steps and the Python side is going\n",
              "// to poll for completion of each step.\n",
              "// This uses a Promise to block the python side on completion of each step,\n",
              "// then passes the result of the previous step as the input to the next step.\n",
              "function _uploadFilesContinue(outputId) {\n",
              "  const outputElement = document.getElementById(outputId);\n",
              "  const steps = outputElement.steps;\n",
              "\n",
              "  const next = steps.next(outputElement.lastPromiseValue);\n",
              "  return Promise.resolve(next.value.promise).then((value) => {\n",
              "    // Cache the last promise value to make it available to the next\n",
              "    // step of the generator.\n",
              "    outputElement.lastPromiseValue = value;\n",
              "    return next.value.response;\n",
              "  });\n",
              "}\n",
              "\n",
              "/**\n",
              " * Generator function which is called between each async step of the upload\n",
              " * process.\n",
              " * @param {string} inputId Element ID of the input file picker element.\n",
              " * @param {string} outputId Element ID of the output display.\n",
              " * @return {!Iterable<!Object>} Iterable of next steps.\n",
              " */\n",
              "function* uploadFilesStep(inputId, outputId) {\n",
              "  const inputElement = document.getElementById(inputId);\n",
              "  inputElement.disabled = false;\n",
              "\n",
              "  const outputElement = document.getElementById(outputId);\n",
              "  outputElement.innerHTML = '';\n",
              "\n",
              "  const pickedPromise = new Promise((resolve) => {\n",
              "    inputElement.addEventListener('change', (e) => {\n",
              "      resolve(e.target.files);\n",
              "    });\n",
              "  });\n",
              "\n",
              "  const cancel = document.createElement('button');\n",
              "  inputElement.parentElement.appendChild(cancel);\n",
              "  cancel.textContent = 'Cancel upload';\n",
              "  const cancelPromise = new Promise((resolve) => {\n",
              "    cancel.onclick = () => {\n",
              "      resolve(null);\n",
              "    };\n",
              "  });\n",
              "\n",
              "  // Wait for the user to pick the files.\n",
              "  const files = yield {\n",
              "    promise: Promise.race([pickedPromise, cancelPromise]),\n",
              "    response: {\n",
              "      action: 'starting',\n",
              "    }\n",
              "  };\n",
              "\n",
              "  cancel.remove();\n",
              "\n",
              "  // Disable the input element since further picks are not allowed.\n",
              "  inputElement.disabled = true;\n",
              "\n",
              "  if (!files) {\n",
              "    return {\n",
              "      response: {\n",
              "        action: 'complete',\n",
              "      }\n",
              "    };\n",
              "  }\n",
              "\n",
              "  for (const file of files) {\n",
              "    const li = document.createElement('li');\n",
              "    li.append(span(file.name, {fontWeight: 'bold'}));\n",
              "    li.append(span(\n",
              "        `(${file.type || 'n/a'}) - ${file.size} bytes, ` +\n",
              "        `last modified: ${\n",
              "            file.lastModifiedDate ? file.lastModifiedDate.toLocaleDateString() :\n",
              "                                    'n/a'} - `));\n",
              "    const percent = span('0% done');\n",
              "    li.appendChild(percent);\n",
              "\n",
              "    outputElement.appendChild(li);\n",
              "\n",
              "    const fileDataPromise = new Promise((resolve) => {\n",
              "      const reader = new FileReader();\n",
              "      reader.onload = (e) => {\n",
              "        resolve(e.target.result);\n",
              "      };\n",
              "      reader.readAsArrayBuffer(file);\n",
              "    });\n",
              "    // Wait for the data to be ready.\n",
              "    let fileData = yield {\n",
              "      promise: fileDataPromise,\n",
              "      response: {\n",
              "        action: 'continue',\n",
              "      }\n",
              "    };\n",
              "\n",
              "    // Use a chunked sending to avoid message size limits. See b/62115660.\n",
              "    let position = 0;\n",
              "    do {\n",
              "      const length = Math.min(fileData.byteLength - position, MAX_PAYLOAD_SIZE);\n",
              "      const chunk = new Uint8Array(fileData, position, length);\n",
              "      position += length;\n",
              "\n",
              "      const base64 = btoa(String.fromCharCode.apply(null, chunk));\n",
              "      yield {\n",
              "        response: {\n",
              "          action: 'append',\n",
              "          file: file.name,\n",
              "          data: base64,\n",
              "        },\n",
              "      };\n",
              "\n",
              "      let percentDone = fileData.byteLength === 0 ?\n",
              "          100 :\n",
              "          Math.round((position / fileData.byteLength) * 100);\n",
              "      percent.textContent = `${percentDone}% done`;\n",
              "\n",
              "    } while (position < fileData.byteLength);\n",
              "  }\n",
              "\n",
              "  // All done.\n",
              "  yield {\n",
              "    response: {\n",
              "      action: 'complete',\n",
              "    }\n",
              "  };\n",
              "}\n",
              "\n",
              "scope.google = scope.google || {};\n",
              "scope.google.colab = scope.google.colab || {};\n",
              "scope.google.colab._files = {\n",
              "  _uploadFiles,\n",
              "  _uploadFilesContinue,\n",
              "};\n",
              "})(self);\n",
              "</script> "
            ],
            "text/plain": [
              "<IPython.core.display.HTML object>"
            ]
          },
          "metadata": {},
          "output_type": "display_data"
        },
        {
          "name": "stdout",
          "output_type": "stream",
          "text": [
            "Saving geographical_data_by_state_sorted.csv to geographical_data_by_state_sorted.csv\n"
          ]
        }
      ],
      "source": [
        "# import file \"geographical_data_by_state_sorted\"\n",
        "from google.colab import files\n",
        "uploaded = files.upload()"
      ]
    },
    {
      "cell_type": "code",
      "execution_count": 8,
      "metadata": {
        "id": "5qTxMnZnaFwn"
      },
      "outputs": [],
      "source": [
        "import io\n",
        "geography_data_complete = pd.read_csv(io.BytesIO(uploaded['geographical_data_by_state_sorted.csv']), encoding=\"windows_1258\")\n",
        "geography_data_complete = geography_data_complete.drop([0])\n",
        "\n",
        "geography_data_complete = geography_data_complete.rename(\n",
        "    columns={\n",
        "        \"Distance\": \"Distance.0\",\n",
        "        \"Country_Score\": \"Country_Score.0\",\n",
        "        \"Country\": \"Country.0\"\n",
        "        },\n",
        "    index={\n",
        "        1: \"Baden-Württemberg\",\n",
        "        2: \"Bavaria\",\n",
        "        3: \"Berlin\",\n",
        "        4: \"Brandenburg\",\n",
        "        5: \"Bremen\",\n",
        "        6: \"Hamburg\",\n",
        "        7: \"Hesse\",\n",
        "        8: \"Mecklenburg Western Pomerania\",\n",
        "        9: \"Lower Saxony\",\n",
        "        10: \"Northrhine-Westphalia\",\n",
        "        11: \"Rhineland Palatinate\",\n",
        "        12: \"Saarland\",\n",
        "        13: \"Sachsen\",\n",
        "        14: \"Sachsen-Anhalt\",\n",
        "        15: \"Schleswig-Holstein\",\n",
        "        16: \"Thuringia\"\n",
        "        }\n",
        "        )"
      ]
    },
    {
      "cell_type": "code",
      "execution_count": 9,
      "metadata": {
        "id": "pumdC0SV5Xti"
      },
      "outputs": [],
      "source": [
        "blank_df = pd.DataFrame(\n",
        "    {\n",
        "    \"Baden-Württemberg\": [],\n",
        "    \"Bavaria\": [],\n",
        "    \"Berlin\": [],\n",
        "    \"Brandenburg\": [],\n",
        "    \"Bremen\": [],\n",
        "    \"Hamburg\": [],\n",
        "    \"Hesse\": [],\n",
        "    \"Mecklenburg Western Pomerania\": [],\n",
        "    \"Lower Saxony\": [],\n",
        "    \"Northrhine-Westphalia\": [],\n",
        "    \"Rhineland Palatinate\": [],\n",
        "    \"Saarland\": [],\n",
        "    \"Sachsen\": [],\n",
        "    \"Sachsen-Anhalt\": [],\n",
        "    \"Schleswig-Holstein\": [],\n",
        "    \"Thuringia\": []\n",
        "    }\n",
        ")\n",
        "\n",
        "blank_df = blank_df.T"
      ]
    },
    {
      "cell_type": "code",
      "execution_count": 10,
      "metadata": {
        "id": "U3u9ZjEc3Lg_"
      },
      "outputs": [],
      "source": [
        "central_table_renamed_filtered_1 = blank_df.join(migrant_background_data_complete, rsuffix='_migrant')\n",
        "central_table_renamed_filtered_1 = central_table_renamed_filtered_1.add_suffix('_migrant')\n",
        "\n",
        "central_table_renamed_filtered_2 = blank_df.join(foreign_data_complete, rsuffix='_foreign')\n",
        "central_table_renamed_filtered_2 = central_table_renamed_filtered_2.add_suffix('_foreign')\n",
        "\n",
        "central_table_renamed_filtered_3 = blank_df.join(geography_data_complete, rsuffix='_geography')\n",
        "central_table_renamed_filtered_3 = central_table_renamed_filtered_3.add_suffix('_geography')\n",
        "\n",
        "central_table_migrant_background_foreign = central_table_renamed_filtered_1.join(central_table_renamed_filtered_2)\n",
        "\n",
        "central_table_migrant_background_foreign_geography = central_table_migrant_background_foreign.join(central_table_renamed_filtered_3)"
      ]
    },
    {
      "cell_type": "code",
      "execution_count": 11,
      "metadata": {
        "colab": {
          "base_uri": "https://localhost:8080/",
          "height": 73
        },
        "id": "jLGErWOkcn_R",
        "outputId": "5fb3af4c-3c99-464f-9f28-e55be8517455"
      },
      "outputs": [
        {
          "data": {
            "text/html": [
              "\n",
              "     <input type=\"file\" id=\"files-71323da7-ecd8-449f-aa3a-0c2cb379fb45\" name=\"files[]\" multiple disabled\n",
              "        style=\"border:none\" />\n",
              "     <output id=\"result-71323da7-ecd8-449f-aa3a-0c2cb379fb45\">\n",
              "      Upload widget is only available when the cell has been executed in the\n",
              "      current browser session. Please rerun this cell to enable.\n",
              "      </output>\n",
              "      <script>// Copyright 2017 Google LLC\n",
              "//\n",
              "// Licensed under the Apache License, Version 2.0 (the \"License\");\n",
              "// you may not use this file except in compliance with the License.\n",
              "// You may obtain a copy of the License at\n",
              "//\n",
              "//      http://www.apache.org/licenses/LICENSE-2.0\n",
              "//\n",
              "// Unless required by applicable law or agreed to in writing, software\n",
              "// distributed under the License is distributed on an \"AS IS\" BASIS,\n",
              "// WITHOUT WARRANTIES OR CONDITIONS OF ANY KIND, either express or implied.\n",
              "// See the License for the specific language governing permissions and\n",
              "// limitations under the License.\n",
              "\n",
              "/**\n",
              " * @fileoverview Helpers for google.colab Python module.\n",
              " */\n",
              "(function(scope) {\n",
              "function span(text, styleAttributes = {}) {\n",
              "  const element = document.createElement('span');\n",
              "  element.textContent = text;\n",
              "  for (const key of Object.keys(styleAttributes)) {\n",
              "    element.style[key] = styleAttributes[key];\n",
              "  }\n",
              "  return element;\n",
              "}\n",
              "\n",
              "// Max number of bytes which will be uploaded at a time.\n",
              "const MAX_PAYLOAD_SIZE = 100 * 1024;\n",
              "\n",
              "function _uploadFiles(inputId, outputId) {\n",
              "  const steps = uploadFilesStep(inputId, outputId);\n",
              "  const outputElement = document.getElementById(outputId);\n",
              "  // Cache steps on the outputElement to make it available for the next call\n",
              "  // to uploadFilesContinue from Python.\n",
              "  outputElement.steps = steps;\n",
              "\n",
              "  return _uploadFilesContinue(outputId);\n",
              "}\n",
              "\n",
              "// This is roughly an async generator (not supported in the browser yet),\n",
              "// where there are multiple asynchronous steps and the Python side is going\n",
              "// to poll for completion of each step.\n",
              "// This uses a Promise to block the python side on completion of each step,\n",
              "// then passes the result of the previous step as the input to the next step.\n",
              "function _uploadFilesContinue(outputId) {\n",
              "  const outputElement = document.getElementById(outputId);\n",
              "  const steps = outputElement.steps;\n",
              "\n",
              "  const next = steps.next(outputElement.lastPromiseValue);\n",
              "  return Promise.resolve(next.value.promise).then((value) => {\n",
              "    // Cache the last promise value to make it available to the next\n",
              "    // step of the generator.\n",
              "    outputElement.lastPromiseValue = value;\n",
              "    return next.value.response;\n",
              "  });\n",
              "}\n",
              "\n",
              "/**\n",
              " * Generator function which is called between each async step of the upload\n",
              " * process.\n",
              " * @param {string} inputId Element ID of the input file picker element.\n",
              " * @param {string} outputId Element ID of the output display.\n",
              " * @return {!Iterable<!Object>} Iterable of next steps.\n",
              " */\n",
              "function* uploadFilesStep(inputId, outputId) {\n",
              "  const inputElement = document.getElementById(inputId);\n",
              "  inputElement.disabled = false;\n",
              "\n",
              "  const outputElement = document.getElementById(outputId);\n",
              "  outputElement.innerHTML = '';\n",
              "\n",
              "  const pickedPromise = new Promise((resolve) => {\n",
              "    inputElement.addEventListener('change', (e) => {\n",
              "      resolve(e.target.files);\n",
              "    });\n",
              "  });\n",
              "\n",
              "  const cancel = document.createElement('button');\n",
              "  inputElement.parentElement.appendChild(cancel);\n",
              "  cancel.textContent = 'Cancel upload';\n",
              "  const cancelPromise = new Promise((resolve) => {\n",
              "    cancel.onclick = () => {\n",
              "      resolve(null);\n",
              "    };\n",
              "  });\n",
              "\n",
              "  // Wait for the user to pick the files.\n",
              "  const files = yield {\n",
              "    promise: Promise.race([pickedPromise, cancelPromise]),\n",
              "    response: {\n",
              "      action: 'starting',\n",
              "    }\n",
              "  };\n",
              "\n",
              "  cancel.remove();\n",
              "\n",
              "  // Disable the input element since further picks are not allowed.\n",
              "  inputElement.disabled = true;\n",
              "\n",
              "  if (!files) {\n",
              "    return {\n",
              "      response: {\n",
              "        action: 'complete',\n",
              "      }\n",
              "    };\n",
              "  }\n",
              "\n",
              "  for (const file of files) {\n",
              "    const li = document.createElement('li');\n",
              "    li.append(span(file.name, {fontWeight: 'bold'}));\n",
              "    li.append(span(\n",
              "        `(${file.type || 'n/a'}) - ${file.size} bytes, ` +\n",
              "        `last modified: ${\n",
              "            file.lastModifiedDate ? file.lastModifiedDate.toLocaleDateString() :\n",
              "                                    'n/a'} - `));\n",
              "    const percent = span('0% done');\n",
              "    li.appendChild(percent);\n",
              "\n",
              "    outputElement.appendChild(li);\n",
              "\n",
              "    const fileDataPromise = new Promise((resolve) => {\n",
              "      const reader = new FileReader();\n",
              "      reader.onload = (e) => {\n",
              "        resolve(e.target.result);\n",
              "      };\n",
              "      reader.readAsArrayBuffer(file);\n",
              "    });\n",
              "    // Wait for the data to be ready.\n",
              "    let fileData = yield {\n",
              "      promise: fileDataPromise,\n",
              "      response: {\n",
              "        action: 'continue',\n",
              "      }\n",
              "    };\n",
              "\n",
              "    // Use a chunked sending to avoid message size limits. See b/62115660.\n",
              "    let position = 0;\n",
              "    do {\n",
              "      const length = Math.min(fileData.byteLength - position, MAX_PAYLOAD_SIZE);\n",
              "      const chunk = new Uint8Array(fileData, position, length);\n",
              "      position += length;\n",
              "\n",
              "      const base64 = btoa(String.fromCharCode.apply(null, chunk));\n",
              "      yield {\n",
              "        response: {\n",
              "          action: 'append',\n",
              "          file: file.name,\n",
              "          data: base64,\n",
              "        },\n",
              "      };\n",
              "\n",
              "      let percentDone = fileData.byteLength === 0 ?\n",
              "          100 :\n",
              "          Math.round((position / fileData.byteLength) * 100);\n",
              "      percent.textContent = `${percentDone}% done`;\n",
              "\n",
              "    } while (position < fileData.byteLength);\n",
              "  }\n",
              "\n",
              "  // All done.\n",
              "  yield {\n",
              "    response: {\n",
              "      action: 'complete',\n",
              "    }\n",
              "  };\n",
              "}\n",
              "\n",
              "scope.google = scope.google || {};\n",
              "scope.google.colab = scope.google.colab || {};\n",
              "scope.google.colab._files = {\n",
              "  _uploadFiles,\n",
              "  _uploadFilesContinue,\n",
              "};\n",
              "})(self);\n",
              "</script> "
            ],
            "text/plain": [
              "<IPython.core.display.HTML object>"
            ]
          },
          "metadata": {},
          "output_type": "display_data"
        },
        {
          "name": "stdout",
          "output_type": "stream",
          "text": [
            "Saving Data_Abortion_state.csv to Data_Abortion_state.csv\n"
          ]
        }
      ],
      "source": [
        "#Upload Data_Abortion_state.csv\n",
        "from google.colab import files\n",
        "uploaded = files.upload()"
      ]
    },
    {
      "cell_type": "code",
      "execution_count": 12,
      "metadata": {
        "id": "oziFkIvFcrUy"
      },
      "outputs": [],
      "source": [
        "import io\n",
        "df_abortion_state = pd.read_csv(io.BytesIO(uploaded['Data_Abortion_state.csv']) ,encoding=\"windows_1258\")\n",
        "df_abortion_state = df_abortion_state.rename(index = {\n",
        "    0: 'Baden-Württemberg',\n",
        "    1: 'Bavaria',\n",
        "    2: 'Berlin',\n",
        "    3: 'Brandenburg',\n",
        "    4: 'Bremen',\n",
        "    5: 'Hamburg',\n",
        "    6: 'Hesse',\n",
        "    7: 'Mecklenburg Western Pomerania',\n",
        "    8: 'Lower Saxony',\n",
        "    9: 'Northrhine-Westphalia',\n",
        "    10: 'Rhineland Palatinate',\n",
        "    11: 'Saarland',\n",
        "    12: 'Sachsen',\n",
        "    13: 'Sachsen-Anhalt',\n",
        "    14: 'Schleswig-Holstein',\n",
        "    15: 'Thuringia'},\n",
        "  columns = {\n",
        "       \"Ausland\" : \"Foreign\"\n",
        "       }\n",
        "    )"
      ]
    },
    {
      "cell_type": "code",
      "execution_count": 13,
      "metadata": {
        "id": "O8Zdf967cz3R"
      },
      "outputs": [],
      "source": [
        "column_names = list(df_abortion_state.columns)\n",
        "df_abortion_total = df_abortion_state.convert_dtypes()\n",
        "df_abortion_total['Germans_total']= df_abortion_state[column_names[:-1]].sum(axis=1)\n",
        "df_abortion_total = df_abortion_total.rename(index={\n",
        "    0: 'Baden-Württemberg',\n",
        "    1: 'Bavaria',\n",
        "    2: 'Berlin',\n",
        "    3: 'Brandenburg',\n",
        "    4: 'Bremen',\n",
        "    5: 'Hamburg',\n",
        "    6: 'Hesse',\n",
        "    7: 'Mecklenburg Western Pomerania',\n",
        "    8: 'Lower Saxony',\n",
        "    9: 'Northrhine-Westphalia',\n",
        "    10: 'Rhineland Palatinate',\n",
        "    11: 'Saarland',\n",
        "    12: 'Sachsen',\n",
        "    13: 'Sachsen-Anhalt',\n",
        "    14: 'Schleswig-Holstein',\n",
        "    15: 'Thuringia'}\n",
        "    )\n",
        "df_abortion_total = df_abortion_total.filter(items = [\"Foreign\", \"Germans_total\"])\n",
        "df_abortion_total = df_abortion_total.fillna(0)"
      ]
    },
    {
      "cell_type": "code",
      "execution_count": 14,
      "metadata": {
        "id": "P4uN0pc3dYpi"
      },
      "outputs": [],
      "source": [
        "#Add the abortion information of each state into the dataframe\n",
        "central_table_migrant_background_foreign_geography[\"abortions_total\"] = df_abortion_total[\"Germans_total\"]\n",
        "central_table_migrant_background_foreign_geography[\"abortions_foreign\"] = df_abortion_total[\"Foreign\"]\n",
        "central_table_migrant_background_foreign_geography[\"abortions_local\"] = df_abortion_total[\"Germans_total\"] - df_abortion_total[\"Foreign\"]\n",
        "central_table_migrant_background_foreign_geography[\"abortions_type\"] = \"\"\n",
        "\n",
        "#Create DataFrame containing the rows for the foreign abortions in Germany\n",
        "central_table_migrant_background_foreign_geography_aforeign = central_table_migrant_background_foreign_geography.loc[central_table_migrant_background_foreign_geography.index.repeat(central_table_migrant_background_foreign_geography.abortions_foreign)]\n",
        "central_table_migrant_background_foreign_geography_aforeign.abortions_type = 1\n",
        "\n",
        "#Create DataFrame containing the rows for the foreign abortions in Germany\n",
        "central_table_migrant_background_foreign_geography_alocal = central_table_migrant_background_foreign_geography.loc[central_table_migrant_background_foreign_geography.index.repeat(central_table_migrant_background_foreign_geography.abortions_local)]\n",
        "central_table_migrant_background_foreign_geography_alocal.abortions_type = 0\n",
        "\n",
        "info = [central_table_migrant_background_foreign_geography_aforeign,central_table_migrant_background_foreign_geography_alocal]\n",
        "central_table_migrant_background_foreign_geography_repeated = pd.concat(info)"
      ]
    },
    {
      "cell_type": "code",
      "execution_count": null,
      "metadata": {
        "colab": {
          "base_uri": "https://localhost:8080/",
          "height": 34
        },
        "id": "RSD7K_-xi7ns",
        "outputId": "1b5255c4-e1d2-4de7-b954-7f538caface3"
      },
      "outputs": [
        {
          "data": {
            "application/javascript": "\n    async function download(id, filename, size) {\n      if (!google.colab.kernel.accessAllowed) {\n        return;\n      }\n      const div = document.createElement('div');\n      const label = document.createElement('label');\n      label.textContent = `Downloading \"${filename}\": `;\n      div.appendChild(label);\n      const progress = document.createElement('progress');\n      progress.max = size;\n      div.appendChild(progress);\n      document.body.appendChild(div);\n\n      const buffers = [];\n      let downloaded = 0;\n\n      const channel = await google.colab.kernel.comms.open(id);\n      // Send a message to notify the kernel that we're ready.\n      channel.send({})\n\n      for await (const message of channel.messages) {\n        // Send a message to notify the kernel that we're ready.\n        channel.send({})\n        if (message.buffers) {\n          for (const buffer of message.buffers) {\n            buffers.push(buffer);\n            downloaded += buffer.byteLength;\n            progress.value = downloaded;\n          }\n        }\n      }\n      const blob = new Blob(buffers, {type: 'application/binary'});\n      const a = document.createElement('a');\n      a.href = window.URL.createObjectURL(blob);\n      a.download = filename;\n      div.appendChild(a);\n      a.click();\n      div.remove();\n    }\n  ",
            "text/plain": [
              "<IPython.core.display.Javascript object>"
            ]
          },
          "metadata": {},
          "output_type": "display_data"
        },
        {
          "data": {
            "application/javascript": "download(\"download_371e6437-3134-4bde-879c-763513201f1a\", \"central_table_migrant_background_foreign_geography_repeated.csv\", 173398986)",
            "text/plain": [
              "<IPython.core.display.Javascript object>"
            ]
          },
          "metadata": {},
          "output_type": "display_data"
        }
      ],
      "source": [
        "# possibility to download the generated Data Frame\n",
        "central_table_migrant_background_foreign_geography_repeated.to_csv('central_table_migrant_background_foreign_geography_repeated.csv') \n",
        "from google.colab import files\n",
        "files.download(\"central_table_migrant_background_foreign_geography_repeated.csv\")"
      ]
    },
    {
      "cell_type": "code",
      "execution_count": 15,
      "metadata": {
        "id": "FD6RKBp4xBIv"
      },
      "outputs": [],
      "source": [
        "# Central Table with the NAs replaced by 0 since in our case NA means to small to measure (wihle other populations are represented by small single digit numbers)\n",
        "No_NA_central_table = central_table_migrant_background_foreign_geography_repeated.fillna(0)"
      ]
    },
    {
      "cell_type": "code",
      "execution_count": null,
      "metadata": {
        "colab": {
          "base_uri": "https://localhost:8080/",
          "height": 17
        },
        "id": "ksOTjJVl1pP4",
        "outputId": "de6002ec-eeb1-40b0-8541-ac8e8597719d"
      },
      "outputs": [
        {
          "data": {
            "application/javascript": "\n    async function download(id, filename, size) {\n      if (!google.colab.kernel.accessAllowed) {\n        return;\n      }\n      const div = document.createElement('div');\n      const label = document.createElement('label');\n      label.textContent = `Downloading \"${filename}\": `;\n      div.appendChild(label);\n      const progress = document.createElement('progress');\n      progress.max = size;\n      div.appendChild(progress);\n      document.body.appendChild(div);\n\n      const buffers = [];\n      let downloaded = 0;\n\n      const channel = await google.colab.kernel.comms.open(id);\n      // Send a message to notify the kernel that we're ready.\n      channel.send({})\n\n      for await (const message of channel.messages) {\n        // Send a message to notify the kernel that we're ready.\n        channel.send({})\n        if (message.buffers) {\n          for (const buffer of message.buffers) {\n            buffers.push(buffer);\n            downloaded += buffer.byteLength;\n            progress.value = downloaded;\n          }\n        }\n      }\n      const blob = new Blob(buffers, {type: 'application/binary'});\n      const a = document.createElement('a');\n      a.href = window.URL.createObjectURL(blob);\n      a.download = filename;\n      div.appendChild(a);\n      a.click();\n      div.remove();\n    }\n  ",
            "text/plain": [
              "<IPython.core.display.Javascript object>"
            ]
          },
          "metadata": {},
          "output_type": "display_data"
        },
        {
          "data": {
            "application/javascript": "download(\"download_d02a0bf6-589a-4a2e-be20-4a1c50b8b884\", \"No_NA_central_table.csv\", 174635051)",
            "text/plain": [
              "<IPython.core.display.Javascript object>"
            ]
          },
          "metadata": {},
          "output_type": "display_data"
        }
      ],
      "source": [
        "# possibility to download the generated Data Frame without NAs\n",
        "No_NA_central_table.to_csv('No_NA_central_table.csv') \n",
        "from google.colab import files\n",
        "files.download(\"No_NA_central_table.csv\")"
      ]
    },
    {
      "cell_type": "code",
      "execution_count": 16,
      "metadata": {
        "colab": {
          "base_uri": "https://localhost:8080/"
        },
        "id": "Jn3gZParRuyJ",
        "outputId": "2ef2dbc7-bfb1-42c0-cfec-bff195d4e67b"
      },
      "outputs": [
        {
          "data": {
            "text/plain": [
              "Index(['Population with migrant background.0_migrant',\n",
              "       'Population with migrant background.1_migrant',\n",
              "       'Population with migrant background.2_migrant',\n",
              "       'Population with migrant background.3_migrant',\n",
              "       'Population with migrant background.4_migrant',\n",
              "       'Population with migrant background.5_migrant',\n",
              "       'Population with migrant background.6_migrant',\n",
              "       'Population with migrant background.7_migrant',\n",
              "       'Population with migrant background.8_migrant',\n",
              "       'Population with migrant background.9_migrant',\n",
              "       ...\n",
              "       'Country_Score.25_geography', 'Country_Score.26_geography',\n",
              "       'Country_Score.27_geography', 'Country_Score.28_geography',\n",
              "       'Country_Score.29_geography', 'Country_Score.30_geography',\n",
              "       'abortions_total', 'abortions_foreign', 'abortions_local',\n",
              "       'abortions_type'],\n",
              "      dtype='object', length=229)"
            ]
          },
          "execution_count": 16,
          "metadata": {},
          "output_type": "execute_result"
        }
      ],
      "source": [
        "No_NA_central_table.columns"
      ]
    },
    {
      "cell_type": "markdown",
      "metadata": {
        "id": "1k_qII6yLKjz"
      },
      "source": [
        "# Basic Model Creation"
      ]
    },
    {
      "cell_type": "code",
      "execution_count": 17,
      "metadata": {
        "id": "tFC0qrlrvtvt"
      },
      "outputs": [],
      "source": [
        "# Delete string variable country code\n",
        "No_NA_central_table_no_ISO3 = No_NA_central_table[No_NA_central_table.columns.drop(list(No_NA_central_table.filter(regex = \"Country\\.\")))]\n"
      ]
    },
    {
      "cell_type": "markdown",
      "metadata": {
        "id": "MatxcVfvvvm-"
      },
      "source": [
        "## Interaction terms"
      ]
    },
    {
      "cell_type": "code",
      "execution_count": 159,
      "metadata": {
        "colab": {
          "base_uri": "https://localhost:8080/"
        },
        "id": "PYe9vrcBvz8d",
        "outputId": "8128e1de-1b26-4372-9dff-ba08242c3f8e"
      },
      "outputs": [
        {
          "name": "stderr",
          "output_type": "stream",
          "text": [
            "/usr/local/lib/python3.7/dist-packages/ipykernel_launcher.py:3: SettingWithCopyWarning: \n",
            "A value is trying to be set on a copy of a slice from a DataFrame.\n",
            "Try using .loc[row_indexer,col_indexer] = value instead\n",
            "\n",
            "See the caveats in the documentation: https://pandas.pydata.org/pandas-docs/stable/user_guide/indexing.html#returning-a-view-versus-a-copy\n",
            "  This is separate from the ipykernel package so we can avoid doing imports until\n",
            "/usr/local/lib/python3.7/dist-packages/ipykernel_launcher.py:6: SettingWithCopyWarning: \n",
            "A value is trying to be set on a copy of a slice from a DataFrame.\n",
            "Try using .loc[row_indexer,col_indexer] = value instead\n",
            "\n",
            "See the caveats in the documentation: https://pandas.pydata.org/pandas-docs/stable/user_guide/indexing.html#returning-a-view-versus-a-copy\n",
            "  \n",
            "/usr/local/lib/python3.7/dist-packages/ipykernel_launcher.py:9: SettingWithCopyWarning: \n",
            "A value is trying to be set on a copy of a slice from a DataFrame.\n",
            "Try using .loc[row_indexer,col_indexer] = value instead\n",
            "\n",
            "See the caveats in the documentation: https://pandas.pydata.org/pandas-docs/stable/user_guide/indexing.html#returning-a-view-versus-a-copy\n",
            "  if __name__ == '__main__':\n",
            "/usr/local/lib/python3.7/dist-packages/ipykernel_launcher.py:12: SettingWithCopyWarning: \n",
            "A value is trying to be set on a copy of a slice from a DataFrame.\n",
            "Try using .loc[row_indexer,col_indexer] = value instead\n",
            "\n",
            "See the caveats in the documentation: https://pandas.pydata.org/pandas-docs/stable/user_guide/indexing.html#returning-a-view-versus-a-copy\n",
            "  if sys.path[0] == '':\n",
            "/usr/local/lib/python3.7/dist-packages/ipykernel_launcher.py:15: SettingWithCopyWarning: \n",
            "A value is trying to be set on a copy of a slice from a DataFrame.\n",
            "Try using .loc[row_indexer,col_indexer] = value instead\n",
            "\n",
            "See the caveats in the documentation: https://pandas.pydata.org/pandas-docs/stable/user_guide/indexing.html#returning-a-view-versus-a-copy\n",
            "  from ipykernel import kernelapp as app\n",
            "/usr/local/lib/python3.7/dist-packages/ipykernel_launcher.py:18: SettingWithCopyWarning: \n",
            "A value is trying to be set on a copy of a slice from a DataFrame.\n",
            "Try using .loc[row_indexer,col_indexer] = value instead\n",
            "\n",
            "See the caveats in the documentation: https://pandas.pydata.org/pandas-docs/stable/user_guide/indexing.html#returning-a-view-versus-a-copy\n",
            "/usr/local/lib/python3.7/dist-packages/ipykernel_launcher.py:21: SettingWithCopyWarning: \n",
            "A value is trying to be set on a copy of a slice from a DataFrame.\n",
            "Try using .loc[row_indexer,col_indexer] = value instead\n",
            "\n",
            "See the caveats in the documentation: https://pandas.pydata.org/pandas-docs/stable/user_guide/indexing.html#returning-a-view-versus-a-copy\n",
            "/usr/local/lib/python3.7/dist-packages/ipykernel_launcher.py:24: SettingWithCopyWarning: \n",
            "A value is trying to be set on a copy of a slice from a DataFrame.\n",
            "Try using .loc[row_indexer,col_indexer] = value instead\n",
            "\n",
            "See the caveats in the documentation: https://pandas.pydata.org/pandas-docs/stable/user_guide/indexing.html#returning-a-view-versus-a-copy\n",
            "/usr/local/lib/python3.7/dist-packages/ipykernel_launcher.py:27: SettingWithCopyWarning: \n",
            "A value is trying to be set on a copy of a slice from a DataFrame.\n",
            "Try using .loc[row_indexer,col_indexer] = value instead\n",
            "\n",
            "See the caveats in the documentation: https://pandas.pydata.org/pandas-docs/stable/user_guide/indexing.html#returning-a-view-versus-a-copy\n",
            "/usr/local/lib/python3.7/dist-packages/ipykernel_launcher.py:30: SettingWithCopyWarning: \n",
            "A value is trying to be set on a copy of a slice from a DataFrame.\n",
            "Try using .loc[row_indexer,col_indexer] = value instead\n",
            "\n",
            "See the caveats in the documentation: https://pandas.pydata.org/pandas-docs/stable/user_guide/indexing.html#returning-a-view-versus-a-copy\n",
            "/usr/local/lib/python3.7/dist-packages/ipykernel_launcher.py:33: SettingWithCopyWarning: \n",
            "A value is trying to be set on a copy of a slice from a DataFrame.\n",
            "Try using .loc[row_indexer,col_indexer] = value instead\n",
            "\n",
            "See the caveats in the documentation: https://pandas.pydata.org/pandas-docs/stable/user_guide/indexing.html#returning-a-view-versus-a-copy\n",
            "/usr/local/lib/python3.7/dist-packages/ipykernel_launcher.py:36: SettingWithCopyWarning: \n",
            "A value is trying to be set on a copy of a slice from a DataFrame.\n",
            "Try using .loc[row_indexer,col_indexer] = value instead\n",
            "\n",
            "See the caveats in the documentation: https://pandas.pydata.org/pandas-docs/stable/user_guide/indexing.html#returning-a-view-versus-a-copy\n",
            "/usr/local/lib/python3.7/dist-packages/ipykernel_launcher.py:39: SettingWithCopyWarning: \n",
            "A value is trying to be set on a copy of a slice from a DataFrame.\n",
            "Try using .loc[row_indexer,col_indexer] = value instead\n",
            "\n",
            "See the caveats in the documentation: https://pandas.pydata.org/pandas-docs/stable/user_guide/indexing.html#returning-a-view-versus-a-copy\n",
            "/usr/local/lib/python3.7/dist-packages/ipykernel_launcher.py:42: SettingWithCopyWarning: \n",
            "A value is trying to be set on a copy of a slice from a DataFrame.\n",
            "Try using .loc[row_indexer,col_indexer] = value instead\n",
            "\n",
            "See the caveats in the documentation: https://pandas.pydata.org/pandas-docs/stable/user_guide/indexing.html#returning-a-view-versus-a-copy\n",
            "/usr/local/lib/python3.7/dist-packages/ipykernel_launcher.py:45: SettingWithCopyWarning: \n",
            "A value is trying to be set on a copy of a slice from a DataFrame.\n",
            "Try using .loc[row_indexer,col_indexer] = value instead\n",
            "\n",
            "See the caveats in the documentation: https://pandas.pydata.org/pandas-docs/stable/user_guide/indexing.html#returning-a-view-versus-a-copy\n",
            "/usr/local/lib/python3.7/dist-packages/ipykernel_launcher.py:48: SettingWithCopyWarning: \n",
            "A value is trying to be set on a copy of a slice from a DataFrame.\n",
            "Try using .loc[row_indexer,col_indexer] = value instead\n",
            "\n",
            "See the caveats in the documentation: https://pandas.pydata.org/pandas-docs/stable/user_guide/indexing.html#returning-a-view-versus-a-copy\n",
            "/usr/local/lib/python3.7/dist-packages/ipykernel_launcher.py:51: SettingWithCopyWarning: \n",
            "A value is trying to be set on a copy of a slice from a DataFrame.\n",
            "Try using .loc[row_indexer,col_indexer] = value instead\n",
            "\n",
            "See the caveats in the documentation: https://pandas.pydata.org/pandas-docs/stable/user_guide/indexing.html#returning-a-view-versus-a-copy\n",
            "/usr/local/lib/python3.7/dist-packages/ipykernel_launcher.py:54: SettingWithCopyWarning: \n",
            "A value is trying to be set on a copy of a slice from a DataFrame.\n",
            "Try using .loc[row_indexer,col_indexer] = value instead\n",
            "\n",
            "See the caveats in the documentation: https://pandas.pydata.org/pandas-docs/stable/user_guide/indexing.html#returning-a-view-versus-a-copy\n",
            "/usr/local/lib/python3.7/dist-packages/ipykernel_launcher.py:57: SettingWithCopyWarning: \n",
            "A value is trying to be set on a copy of a slice from a DataFrame.\n",
            "Try using .loc[row_indexer,col_indexer] = value instead\n",
            "\n",
            "See the caveats in the documentation: https://pandas.pydata.org/pandas-docs/stable/user_guide/indexing.html#returning-a-view-versus-a-copy\n",
            "/usr/local/lib/python3.7/dist-packages/ipykernel_launcher.py:60: SettingWithCopyWarning: \n",
            "A value is trying to be set on a copy of a slice from a DataFrame.\n",
            "Try using .loc[row_indexer,col_indexer] = value instead\n",
            "\n",
            "See the caveats in the documentation: https://pandas.pydata.org/pandas-docs/stable/user_guide/indexing.html#returning-a-view-versus-a-copy\n",
            "/usr/local/lib/python3.7/dist-packages/ipykernel_launcher.py:63: SettingWithCopyWarning: \n",
            "A value is trying to be set on a copy of a slice from a DataFrame.\n",
            "Try using .loc[row_indexer,col_indexer] = value instead\n",
            "\n",
            "See the caveats in the documentation: https://pandas.pydata.org/pandas-docs/stable/user_guide/indexing.html#returning-a-view-versus-a-copy\n",
            "/usr/local/lib/python3.7/dist-packages/ipykernel_launcher.py:66: SettingWithCopyWarning: \n",
            "A value is trying to be set on a copy of a slice from a DataFrame.\n",
            "Try using .loc[row_indexer,col_indexer] = value instead\n",
            "\n",
            "See the caveats in the documentation: https://pandas.pydata.org/pandas-docs/stable/user_guide/indexing.html#returning-a-view-versus-a-copy\n",
            "/usr/local/lib/python3.7/dist-packages/ipykernel_launcher.py:69: SettingWithCopyWarning: \n",
            "A value is trying to be set on a copy of a slice from a DataFrame.\n",
            "Try using .loc[row_indexer,col_indexer] = value instead\n",
            "\n",
            "See the caveats in the documentation: https://pandas.pydata.org/pandas-docs/stable/user_guide/indexing.html#returning-a-view-versus-a-copy\n",
            "/usr/local/lib/python3.7/dist-packages/ipykernel_launcher.py:72: SettingWithCopyWarning: \n",
            "A value is trying to be set on a copy of a slice from a DataFrame.\n",
            "Try using .loc[row_indexer,col_indexer] = value instead\n",
            "\n",
            "See the caveats in the documentation: https://pandas.pydata.org/pandas-docs/stable/user_guide/indexing.html#returning-a-view-versus-a-copy\n",
            "/usr/local/lib/python3.7/dist-packages/ipykernel_launcher.py:75: SettingWithCopyWarning: \n",
            "A value is trying to be set on a copy of a slice from a DataFrame.\n",
            "Try using .loc[row_indexer,col_indexer] = value instead\n",
            "\n",
            "See the caveats in the documentation: https://pandas.pydata.org/pandas-docs/stable/user_guide/indexing.html#returning-a-view-versus-a-copy\n",
            "/usr/local/lib/python3.7/dist-packages/ipykernel_launcher.py:78: SettingWithCopyWarning: \n",
            "A value is trying to be set on a copy of a slice from a DataFrame.\n",
            "Try using .loc[row_indexer,col_indexer] = value instead\n",
            "\n",
            "See the caveats in the documentation: https://pandas.pydata.org/pandas-docs/stable/user_guide/indexing.html#returning-a-view-versus-a-copy\n",
            "/usr/local/lib/python3.7/dist-packages/ipykernel_launcher.py:81: SettingWithCopyWarning: \n",
            "A value is trying to be set on a copy of a slice from a DataFrame.\n",
            "Try using .loc[row_indexer,col_indexer] = value instead\n",
            "\n",
            "See the caveats in the documentation: https://pandas.pydata.org/pandas-docs/stable/user_guide/indexing.html#returning-a-view-versus-a-copy\n",
            "/usr/local/lib/python3.7/dist-packages/ipykernel_launcher.py:84: SettingWithCopyWarning: \n",
            "A value is trying to be set on a copy of a slice from a DataFrame.\n",
            "Try using .loc[row_indexer,col_indexer] = value instead\n",
            "\n",
            "See the caveats in the documentation: https://pandas.pydata.org/pandas-docs/stable/user_guide/indexing.html#returning-a-view-versus-a-copy\n",
            "/usr/local/lib/python3.7/dist-packages/ipykernel_launcher.py:87: SettingWithCopyWarning: \n",
            "A value is trying to be set on a copy of a slice from a DataFrame.\n",
            "Try using .loc[row_indexer,col_indexer] = value instead\n",
            "\n",
            "See the caveats in the documentation: https://pandas.pydata.org/pandas-docs/stable/user_guide/indexing.html#returning-a-view-versus-a-copy\n",
            "/usr/local/lib/python3.7/dist-packages/ipykernel_launcher.py:90: SettingWithCopyWarning: \n",
            "A value is trying to be set on a copy of a slice from a DataFrame.\n",
            "Try using .loc[row_indexer,col_indexer] = value instead\n",
            "\n",
            "See the caveats in the documentation: https://pandas.pydata.org/pandas-docs/stable/user_guide/indexing.html#returning-a-view-versus-a-copy\n",
            "/usr/local/lib/python3.7/dist-packages/ipykernel_launcher.py:93: SettingWithCopyWarning: \n",
            "A value is trying to be set on a copy of a slice from a DataFrame.\n",
            "Try using .loc[row_indexer,col_indexer] = value instead\n",
            "\n",
            "See the caveats in the documentation: https://pandas.pydata.org/pandas-docs/stable/user_guide/indexing.html#returning-a-view-versus-a-copy\n"
          ]
        }
      ],
      "source": [
        "# create interaction terms for geography\n",
        "interaction_geo_0 = No_NA_central_table_no_ISO3['Distance.0_geography'] * No_NA_central_table_no_ISO3['Country_Score.0_geography']\n",
        "No_NA_central_table_no_ISO3['0_geography*'] = interaction_geo_0\n",
        "\n",
        "interaction_geo_1 = No_NA_central_table_no_ISO3['Distance.1_geography'] * No_NA_central_table_no_ISO3['Country_Score.1_geography']\n",
        "No_NA_central_table_no_ISO3['1_geography*'] = interaction_geo_1\n",
        "\n",
        "interaction_geo_2 = No_NA_central_table_no_ISO3['Distance.2_geography'] * No_NA_central_table_no_ISO3['Country_Score.2_geography']\n",
        "No_NA_central_table_no_ISO3['2_geography*'] = interaction_geo_2\n",
        "\n",
        "interaction_geo_3 = No_NA_central_table_no_ISO3['Distance.3_geography'] * No_NA_central_table_no_ISO3['Country_Score.3_geography']\n",
        "No_NA_central_table_no_ISO3['3_geography*'] = interaction_geo_3\n",
        "\n",
        "interaction_geo_4 = No_NA_central_table_no_ISO3['Distance.4_geography'] * No_NA_central_table_no_ISO3['Country_Score.4_geography']\n",
        "No_NA_central_table_no_ISO3['4_geography*'] = interaction_geo_4\n",
        "\n",
        "interaction_geo_5 = No_NA_central_table_no_ISO3['Distance.5_geography'] * No_NA_central_table_no_ISO3['Country_Score.5_geography']\n",
        "No_NA_central_table_no_ISO3['5_geography*'] = interaction_geo_5\n",
        "\n",
        "interaction_geo_6 = No_NA_central_table_no_ISO3['Distance.6_geography'] * No_NA_central_table_no_ISO3['Country_Score.6_geography']\n",
        "No_NA_central_table_no_ISO3['6_geography*'] = interaction_geo_6\n",
        "\n",
        "interaction_geo_7 = No_NA_central_table_no_ISO3['Distance.7_geography'] * No_NA_central_table_no_ISO3['Country_Score.7_geography']\n",
        "No_NA_central_table_no_ISO3['7_geography*'] = interaction_geo_7\n",
        "\n",
        "interaction_geo_8 = No_NA_central_table_no_ISO3['Distance.8_geography'] * No_NA_central_table_no_ISO3['Country_Score.8_geography']\n",
        "No_NA_central_table_no_ISO3['8_geography*'] = interaction_geo_8\n",
        "\n",
        "interaction_geo_9 = No_NA_central_table_no_ISO3['Distance.9_geography'] * No_NA_central_table_no_ISO3['Country_Score.9_geography']\n",
        "No_NA_central_table_no_ISO3['9_geography*'] = interaction_geo_9\n",
        "\n",
        "interaction_geo_10 = No_NA_central_table_no_ISO3['Distance.10_geography'] * No_NA_central_table_no_ISO3['Country_Score.10_geography']\n",
        "No_NA_central_table_no_ISO3['10_geography*'] = interaction_geo_10\n",
        "\n",
        "interaction_geo_11 = No_NA_central_table_no_ISO3['Distance.11_geography'] * No_NA_central_table_no_ISO3['Country_Score.11_geography']\n",
        "No_NA_central_table_no_ISO3['11_geography*'] = interaction_geo_11\n",
        "\n",
        "interaction_geo_12 = No_NA_central_table_no_ISO3['Distance.12_geography'] * No_NA_central_table_no_ISO3['Country_Score.12_geography']\n",
        "No_NA_central_table_no_ISO3['12_geography*'] = interaction_geo_12\n",
        "\n",
        "interaction_geo_13 = No_NA_central_table_no_ISO3['Distance.13_geography'] * No_NA_central_table_no_ISO3['Country_Score.13_geography']\n",
        "No_NA_central_table_no_ISO3['13_geography*'] = interaction_geo_13\n",
        "\n",
        "interaction_geo_14 = No_NA_central_table_no_ISO3['Distance.14_geography'] * No_NA_central_table_no_ISO3['Country_Score.14_geography']\n",
        "No_NA_central_table_no_ISO3['14_geography*'] = interaction_geo_14\n",
        "\n",
        "interaction_geo_15 = No_NA_central_table_no_ISO3['Distance.15_geography'] * No_NA_central_table_no_ISO3['Country_Score.15_geography']\n",
        "No_NA_central_table_no_ISO3['15_geography*'] = interaction_geo_15\n",
        "\n",
        "interaction_geo_16 = No_NA_central_table_no_ISO3['Distance.16_geography'] * No_NA_central_table_no_ISO3['Country_Score.16_geography']\n",
        "No_NA_central_table_no_ISO3['16_geography*'] = interaction_geo_16\n",
        "\n",
        "interaction_geo_17 = No_NA_central_table_no_ISO3['Distance.17_geography'] * No_NA_central_table_no_ISO3['Country_Score.17_geography']\n",
        "No_NA_central_table_no_ISO3['17_geography*'] = interaction_geo_17\n",
        "\n",
        "interaction_geo_18 = No_NA_central_table_no_ISO3['Distance.18_geography'] * No_NA_central_table_no_ISO3['Country_Score.18_geography']\n",
        "No_NA_central_table_no_ISO3['18_geography*'] = interaction_geo_18\n",
        "\n",
        "interaction_geo_19 = No_NA_central_table_no_ISO3['Distance.19_geography'] * No_NA_central_table_no_ISO3['Country_Score.19_geography']\n",
        "No_NA_central_table_no_ISO3['19_geography*'] = interaction_geo_19\n",
        "\n",
        "interaction_geo_20 = No_NA_central_table_no_ISO3['Distance.20_geography'] * No_NA_central_table_no_ISO3['Country_Score.20_geography']\n",
        "No_NA_central_table_no_ISO3['20_geography*'] = interaction_geo_20\n",
        "\n",
        "interaction_geo_21 = No_NA_central_table_no_ISO3['Distance.21_geography'] * No_NA_central_table_no_ISO3['Country_Score.21_geography']\n",
        "No_NA_central_table_no_ISO3['21_geography*'] = interaction_geo_21\n",
        "\n",
        "interaction_geo_22 = No_NA_central_table_no_ISO3['Distance.22_geography'] * No_NA_central_table_no_ISO3['Country_Score.22_geography']\n",
        "No_NA_central_table_no_ISO3['22_geography*'] = interaction_geo_22\n",
        "\n",
        "interaction_geo_23 = No_NA_central_table_no_ISO3['Distance.23_geography'] * No_NA_central_table_no_ISO3['Country_Score.23_geography']\n",
        "No_NA_central_table_no_ISO3['23_geography*'] = interaction_geo_23\n",
        "\n",
        "interaction_geo_24 = No_NA_central_table_no_ISO3['Distance.24_geography'] * No_NA_central_table_no_ISO3['Country_Score.24_geography']\n",
        "No_NA_central_table_no_ISO3['24_geography*'] = interaction_geo_24\n",
        "\n",
        "interaction_geo_25 = No_NA_central_table_no_ISO3['Distance.25_geography'] * No_NA_central_table_no_ISO3['Country_Score.25_geography']\n",
        "No_NA_central_table_no_ISO3['25_geography*'] = interaction_geo_25\n",
        "\n",
        "interaction_geo_26 = No_NA_central_table_no_ISO3['Distance.26_geography'] * No_NA_central_table_no_ISO3['Country_Score.26_geography']\n",
        "No_NA_central_table_no_ISO3['26_geography*'] = interaction_geo_26\n",
        "\n",
        "interaction_geo_27 = No_NA_central_table_no_ISO3['Distance.27_geography'] * No_NA_central_table_no_ISO3['Country_Score.27_geography']\n",
        "No_NA_central_table_no_ISO3['27_geography*'] = interaction_geo_27\n",
        "\n",
        "interaction_geo_28 = No_NA_central_table_no_ISO3['Distance.28_geography'] * No_NA_central_table_no_ISO3['Country_Score.28_geography']\n",
        "No_NA_central_table_no_ISO3['28_geography*'] = interaction_geo_28\n",
        "\n",
        "interaction_geo_29 = No_NA_central_table_no_ISO3['Distance.29_geography'] * No_NA_central_table_no_ISO3['Country_Score.29_geography']\n",
        "No_NA_central_table_no_ISO3['29_geography*'] = interaction_geo_29\n",
        "\n",
        "interaction_geo_30 = No_NA_central_table_no_ISO3['Distance.30_geography'] * No_NA_central_table_no_ISO3['Country_Score.30_geography']\n",
        "No_NA_central_table_no_ISO3['30_geography*'] = interaction_geo_30"
      ]
    },
    {
      "cell_type": "code",
      "execution_count": 160,
      "metadata": {
        "colab": {
          "base_uri": "https://localhost:8080/"
        },
        "id": "Vi3UmYC1wF3G",
        "outputId": "1e599a38-4c96-4b2a-e0ff-d68b47c7db43"
      },
      "outputs": [
        {
          "name": "stderr",
          "output_type": "stream",
          "text": [
            "/usr/local/lib/python3.7/dist-packages/ipykernel_launcher.py:3: SettingWithCopyWarning: \n",
            "A value is trying to be set on a copy of a slice from a DataFrame.\n",
            "Try using .loc[row_indexer,col_indexer] = value instead\n",
            "\n",
            "See the caveats in the documentation: https://pandas.pydata.org/pandas-docs/stable/user_guide/indexing.html#returning-a-view-versus-a-copy\n",
            "  This is separate from the ipykernel package so we can avoid doing imports until\n",
            "/usr/local/lib/python3.7/dist-packages/ipykernel_launcher.py:6: SettingWithCopyWarning: \n",
            "A value is trying to be set on a copy of a slice from a DataFrame.\n",
            "Try using .loc[row_indexer,col_indexer] = value instead\n",
            "\n",
            "See the caveats in the documentation: https://pandas.pydata.org/pandas-docs/stable/user_guide/indexing.html#returning-a-view-versus-a-copy\n",
            "  \n",
            "/usr/local/lib/python3.7/dist-packages/ipykernel_launcher.py:9: SettingWithCopyWarning: \n",
            "A value is trying to be set on a copy of a slice from a DataFrame.\n",
            "Try using .loc[row_indexer,col_indexer] = value instead\n",
            "\n",
            "See the caveats in the documentation: https://pandas.pydata.org/pandas-docs/stable/user_guide/indexing.html#returning-a-view-versus-a-copy\n",
            "  if __name__ == '__main__':\n",
            "/usr/local/lib/python3.7/dist-packages/ipykernel_launcher.py:12: SettingWithCopyWarning: \n",
            "A value is trying to be set on a copy of a slice from a DataFrame.\n",
            "Try using .loc[row_indexer,col_indexer] = value instead\n",
            "\n",
            "See the caveats in the documentation: https://pandas.pydata.org/pandas-docs/stable/user_guide/indexing.html#returning-a-view-versus-a-copy\n",
            "  if sys.path[0] == '':\n",
            "/usr/local/lib/python3.7/dist-packages/ipykernel_launcher.py:15: SettingWithCopyWarning: \n",
            "A value is trying to be set on a copy of a slice from a DataFrame.\n",
            "Try using .loc[row_indexer,col_indexer] = value instead\n",
            "\n",
            "See the caveats in the documentation: https://pandas.pydata.org/pandas-docs/stable/user_guide/indexing.html#returning-a-view-versus-a-copy\n",
            "  from ipykernel import kernelapp as app\n",
            "/usr/local/lib/python3.7/dist-packages/ipykernel_launcher.py:18: SettingWithCopyWarning: \n",
            "A value is trying to be set on a copy of a slice from a DataFrame.\n",
            "Try using .loc[row_indexer,col_indexer] = value instead\n",
            "\n",
            "See the caveats in the documentation: https://pandas.pydata.org/pandas-docs/stable/user_guide/indexing.html#returning-a-view-versus-a-copy\n",
            "/usr/local/lib/python3.7/dist-packages/ipykernel_launcher.py:21: SettingWithCopyWarning: \n",
            "A value is trying to be set on a copy of a slice from a DataFrame.\n",
            "Try using .loc[row_indexer,col_indexer] = value instead\n",
            "\n",
            "See the caveats in the documentation: https://pandas.pydata.org/pandas-docs/stable/user_guide/indexing.html#returning-a-view-versus-a-copy\n",
            "/usr/local/lib/python3.7/dist-packages/ipykernel_launcher.py:24: SettingWithCopyWarning: \n",
            "A value is trying to be set on a copy of a slice from a DataFrame.\n",
            "Try using .loc[row_indexer,col_indexer] = value instead\n",
            "\n",
            "See the caveats in the documentation: https://pandas.pydata.org/pandas-docs/stable/user_guide/indexing.html#returning-a-view-versus-a-copy\n",
            "/usr/local/lib/python3.7/dist-packages/ipykernel_launcher.py:27: SettingWithCopyWarning: \n",
            "A value is trying to be set on a copy of a slice from a DataFrame.\n",
            "Try using .loc[row_indexer,col_indexer] = value instead\n",
            "\n",
            "See the caveats in the documentation: https://pandas.pydata.org/pandas-docs/stable/user_guide/indexing.html#returning-a-view-versus-a-copy\n",
            "/usr/local/lib/python3.7/dist-packages/ipykernel_launcher.py:30: SettingWithCopyWarning: \n",
            "A value is trying to be set on a copy of a slice from a DataFrame.\n",
            "Try using .loc[row_indexer,col_indexer] = value instead\n",
            "\n",
            "See the caveats in the documentation: https://pandas.pydata.org/pandas-docs/stable/user_guide/indexing.html#returning-a-view-versus-a-copy\n",
            "/usr/local/lib/python3.7/dist-packages/ipykernel_launcher.py:33: SettingWithCopyWarning: \n",
            "A value is trying to be set on a copy of a slice from a DataFrame.\n",
            "Try using .loc[row_indexer,col_indexer] = value instead\n",
            "\n",
            "See the caveats in the documentation: https://pandas.pydata.org/pandas-docs/stable/user_guide/indexing.html#returning-a-view-versus-a-copy\n",
            "/usr/local/lib/python3.7/dist-packages/ipykernel_launcher.py:36: SettingWithCopyWarning: \n",
            "A value is trying to be set on a copy of a slice from a DataFrame.\n",
            "Try using .loc[row_indexer,col_indexer] = value instead\n",
            "\n",
            "See the caveats in the documentation: https://pandas.pydata.org/pandas-docs/stable/user_guide/indexing.html#returning-a-view-versus-a-copy\n",
            "/usr/local/lib/python3.7/dist-packages/ipykernel_launcher.py:39: SettingWithCopyWarning: \n",
            "A value is trying to be set on a copy of a slice from a DataFrame.\n",
            "Try using .loc[row_indexer,col_indexer] = value instead\n",
            "\n",
            "See the caveats in the documentation: https://pandas.pydata.org/pandas-docs/stable/user_guide/indexing.html#returning-a-view-versus-a-copy\n"
          ]
        }
      ],
      "source": [
        "# create interaction terms for migrant\n",
        "interaction_mig_0 = No_NA_central_table_no_ISO3['Population with migrant background.0_migrant'] * No_NA_central_table_no_ISO3['Country_Score.0_migrant']\n",
        "No_NA_central_table_no_ISO3['0_migrant*'] = interaction_mig_0\n",
        "\n",
        "interaction_mig_1 = No_NA_central_table_no_ISO3['Population with migrant background.1_migrant'] * No_NA_central_table_no_ISO3['Country_Score.1_migrant']\n",
        "No_NA_central_table_no_ISO3['1_migrant*'] = interaction_mig_1\n",
        "\n",
        "interaction_mig_2 = No_NA_central_table_no_ISO3['Population with migrant background.2_migrant'] * No_NA_central_table_no_ISO3['Country_Score.2_migrant']\n",
        "No_NA_central_table_no_ISO3['2_migrant*'] = interaction_mig_2\n",
        "\n",
        "interaction_mig_3 = No_NA_central_table_no_ISO3['Population with migrant background.3_migrant'] * No_NA_central_table_no_ISO3['Country_Score.3_migrant']\n",
        "No_NA_central_table_no_ISO3['3_migrant*'] = interaction_mig_3\n",
        "\n",
        "interaction_mig_4 = No_NA_central_table_no_ISO3['Population with migrant background.4_migrant'] * No_NA_central_table_no_ISO3['Country_Score.4_migrant']\n",
        "No_NA_central_table_no_ISO3['4_migrant*'] = interaction_mig_4\n",
        "\n",
        "interaction_mig_5 = No_NA_central_table_no_ISO3['Population with migrant background.5_migrant'] * No_NA_central_table_no_ISO3['Country_Score.5_migrant']\n",
        "No_NA_central_table_no_ISO3['5_migrant*'] = interaction_mig_5\n",
        "\n",
        "interaction_mig_6 = No_NA_central_table_no_ISO3['Population with migrant background.6_migrant'] * No_NA_central_table_no_ISO3['Country_Score.6_migrant']\n",
        "No_NA_central_table_no_ISO3['6_migrant*'] = interaction_mig_6\n",
        "\n",
        "interaction_mig_7 = No_NA_central_table_no_ISO3['Population with migrant background.7_migrant'] * No_NA_central_table_no_ISO3['Country_Score.7_migrant']\n",
        "No_NA_central_table_no_ISO3['7_migrant*'] = interaction_mig_7\n",
        "\n",
        "interaction_mig_8 = No_NA_central_table_no_ISO3['Population with migrant background.8_migrant'] * No_NA_central_table_no_ISO3['Country_Score.8_migrant']\n",
        "No_NA_central_table_no_ISO3['8_migrant*'] = interaction_mig_8\n",
        "\n",
        "interaction_mig_9 = No_NA_central_table_no_ISO3['Population with migrant background.9_migrant'] * No_NA_central_table_no_ISO3['Country_Score.9_migrant']\n",
        "No_NA_central_table_no_ISO3['9_migrant*'] = interaction_mig_9\n",
        "\n",
        "interaction_mig_10 = No_NA_central_table_no_ISO3['Population with migrant background.10_migrant'] * No_NA_central_table_no_ISO3['Country_Score.10_migrant']\n",
        "No_NA_central_table_no_ISO3['10_migrant*'] = interaction_mig_10\n",
        "\n",
        "interaction_mig_11 = No_NA_central_table_no_ISO3['Population with migrant background.11_migrant'] * No_NA_central_table_no_ISO3['Country_Score.11_migrant']\n",
        "No_NA_central_table_no_ISO3['11_migrant*'] = interaction_mig_11\n",
        "\n",
        "interaction_mig_12 = No_NA_central_table_no_ISO3['Population with migrant background.12_migrant'] * No_NA_central_table_no_ISO3['Country_Score.12_migrant']\n",
        "No_NA_central_table_no_ISO3['12_migrant*'] = interaction_mig_12"
      ]
    },
    {
      "cell_type": "code",
      "execution_count": 161,
      "metadata": {
        "colab": {
          "base_uri": "https://localhost:8080/"
        },
        "id": "Uw6bo1CAwKzU",
        "outputId": "02d0eadf-6dd8-43cc-c1e6-6ce5f426b16c"
      },
      "outputs": [
        {
          "name": "stderr",
          "output_type": "stream",
          "text": [
            "/usr/local/lib/python3.7/dist-packages/ipykernel_launcher.py:3: SettingWithCopyWarning: \n",
            "A value is trying to be set on a copy of a slice from a DataFrame.\n",
            "Try using .loc[row_indexer,col_indexer] = value instead\n",
            "\n",
            "See the caveats in the documentation: https://pandas.pydata.org/pandas-docs/stable/user_guide/indexing.html#returning-a-view-versus-a-copy\n",
            "  This is separate from the ipykernel package so we can avoid doing imports until\n",
            "/usr/local/lib/python3.7/dist-packages/ipykernel_launcher.py:6: SettingWithCopyWarning: \n",
            "A value is trying to be set on a copy of a slice from a DataFrame.\n",
            "Try using .loc[row_indexer,col_indexer] = value instead\n",
            "\n",
            "See the caveats in the documentation: https://pandas.pydata.org/pandas-docs/stable/user_guide/indexing.html#returning-a-view-versus-a-copy\n",
            "  \n",
            "/usr/local/lib/python3.7/dist-packages/ipykernel_launcher.py:9: SettingWithCopyWarning: \n",
            "A value is trying to be set on a copy of a slice from a DataFrame.\n",
            "Try using .loc[row_indexer,col_indexer] = value instead\n",
            "\n",
            "See the caveats in the documentation: https://pandas.pydata.org/pandas-docs/stable/user_guide/indexing.html#returning-a-view-versus-a-copy\n",
            "  if __name__ == '__main__':\n",
            "/usr/local/lib/python3.7/dist-packages/ipykernel_launcher.py:12: SettingWithCopyWarning: \n",
            "A value is trying to be set on a copy of a slice from a DataFrame.\n",
            "Try using .loc[row_indexer,col_indexer] = value instead\n",
            "\n",
            "See the caveats in the documentation: https://pandas.pydata.org/pandas-docs/stable/user_guide/indexing.html#returning-a-view-versus-a-copy\n",
            "  if sys.path[0] == '':\n",
            "/usr/local/lib/python3.7/dist-packages/ipykernel_launcher.py:15: SettingWithCopyWarning: \n",
            "A value is trying to be set on a copy of a slice from a DataFrame.\n",
            "Try using .loc[row_indexer,col_indexer] = value instead\n",
            "\n",
            "See the caveats in the documentation: https://pandas.pydata.org/pandas-docs/stable/user_guide/indexing.html#returning-a-view-versus-a-copy\n",
            "  from ipykernel import kernelapp as app\n",
            "/usr/local/lib/python3.7/dist-packages/ipykernel_launcher.py:18: SettingWithCopyWarning: \n",
            "A value is trying to be set on a copy of a slice from a DataFrame.\n",
            "Try using .loc[row_indexer,col_indexer] = value instead\n",
            "\n",
            "See the caveats in the documentation: https://pandas.pydata.org/pandas-docs/stable/user_guide/indexing.html#returning-a-view-versus-a-copy\n",
            "/usr/local/lib/python3.7/dist-packages/ipykernel_launcher.py:21: SettingWithCopyWarning: \n",
            "A value is trying to be set on a copy of a slice from a DataFrame.\n",
            "Try using .loc[row_indexer,col_indexer] = value instead\n",
            "\n",
            "See the caveats in the documentation: https://pandas.pydata.org/pandas-docs/stable/user_guide/indexing.html#returning-a-view-versus-a-copy\n",
            "/usr/local/lib/python3.7/dist-packages/ipykernel_launcher.py:24: SettingWithCopyWarning: \n",
            "A value is trying to be set on a copy of a slice from a DataFrame.\n",
            "Try using .loc[row_indexer,col_indexer] = value instead\n",
            "\n",
            "See the caveats in the documentation: https://pandas.pydata.org/pandas-docs/stable/user_guide/indexing.html#returning-a-view-versus-a-copy\n",
            "/usr/local/lib/python3.7/dist-packages/ipykernel_launcher.py:27: SettingWithCopyWarning: \n",
            "A value is trying to be set on a copy of a slice from a DataFrame.\n",
            "Try using .loc[row_indexer,col_indexer] = value instead\n",
            "\n",
            "See the caveats in the documentation: https://pandas.pydata.org/pandas-docs/stable/user_guide/indexing.html#returning-a-view-versus-a-copy\n",
            "/usr/local/lib/python3.7/dist-packages/ipykernel_launcher.py:30: SettingWithCopyWarning: \n",
            "A value is trying to be set on a copy of a slice from a DataFrame.\n",
            "Try using .loc[row_indexer,col_indexer] = value instead\n",
            "\n",
            "See the caveats in the documentation: https://pandas.pydata.org/pandas-docs/stable/user_guide/indexing.html#returning-a-view-versus-a-copy\n",
            "/usr/local/lib/python3.7/dist-packages/ipykernel_launcher.py:33: SettingWithCopyWarning: \n",
            "A value is trying to be set on a copy of a slice from a DataFrame.\n",
            "Try using .loc[row_indexer,col_indexer] = value instead\n",
            "\n",
            "See the caveats in the documentation: https://pandas.pydata.org/pandas-docs/stable/user_guide/indexing.html#returning-a-view-versus-a-copy\n",
            "/usr/local/lib/python3.7/dist-packages/ipykernel_launcher.py:36: SettingWithCopyWarning: \n",
            "A value is trying to be set on a copy of a slice from a DataFrame.\n",
            "Try using .loc[row_indexer,col_indexer] = value instead\n",
            "\n",
            "See the caveats in the documentation: https://pandas.pydata.org/pandas-docs/stable/user_guide/indexing.html#returning-a-view-versus-a-copy\n",
            "/usr/local/lib/python3.7/dist-packages/ipykernel_launcher.py:39: SettingWithCopyWarning: \n",
            "A value is trying to be set on a copy of a slice from a DataFrame.\n",
            "Try using .loc[row_indexer,col_indexer] = value instead\n",
            "\n",
            "See the caveats in the documentation: https://pandas.pydata.org/pandas-docs/stable/user_guide/indexing.html#returning-a-view-versus-a-copy\n",
            "/usr/local/lib/python3.7/dist-packages/ipykernel_launcher.py:42: SettingWithCopyWarning: \n",
            "A value is trying to be set on a copy of a slice from a DataFrame.\n",
            "Try using .loc[row_indexer,col_indexer] = value instead\n",
            "\n",
            "See the caveats in the documentation: https://pandas.pydata.org/pandas-docs/stable/user_guide/indexing.html#returning-a-view-versus-a-copy\n",
            "/usr/local/lib/python3.7/dist-packages/ipykernel_launcher.py:45: SettingWithCopyWarning: \n",
            "A value is trying to be set on a copy of a slice from a DataFrame.\n",
            "Try using .loc[row_indexer,col_indexer] = value instead\n",
            "\n",
            "See the caveats in the documentation: https://pandas.pydata.org/pandas-docs/stable/user_guide/indexing.html#returning-a-view-versus-a-copy\n",
            "/usr/local/lib/python3.7/dist-packages/ipykernel_launcher.py:48: SettingWithCopyWarning: \n",
            "A value is trying to be set on a copy of a slice from a DataFrame.\n",
            "Try using .loc[row_indexer,col_indexer] = value instead\n",
            "\n",
            "See the caveats in the documentation: https://pandas.pydata.org/pandas-docs/stable/user_guide/indexing.html#returning-a-view-versus-a-copy\n",
            "/usr/local/lib/python3.7/dist-packages/ipykernel_launcher.py:51: SettingWithCopyWarning: \n",
            "A value is trying to be set on a copy of a slice from a DataFrame.\n",
            "Try using .loc[row_indexer,col_indexer] = value instead\n",
            "\n",
            "See the caveats in the documentation: https://pandas.pydata.org/pandas-docs/stable/user_guide/indexing.html#returning-a-view-versus-a-copy\n",
            "/usr/local/lib/python3.7/dist-packages/ipykernel_launcher.py:54: SettingWithCopyWarning: \n",
            "A value is trying to be set on a copy of a slice from a DataFrame.\n",
            "Try using .loc[row_indexer,col_indexer] = value instead\n",
            "\n",
            "See the caveats in the documentation: https://pandas.pydata.org/pandas-docs/stable/user_guide/indexing.html#returning-a-view-versus-a-copy\n",
            "/usr/local/lib/python3.7/dist-packages/ipykernel_launcher.py:57: SettingWithCopyWarning: \n",
            "A value is trying to be set on a copy of a slice from a DataFrame.\n",
            "Try using .loc[row_indexer,col_indexer] = value instead\n",
            "\n",
            "See the caveats in the documentation: https://pandas.pydata.org/pandas-docs/stable/user_guide/indexing.html#returning-a-view-versus-a-copy\n",
            "/usr/local/lib/python3.7/dist-packages/ipykernel_launcher.py:60: SettingWithCopyWarning: \n",
            "A value is trying to be set on a copy of a slice from a DataFrame.\n",
            "Try using .loc[row_indexer,col_indexer] = value instead\n",
            "\n",
            "See the caveats in the documentation: https://pandas.pydata.org/pandas-docs/stable/user_guide/indexing.html#returning-a-view-versus-a-copy\n",
            "/usr/local/lib/python3.7/dist-packages/ipykernel_launcher.py:63: SettingWithCopyWarning: \n",
            "A value is trying to be set on a copy of a slice from a DataFrame.\n",
            "Try using .loc[row_indexer,col_indexer] = value instead\n",
            "\n",
            "See the caveats in the documentation: https://pandas.pydata.org/pandas-docs/stable/user_guide/indexing.html#returning-a-view-versus-a-copy\n",
            "/usr/local/lib/python3.7/dist-packages/ipykernel_launcher.py:66: SettingWithCopyWarning: \n",
            "A value is trying to be set on a copy of a slice from a DataFrame.\n",
            "Try using .loc[row_indexer,col_indexer] = value instead\n",
            "\n",
            "See the caveats in the documentation: https://pandas.pydata.org/pandas-docs/stable/user_guide/indexing.html#returning-a-view-versus-a-copy\n",
            "/usr/local/lib/python3.7/dist-packages/ipykernel_launcher.py:69: SettingWithCopyWarning: \n",
            "A value is trying to be set on a copy of a slice from a DataFrame.\n",
            "Try using .loc[row_indexer,col_indexer] = value instead\n",
            "\n",
            "See the caveats in the documentation: https://pandas.pydata.org/pandas-docs/stable/user_guide/indexing.html#returning-a-view-versus-a-copy\n",
            "/usr/local/lib/python3.7/dist-packages/ipykernel_launcher.py:72: SettingWithCopyWarning: \n",
            "A value is trying to be set on a copy of a slice from a DataFrame.\n",
            "Try using .loc[row_indexer,col_indexer] = value instead\n",
            "\n",
            "See the caveats in the documentation: https://pandas.pydata.org/pandas-docs/stable/user_guide/indexing.html#returning-a-view-versus-a-copy\n",
            "/usr/local/lib/python3.7/dist-packages/ipykernel_launcher.py:75: SettingWithCopyWarning: \n",
            "A value is trying to be set on a copy of a slice from a DataFrame.\n",
            "Try using .loc[row_indexer,col_indexer] = value instead\n",
            "\n",
            "See the caveats in the documentation: https://pandas.pydata.org/pandas-docs/stable/user_guide/indexing.html#returning-a-view-versus-a-copy\n",
            "/usr/local/lib/python3.7/dist-packages/ipykernel_launcher.py:78: SettingWithCopyWarning: \n",
            "A value is trying to be set on a copy of a slice from a DataFrame.\n",
            "Try using .loc[row_indexer,col_indexer] = value instead\n",
            "\n",
            "See the caveats in the documentation: https://pandas.pydata.org/pandas-docs/stable/user_guide/indexing.html#returning-a-view-versus-a-copy\n",
            "/usr/local/lib/python3.7/dist-packages/ipykernel_launcher.py:81: SettingWithCopyWarning: \n",
            "A value is trying to be set on a copy of a slice from a DataFrame.\n",
            "Try using .loc[row_indexer,col_indexer] = value instead\n",
            "\n",
            "See the caveats in the documentation: https://pandas.pydata.org/pandas-docs/stable/user_guide/indexing.html#returning-a-view-versus-a-copy\n",
            "/usr/local/lib/python3.7/dist-packages/ipykernel_launcher.py:84: SettingWithCopyWarning: \n",
            "A value is trying to be set on a copy of a slice from a DataFrame.\n",
            "Try using .loc[row_indexer,col_indexer] = value instead\n",
            "\n",
            "See the caveats in the documentation: https://pandas.pydata.org/pandas-docs/stable/user_guide/indexing.html#returning-a-view-versus-a-copy\n",
            "/usr/local/lib/python3.7/dist-packages/ipykernel_launcher.py:87: SettingWithCopyWarning: \n",
            "A value is trying to be set on a copy of a slice from a DataFrame.\n",
            "Try using .loc[row_indexer,col_indexer] = value instead\n",
            "\n",
            "See the caveats in the documentation: https://pandas.pydata.org/pandas-docs/stable/user_guide/indexing.html#returning-a-view-versus-a-copy\n",
            "/usr/local/lib/python3.7/dist-packages/ipykernel_launcher.py:90: SettingWithCopyWarning: \n",
            "A value is trying to be set on a copy of a slice from a DataFrame.\n",
            "Try using .loc[row_indexer,col_indexer] = value instead\n",
            "\n",
            "See the caveats in the documentation: https://pandas.pydata.org/pandas-docs/stable/user_guide/indexing.html#returning-a-view-versus-a-copy\n"
          ]
        }
      ],
      "source": [
        "# create interaction terms for foreign\n",
        "interaction_foreign_0 = No_NA_central_table_no_ISO3['Foreign_Population.0_foreign'] * No_NA_central_table_no_ISO3['Country_Score.0_foreign']\n",
        "No_NA_central_table_no_ISO3['0_foreign*'] = interaction_foreign_0\n",
        "\n",
        "interaction_foreign_1 = No_NA_central_table_no_ISO3['Foreign_Population.1_foreign'] * No_NA_central_table_no_ISO3['Country_Score.1_foreign']\n",
        "No_NA_central_table_no_ISO3['1_foreign*'] = interaction_foreign_1\n",
        "\n",
        "interaction_foreign_2 = No_NA_central_table_no_ISO3['Foreign_Population.2_foreign'] * No_NA_central_table_no_ISO3['Country_Score.2_foreign']\n",
        "No_NA_central_table_no_ISO3['2_foreign*'] = interaction_foreign_2\n",
        "\n",
        "interaction_foreign_3 = No_NA_central_table_no_ISO3['Foreign_Population.3_foreign'] * No_NA_central_table_no_ISO3['Country_Score.3_foreign']\n",
        "No_NA_central_table_no_ISO3['3_foreign*'] = interaction_foreign_3\n",
        "\n",
        "interaction_foreign_4 = No_NA_central_table_no_ISO3['Foreign_Population.4_foreign'] * No_NA_central_table_no_ISO3['Country_Score.4_foreign']\n",
        "No_NA_central_table_no_ISO3['4_foreign*'] = interaction_foreign_4\n",
        "\n",
        "interaction_foreign_5 = No_NA_central_table_no_ISO3['Foreign_Population.5_foreign'] * No_NA_central_table_no_ISO3['Country_Score.5_foreign']\n",
        "No_NA_central_table_no_ISO3['5_foreign*'] = interaction_foreign_5\n",
        "\n",
        "interaction_foreign_6 = No_NA_central_table_no_ISO3['Foreign_Population.6_foreign'] * No_NA_central_table_no_ISO3['Country_Score.6_foreign']\n",
        "No_NA_central_table_no_ISO3['6_foreign*'] = interaction_foreign_6\n",
        "\n",
        "interaction_foreign_7 = No_NA_central_table_no_ISO3['Foreign_Population.7_foreign'] * No_NA_central_table_no_ISO3['Country_Score.7_foreign']\n",
        "No_NA_central_table_no_ISO3['7_foreign*'] = interaction_foreign_7\n",
        "\n",
        "interaction_foreign_8 = No_NA_central_table_no_ISO3['Foreign_Population.8_foreign'] * No_NA_central_table_no_ISO3['Country_Score.8_foreign']\n",
        "No_NA_central_table_no_ISO3['8_foreign*'] = interaction_foreign_8\n",
        "\n",
        "interaction_foreign_9 = No_NA_central_table_no_ISO3['Foreign_Population.9_foreign'] * No_NA_central_table_no_ISO3['Country_Score.9_foreign']\n",
        "No_NA_central_table_no_ISO3['9_foreign*'] = interaction_foreign_9\n",
        "\n",
        "interaction_foreign_10 = No_NA_central_table_no_ISO3['Foreign_Population.10_foreign'] * No_NA_central_table_no_ISO3['Country_Score.10_foreign']\n",
        "No_NA_central_table_no_ISO3['10_foreign*'] = interaction_foreign_10\n",
        "\n",
        "interaction_foreign_11 = No_NA_central_table_no_ISO3['Foreign_Population.11_foreign'] * No_NA_central_table_no_ISO3['Country_Score.11_foreign']\n",
        "No_NA_central_table_no_ISO3['11_foreign*'] = interaction_foreign_11\n",
        "\n",
        "interaction_foreign_12 = No_NA_central_table_no_ISO3['Foreign_Population.12_foreign'] * No_NA_central_table_no_ISO3['Country_Score.12_foreign']\n",
        "No_NA_central_table_no_ISO3['12_foreign*'] = interaction_foreign_12\n",
        "\n",
        "interaction_foreign_13 = No_NA_central_table_no_ISO3['Foreign_Population.13_foreign'] * No_NA_central_table_no_ISO3['Country_Score.13_foreign']\n",
        "No_NA_central_table_no_ISO3['13_foreign*'] = interaction_foreign_13\n",
        "\n",
        "interaction_foreign_14 = No_NA_central_table_no_ISO3['Foreign_Population.14_foreign'] * No_NA_central_table_no_ISO3['Country_Score.14_foreign']\n",
        "No_NA_central_table_no_ISO3['14_foreign*'] = interaction_foreign_14\n",
        "\n",
        "interaction_foreign_15 = No_NA_central_table_no_ISO3['Foreign_Population.15_foreign'] * No_NA_central_table_no_ISO3['Country_Score.15_foreign']\n",
        "No_NA_central_table_no_ISO3['15_foreign*'] = interaction_foreign_15\n",
        "\n",
        "interaction_foreign_16 = No_NA_central_table_no_ISO3['Foreign_Population.16_foreign'] * No_NA_central_table_no_ISO3['Country_Score.16_foreign']\n",
        "No_NA_central_table_no_ISO3['16_foreign*'] = interaction_foreign_16\n",
        "\n",
        "interaction_foreign_17 = No_NA_central_table_no_ISO3['Foreign_Population.17_foreign'] * No_NA_central_table_no_ISO3['Country_Score.17_foreign']\n",
        "No_NA_central_table_no_ISO3['17_foreign*'] = interaction_foreign_17\n",
        "\n",
        "interaction_foreign_18 = No_NA_central_table_no_ISO3['Foreign_Population.18_foreign'] * No_NA_central_table_no_ISO3['Country_Score.18_foreign']\n",
        "No_NA_central_table_no_ISO3['18_foreign*'] = interaction_foreign_18\n",
        "\n",
        "interaction_foreign_19 = No_NA_central_table_no_ISO3['Foreign_Population.19_foreign'] * No_NA_central_table_no_ISO3['Country_Score.19_foreign']\n",
        "No_NA_central_table_no_ISO3['19_foreign*'] = interaction_foreign_19\n",
        "\n",
        "interaction_foreign_20 = No_NA_central_table_no_ISO3['Foreign_Population.20_foreign'] * No_NA_central_table_no_ISO3['Country_Score.20_foreign']\n",
        "No_NA_central_table_no_ISO3['20_foreign*'] = interaction_foreign_20\n",
        "\n",
        "interaction_foreign_21 = No_NA_central_table_no_ISO3['Foreign_Population.21_foreign'] * No_NA_central_table_no_ISO3['Country_Score.21_foreign']\n",
        "No_NA_central_table_no_ISO3['21_foreign*'] = interaction_foreign_21\n",
        "\n",
        "interaction_foreign_22 = No_NA_central_table_no_ISO3['Foreign_Population.22_foreign'] * No_NA_central_table_no_ISO3['Country_Score.22_foreign']\n",
        "No_NA_central_table_no_ISO3['22_foreign*'] = interaction_foreign_22\n",
        "\n",
        "interaction_foreign_23 = No_NA_central_table_no_ISO3['Foreign_Population.23_foreign'] * No_NA_central_table_no_ISO3['Country_Score.23_foreign']\n",
        "No_NA_central_table_no_ISO3['23_foreign*'] = interaction_foreign_23\n",
        "\n",
        "interaction_foreign_24 = No_NA_central_table_no_ISO3['Foreign_Population.24_foreign'] * No_NA_central_table_no_ISO3['Country_Score.24_foreign']\n",
        "No_NA_central_table_no_ISO3['24_foreign*'] = interaction_foreign_24\n",
        "\n",
        "interaction_foreign_25 = No_NA_central_table_no_ISO3['Foreign_Population.25_foreign'] * No_NA_central_table_no_ISO3['Country_Score.25_foreign']\n",
        "No_NA_central_table_no_ISO3['25_foreign*'] = interaction_foreign_25\n",
        "\n",
        "interaction_foreign_26 = No_NA_central_table_no_ISO3['Foreign_Population.26_foreign'] * No_NA_central_table_no_ISO3['Country_Score.26_foreign']\n",
        "No_NA_central_table_no_ISO3['26_foreign*'] = interaction_foreign_26\n",
        "\n",
        "interaction_foreign_27 = No_NA_central_table_no_ISO3['Foreign_Population.27_foreign'] * No_NA_central_table_no_ISO3['Country_Score.27_foreign']\n",
        "No_NA_central_table_no_ISO3['27_foreign*'] = interaction_foreign_27\n",
        "\n",
        "interaction_foreign_28 = No_NA_central_table_no_ISO3['Foreign_Population.28_foreign'] * No_NA_central_table_no_ISO3['Country_Score.28_foreign']\n",
        "No_NA_central_table_no_ISO3['28_foreign*'] = interaction_foreign_28\n",
        "\n",
        "interaction_foreign_29 = No_NA_central_table_no_ISO3['Foreign_Population.29_foreign'] * No_NA_central_table_no_ISO3['Country_Score.29_foreign']\n",
        "No_NA_central_table_no_ISO3['29_foreign*'] = interaction_foreign_29\n",
        "\n",
        "interaction_foreign_30 = No_NA_central_table_no_ISO3['Foreign_Population.30_foreign'] * No_NA_central_table_no_ISO3['Country_Score.30_foreign']\n",
        "No_NA_central_table_no_ISO3['30_foreign*'] = interaction_foreign_30"
      ]
    },
    {
      "cell_type": "code",
      "execution_count": 162,
      "metadata": {
        "id": "LFobkW6vwZcL"
      },
      "outputs": [],
      "source": [
        "# Delete string variable country code\n",
        "Only_interaction_X_table = No_NA_central_table_no_ISO3[No_NA_central_table_no_ISO3.columns.drop(list(No_NA_central_table_no_ISO3.filter(regex = \"\\\\.\")))]"
      ]
    },
    {
      "cell_type": "code",
      "execution_count": 163,
      "metadata": {
        "id": "JsjGQvEDwoZe"
      },
      "outputs": [],
      "source": [
        "X_interaction = Only_interaction_X_table.drop([\"abortions_foreign\",\t\"abortions_local\",\t\"abortions_type\", \"abortions_total\"], axis=1)"
      ]
    },
    {
      "cell_type": "markdown",
      "metadata": {
        "id": "kAv4ZMwdv1mT"
      },
      "source": [
        "## Basic Model Creation"
      ]
    },
    {
      "cell_type": "code",
      "execution_count": 18,
      "metadata": {
        "id": "2oq41wLZLjX3"
      },
      "outputs": [],
      "source": [
        "\n",
        "# Set X and y values with our own data\n",
        "X = No_NA_central_table_no_ISO3.drop([\"abortions_foreign\",\t\"abortions_local\",\t\"abortions_type\", \"abortions_total\"], axis=1)\n",
        "y = No_NA_central_table_no_ISO3[\"abortions_type\"]"
      ]
    },
    {
      "cell_type": "code",
      "execution_count": null,
      "metadata": {
        "id": "mk85NB33QCEU"
      },
      "outputs": [],
      "source": [
        "# possibility to download the generated Data Frame without NAs\n",
        "No_NA_central_table_no_ISO3.to_csv('No_NA_central_table_no_ISO3.csv') \n",
        "from google.colab import files\n",
        "files.download(\"No_NA_central_table_no_ISO3.csv\")"
      ]
    },
    {
      "cell_type": "code",
      "execution_count": 19,
      "metadata": {
        "colab": {
          "base_uri": "https://localhost:8080/",
          "height": 295
        },
        "id": "5Oa4IIsILmMg",
        "outputId": "34d62acb-b66e-4320-d1d7-9485f5b75d34"
      },
      "outputs": [
        {
          "data": {
            "image/png": "[encoded data removed]",
            "text/plain": [
              "<Figure size 432x288 with 1 Axes>"
            ]
          },
          "metadata": {
            "needs_background": "light"
          },
          "output_type": "display_data"
        }
      ],
      "source": [
        "# Plot distribution of y\n",
        "# y is etremely uneven distributed\n",
        "import matplotlib.pyplot as plt\n",
        "\n",
        "y.value_counts().plot.barh()\n",
        "plt.xlabel(\"Number of samples\")\n",
        "_ = plt.title(\"Number of samples per class in target\")"
      ]
    },
    {
      "cell_type": "code",
      "execution_count": 20,
      "metadata": {
        "id": "9UBZS7FELofF"
      },
      "outputs": [],
      "source": [
        "# Set up training and testing data\n",
        "from sklearn.model_selection import train_test_split\n",
        "# TBA: set sub parameters (testsize etc.)\n",
        "X_train, X_test, y_train, y_test = train_test_split(\n",
        "    X, y, shuffle=True, random_state=123, test_size=0.5)"
      ]
    },
    {
      "cell_type": "markdown",
      "metadata": {},
      "source": [
        "## StandardScaler"
      ]
    },
    {
      "cell_type": "code",
      "execution_count": null,
      "metadata": {},
      "outputs": [],
      "source": [
        "from sklearn.preprocessing import StandardScaler\n",
        "sc = StandardScaler()\n",
        "X_train = sc.fit_transform(X_train)\n",
        "X_test = sc.transform(X_test)"
      ]
    },
    {
      "cell_type": "markdown",
      "metadata": {
        "id": "h4sXcN-EjPx-"
      },
      "source": [
        "## Dummy Model"
      ]
    },
    {
      "cell_type": "code",
      "execution_count": 21,
      "metadata": {
        "colab": {
          "base_uri": "https://localhost:8080/"
        },
        "id": "djbTbUI-jZOL",
        "outputId": "3e45c934-e67b-4d47-e388-19a5f6eaa85b"
      },
      "outputs": [
        {
          "name": "stdout",
          "output_type": "stream",
          "text": [
            "Accuracy Dummy Classifier: 0.994\n"
          ]
        }
      ],
      "source": [
        "from sklearn.dummy import DummyClassifier\n",
        "\n",
        "dummy_classifier = DummyClassifier(strategy=\"most_frequent\")\n",
        "dummy_classifier.fit(X_train, y_train)\n",
        "print(f\"Accuracy Dummy Classifier: \"\n",
        "      f\"{dummy_classifier.score(X_test, y_test):.3f}\")"
      ]
    },
    {
      "cell_type": "markdown",
      "metadata": {
        "id": "uiP6IRUL1Dy9"
      },
      "source": [
        "## Logistic Regression Model (unweighted)"
      ]
    },
    {
      "cell_type": "code",
      "execution_count": 24,
      "metadata": {
        "colab": {
          "base_uri": "https://localhost:8080/"
        },
        "id": "keVroQK4LqUs",
        "outputId": "ee57fd1a-df55-4828-e3b0-cc4ac7cfe364"
      },
      "outputs": [
        {
          "name": "stdout",
          "output_type": "stream",
          "text": [
            "Elapsed time to compute the model: 9.418 seconds\n"
          ]
        }
      ],
      "source": [
        "# Create Logistic Regression Model\n",
        "from sklearn.linear_model import LogisticRegression\n",
        "import time\n",
        "\n",
        "# measuring the time to run the model\n",
        "start_time = time.time()\n",
        "\n",
        "classifier_no_weights = LogisticRegression(max_iter= 1000)\n",
        "classifier_no_weights.fit(X_train, y_train)\n",
        "\n",
        "# Time elapsed since starting computing\n",
        "elapsed_time = time.time() - start_time\n",
        "\n",
        "print(f\"Elapsed time to compute the model: \"\n",
        "      f\"{elapsed_time:.3f} seconds\")"
      ]
    },
    {
      "cell_type": "markdown",
      "metadata": {
        "id": "epyrv0zSGHAI"
      },
      "source": [
        "### Accuracy Metrics"
      ]
    },
    {
      "cell_type": "code",
      "execution_count": null,
      "metadata": {
        "colab": {
          "base_uri": "https://localhost:8080/"
        },
        "id": "q-A5p3trmWiy",
        "outputId": "190508c3-286e-49d3-c32c-2277d61ac22e"
      },
      "outputs": [
        {
          "name": "stdout",
          "output_type": "stream",
          "text": [
            " Unbabalnced accuracy: 0.994\n"
          ]
        }
      ],
      "source": [
        "# LogisticRegression .score for the unweighted model for accuracy metrics\n",
        "# Accuracy score is extremely high (which is a suspicious) \n",
        "unbalanced_accuracy_unweighted = classifier_no_weights.score(X_test, y_test)\n",
        "print(f\" Unbabalnced accuracy: {unbalanced_accuracy_unweighted:.3f}\")"
      ]
    },
    {
      "cell_type": "code",
      "execution_count": null,
      "metadata": {
        "colab": {
          "base_uri": "https://localhost:8080/"
        },
        "id": "IhSTQDcwn4q9",
        "outputId": "becc90cf-5a70-48c7-d4ce-ad382ba5f452"
      },
      "outputs": [
        {
          "name": "stdout",
          "output_type": "stream",
          "text": [
            "Balanced accuracy: 0.500\n"
          ]
        }
      ],
      "source": [
        "# Using 'balanced accuracy' metric (for binary and multiclass classification problems with imbalanced datasets)\n",
        "# Definition: Average of recall obtained on each class\n",
        "# Unweighted balanced accuracy is 50/50 (which is a poor score) \n",
        " \n",
        "from sklearn.metrics import balanced_accuracy_score\n",
        "\n",
        "target_predicted = classifier_no_weights.predict(X_test)\n",
        "\n",
        "balanced_accuracy_unweighted = balanced_accuracy_score(y_test, target_predicted)\n",
        "print(f\"Balanced accuracy: {balanced_accuracy_unweighted:.3f}\")"
      ]
    },
    {
      "cell_type": "code",
      "execution_count": 25,
      "metadata": {
        "colab": {
          "base_uri": "https://localhost:8080/"
        },
        "id": "B1lBZwHDOx5M",
        "outputId": "29853e4d-4c21-470e-a3b8-2ae4d8be6cb8"
      },
      "outputs": [
        {
          "name": "stdout",
          "output_type": "stream",
          "text": [
            "Area Under ROC Curve (AUROC): 0.9022\n"
          ]
        }
      ],
      "source": [
        "from sklearn.metrics import roc_auc_score\n",
        "\n",
        "# What about AUROC?\n",
        "# Area Under ROC Curve (AUROC) represents the likelihood of your model distinguishing observations from two classes\n",
        "prob_y_log = classifier_no_weights.predict_proba(X_test)\n",
        "prob_y_log = [p[1] for p in prob_y_log]\n",
        "\n",
        "print(f\"Area Under ROC Curve (AUROC): \"\n",
        "      f\"{roc_auc_score(y_test, prob_y_log):.4f}\")\n"
      ]
    },
    {
      "cell_type": "markdown",
      "metadata": {
        "id": "Z052CWAOFvzf"
      },
      "source": [
        "### Confusion Matrix"
      ]
    },
    {
      "cell_type": "code",
      "execution_count": null,
      "metadata": {
        "colab": {
          "base_uri": "https://localhost:8080/",
          "height": 279
        },
        "id": "1vU3P6uVXms-",
        "outputId": "3f8be389-2642-40d8-f158-e77dd9b85d0d"
      },
      "outputs": [
        {
          "data": {
            "image/png": "[encoded data removed]",
            "text/plain": [
              "<Figure size 432x288 with 2 Axes>"
            ]
          },
          "metadata": {
            "needs_background": "light"
          },
          "output_type": "display_data"
        }
      ],
      "source": [
        "# Due to the extreme inbalance, an unweighted model predicts 0 foreign pregnancies\n",
        "# An unweighted model therefore scores extremely high on unbalanced accuracy and extremely poor on balanced accuracy\n",
        "from sklearn.metrics import ConfusionMatrixDisplay\n",
        "\n",
        "_ = ConfusionMatrixDisplay.from_estimator(classifier_no_weights, X_test, y_test)"
      ]
    },
    {
      "cell_type": "markdown",
      "metadata": {
        "id": "3gf6Roiz3yp5"
      },
      "source": [
        "## Logistic Regression Model (weighted)"
      ]
    },
    {
      "cell_type": "code",
      "execution_count": 29,
      "metadata": {
        "colab": {
          "base_uri": "https://localhost:8080/"
        },
        "id": "Li9-V6KbqdMD",
        "outputId": "aea2dd14-d131-4ff0-e11a-3e087f61b940"
      },
      "outputs": [
        {
          "name": "stdout",
          "output_type": "stream",
          "text": [
            "[ 0.50297422 84.5557554 ]\n",
            "LogisticRegression(class_weight={0: 0.502974216326094, 1: 84.55575539568345},\n",
            "                   max_iter=1500)\n",
            "Elapsed time to compute the model: 21.410 seconds\n"
          ]
        }
      ],
      "source": [
        "# Optimized class weights based on the distribution of the y variables\n",
        "from sklearn.utils.class_weight import compute_class_weight\n",
        "\n",
        "# measuring the time to run the model\n",
        "start_time = time.time()\n",
        "\n",
        "classes = np.unique(y)\n",
        "class_weights = compute_class_weight(class_weight = \"balanced\", classes= np.unique(y_train), y= y_train)\n",
        "print(class_weights)\n",
        "\n",
        "# Implement provided ideal weights into Logistic Regression Model\n",
        "classifier_class_weights = LogisticRegression(max_iter= 1500, class_weight={0:class_weights[0],1:class_weights[1]})\n",
        "classifier_class_weights.fit(X_train, y_train)\n",
        "print(classifier_class_weights.fit(X_train, y_train))\n",
        "\n",
        "# Time elapsed since starting computing\n",
        "elapsed_time = time.time() - start_time\n",
        "\n",
        "print(f\"Elapsed time to compute the model: \"\n",
        "      f\"{elapsed_time:.3f} seconds\")"
      ]
    },
    {
      "cell_type": "code",
      "execution_count": 27,
      "metadata": {
        "colab": {
          "base_uri": "https://localhost:8080/"
        },
        "id": "S0KEYcbyu_Tg",
        "outputId": "e2a98951-851b-4140-ef54-a6b72ca54d55"
      },
      "outputs": [
        {
          "data": {
            "text/plain": [
              "LogisticRegression(class_weight={0: 0.502974216326094, 1: 84.55575539568345},\n",
              "                   max_iter=1500)"
            ]
          },
          "execution_count": 27,
          "metadata": {},
          "output_type": "execute_result"
        }
      ],
      "source": [
        "# Implement provided ideal weights into Logistic Regression Model\n",
        "classifier_class_weights = LogisticRegression(max_iter= 1500, class_weight={0:class_weights[0],1:class_weights[1]})\n",
        "classifier_class_weights.fit(X_train, y_train)"
      ]
    },
    {
      "cell_type": "code",
      "execution_count": 28,
      "metadata": {
        "colab": {
          "base_uri": "https://localhost:8080/"
        },
        "id": "mirSzy9EQe1o",
        "outputId": "2047c668-acaf-4620-8949-0cfe2cb5def1"
      },
      "outputs": [
        {
          "name": "stdout",
          "output_type": "stream",
          "text": [
            "Area Under ROC Curve (AUROC): 0.9022\n"
          ]
        }
      ],
      "source": [
        "# What about AUROC?\n",
        "# Area Under ROC Curve (AUROC) represents the likelihood of your model distinguishing observations from two classes\n",
        "prob_y_log_weigh = classifier_class_weights.predict_proba(X_test)\n",
        "prob_y_log_weigh = [p[1] for p in prob_y_log_weigh]\n",
        "\n",
        "print(f\"Area Under ROC Curve (AUROC): \"\n",
        "      f\"{roc_auc_score(y_test, prob_y_log_weigh):.4f}\")"
      ]
    },
    {
      "cell_type": "markdown",
      "metadata": {
        "id": "vAhRQgg5F8yp"
      },
      "source": [
        "### Accuracy Metrics"
      ]
    },
    {
      "cell_type": "code",
      "execution_count": null,
      "metadata": {
        "colab": {
          "base_uri": "https://localhost:8080/"
        },
        "id": "1zFkFtFxwqus",
        "outputId": "13968e43-473e-4c21-d0fa-a2897b49a03e"
      },
      "outputs": [
        {
          "name": "stdout",
          "output_type": "stream",
          "text": [
            " Unbabalanced accuracy: 0.861\n"
          ]
        }
      ],
      "source": [
        "# LogisticRegression .score for the unweighted model for accuracy metrics\n",
        "# score is still high but not necessarily problematic (lower than unweighted)\n",
        "unbalanced_accuracy_weighted = classifier_class_weights.score(X_test, y_test)\n",
        "print(f\" Unbabalanced accuracy: {unbalanced_accuracy_weighted:.3f}\")"
      ]
    },
    {
      "cell_type": "code",
      "execution_count": null,
      "metadata": {
        "colab": {
          "base_uri": "https://localhost:8080/"
        },
        "id": "vshSkwQHwt1q",
        "outputId": "2420ea8f-6b6b-4aa5-ae1b-a889d69fd2cb"
      },
      "outputs": [
        {
          "name": "stdout",
          "output_type": "stream",
          "text": [
            "Balanced accuracy: 0.845\n"
          ]
        }
      ],
      "source": [
        "# Using 'balanced accuracy' metric (for binary and multiclass classification problems with imbalanced datasets)\n",
        "# Definition: Average of recall obtained on each class\n",
        "# Unweighted balanced accuracy is high and much better than the performance of the unweighted model \n",
        " \n",
        "from sklearn.metrics import balanced_accuracy_score\n",
        "\n",
        "target_predicted = classifier_class_weights.predict(X_test)\n",
        "\n",
        "balanced_accuracy_weighted = balanced_accuracy_score(y_test, target_predicted)\n",
        "print(f\"Balanced accuracy: {balanced_accuracy_weighted:.3f}\")"
      ]
    },
    {
      "cell_type": "markdown",
      "metadata": {
        "id": "vD7zuKCXF1HS"
      },
      "source": [
        "### Confusion Matrix"
      ]
    },
    {
      "cell_type": "code",
      "execution_count": null,
      "metadata": {
        "colab": {
          "base_uri": "https://localhost:8080/",
          "height": 282
        },
        "id": "CLFcZEOswxEf",
        "outputId": "2585943d-2204-4d06-a6c2-04486f95c63d"
      },
      "outputs": [
        {
          "data": {
            "image/png": "[encoded data removed]",
            "text/plain": [
              "<Figure size 432x288 with 2 Axes>"
            ]
          },
          "metadata": {
            "needs_background": "light"
          },
          "output_type": "display_data"
        }
      ],
      "source": [
        "# Confusion Matrix shows much improved numbers\n",
        "from sklearn.metrics import ConfusionMatrixDisplay\n",
        "\n",
        "_ = ConfusionMatrixDisplay.from_estimator(classifier_class_weights, X_test, y_test)"
      ]
    },
    {
      "cell_type": "markdown",
      "metadata": {
        "id": "PKz_MM65FhLA"
      },
      "source": [
        "## Metrics"
      ]
    },
    {
      "cell_type": "markdown",
      "metadata": {
        "id": "LgkAyjj5515f"
      },
      "source": [
        "### Precision-Recall Curves\n",
        "\n"
      ]
    },
    {
      "cell_type": "code",
      "execution_count": null,
      "metadata": {
        "colab": {
          "base_uri": "https://localhost:8080/",
          "height": 295
        },
        "id": "30xRc7e456hg",
        "outputId": "a0fd2c5d-b86c-49cc-9abe-8cb4eaf34544"
      },
      "outputs": [
        {
          "data": {
            "image/png": "[encoded data removed]",
            "text/plain": [
              "<Figure size 432x288 with 1 Axes>"
            ]
          },
          "metadata": {
            "needs_background": "light"
          },
          "output_type": "display_data"
        }
      ],
      "source": [
        "# Precision-Recall Curve\n",
        "# reflects the high basic score of the dummy model (due to very inbalanced classes), however our weighted model still performs better\n",
        "from sklearn.metrics import PrecisionRecallDisplay\n",
        "\n",
        "disp = PrecisionRecallDisplay.from_estimator(\n",
        "    classifier_class_weights, X_test, y_test, pos_label= 0,\n",
        "    marker=\"+\")\n",
        "disp = PrecisionRecallDisplay.from_estimator(\n",
        "    dummy_classifier, X_test, y_test, pos_label= 0,\n",
        "    color=\"tab:orange\", linestyle=\"--\", ax=disp.ax_)\n",
        "plt.xlabel(\"Recall (TPR or sensitivity)\")\n",
        "plt.ylabel(\"Precision (PPV)\")\n",
        "plt.xlim(0, 1)\n",
        "plt.ylim(0, 1)\n",
        "plt.legend(bbox_to_anchor=(1.05, 0.8), loc=\"upper left\")\n",
        "_ = disp.ax_.set_title(\"Precision-recall curve\")"
      ]
    },
    {
      "cell_type": "markdown",
      "metadata": {
        "id": "TALubLsS6ixw"
      },
      "source": [
        "###Receiver Operating Characteristic (ROC) Curve"
      ]
    },
    {
      "cell_type": "code",
      "execution_count": null,
      "metadata": {
        "colab": {
          "base_uri": "https://localhost:8080/",
          "height": 295
        },
        "id": "WgblL7SL6lXU",
        "outputId": "1676062d-a56d-4925-d6db-92ff4994ffa9"
      },
      "outputs": [
        {
          "data": {
            "image/png": "[encoded data removed]",
            "text/plain": [
              "<Figure size 432x288 with 1 Axes>"
            ]
          },
          "metadata": {
            "needs_background": "light"
          },
          "output_type": "display_data"
        }
      ],
      "source": [
        "# Receiver Operating Characteristic (ROC) Curve\n",
        "# probability threshold varies for determining prediction and compute the metrics\n",
        "# Area under the ROC (ROC-AUC) to characterize the generalization performance of our classifier (similar to precision-recall curve above)\n",
        "# lower bound of the ROC-AUC is 0.5 (generalization performance of dummy classifier)\n",
        "from sklearn.metrics import RocCurveDisplay\n",
        "\n",
        "disp = RocCurveDisplay.from_estimator(\n",
        "    classifier_class_weights, X_test, y_test, pos_label= 0,\n",
        "    marker=\"+\")\n",
        "disp = RocCurveDisplay.from_estimator(\n",
        "    dummy_classifier, X_test, y_test, pos_label= 0,\n",
        "    color=\"tab:orange\", ax=disp.ax_)\n",
        "plt.xlabel(\"False positive rate\")\n",
        "plt.ylabel(\"True positive rate\\n(sensitivity or recall)\")\n",
        "plt.xlim(0, 1)\n",
        "plt.ylim(0, 1)\n",
        "plt.legend(bbox_to_anchor=(1.05, 0.8), loc=\"upper left\")\n",
        "_ = disp.ax_.set_title(\"Receiver Operating Characteristic curve\")\n",
        "\n"
      ]
    },
    {
      "cell_type": "markdown",
      "metadata": {
        "id": "dH_XBTIPRjq8"
      },
      "source": [
        "# Further Modeling "
      ]
    },
    {
      "cell_type": "markdown",
      "metadata": {
        "id": "yseL3dTUSDvv"
      },
      "source": [
        "## Random Forest"
      ]
    },
    {
      "cell_type": "markdown",
      "metadata": {
        "id": "jDdVCPcLfHLz"
      },
      "source": [
        "### Random Forest Classifier (unweighted)"
      ]
    },
    {
      "cell_type": "code",
      "execution_count": 30,
      "metadata": {
        "colab": {
          "base_uri": "https://localhost:8080/"
        },
        "id": "xC844-lmfJ1D",
        "outputId": "c99461fe-2d8a-470b-980e-208d8ab35301"
      },
      "outputs": [
        {
          "name": "stdout",
          "output_type": "stream",
          "text": [
            "Elapsed time to compute the model: 7.851 seconds\n",
            "Classes that are being predicted: [0]\n",
            "Accuracy Score: 0.9938\n",
            "Area Under ROC Curve (AUROC): 0.9022\n",
            "Elapsed time to compute the model and evaluation: 8.330 seconds\n"
          ]
        }
      ],
      "source": [
        "# Decision trees often perform better on imbalanced datasets.\n",
        "# their hierarchical structure allows them to learn signals from both classes.\n",
        "# One Option here would be using a Random Forest model.\n",
        "\n",
        "from sklearn.ensemble import RandomForestClassifier\n",
        "from sklearn.metrics import accuracy_score\n",
        "from sklearn.metrics import balanced_accuracy_score\n",
        "from sklearn.metrics import roc_auc_score\n",
        "import time\n",
        "\n",
        "# measuring the time to run the model\n",
        "start_time = time.time()\n",
        " \n",
        "# Train model\n",
        "classifier_forest = RandomForestClassifier(random_state=123)\n",
        "classifier_forest.fit(X_train, y_train)\n",
        " \n",
        "# Predict on training set\n",
        "pred_y_forest = classifier_forest.predict(X_test)\n",
        "\n",
        "# Time elapsed since starting computing\n",
        "elapsed_time = time.time() - start_time\n",
        "\n",
        "print(f\"Elapsed time to compute the model: \"\n",
        "      f\"{elapsed_time:.3f} seconds\")\n",
        "\n",
        "# Is our model predicting both classes?\n",
        "print(f\"Classes that are being predicted: \"\n",
        "      f\"{np.unique(pred_y_forest)}\")\n",
        "# this model is only predicting 0, which means it’s completely ignoring the minority class in favor of the majority class\n",
        " \n",
        "# How's our accuracy?\n",
        "print(f\"Accuracy Score: \"\n",
        "      f\"{accuracy_score(y_test, pred_y_forest):.4f}\")\n",
        " \n",
        "# What about AUROC?\n",
        "# Area Under ROC Curve (AUROC) represents the likelihood of your model distinguishing observations from two classes\n",
        "prob_y_forest = classifier_forest.predict_proba(X_test)\n",
        "prob_y_forest = [p[1] for p in prob_y_forest]\n",
        "\n",
        "print(f\"Area Under ROC Curve (AUROC): \"\n",
        "      f\"{roc_auc_score(y_test, prob_y_forest):.4f}\")\n",
        "\n",
        "# time elapsed iclouding evalutaion\n",
        "elapsed_time = time.time() - start_time\n",
        "\n",
        "print(f\"Elapsed time to compute the model and evaluation: \"\n",
        "      f\"{elapsed_time:.3f} seconds\")"
      ]
    },
    {
      "cell_type": "code",
      "execution_count": null,
      "metadata": {
        "colab": {
          "base_uri": "https://localhost:8080/"
        },
        "id": "gHQh6nolh2-k",
        "outputId": "244f86ab-3361-49d3-a787-ba654ae1a219"
      },
      "outputs": [
        {
          "name": "stdout",
          "output_type": "stream",
          "text": [
            "              precision    recall  f1-score   support\n",
            "\n",
            "           0       0.99      1.00      1.00     46721\n",
            "           1       0.00      0.00      0.00       292\n",
            "\n",
            "    accuracy                           0.99     47013\n",
            "   macro avg       0.50      0.50      0.50     47013\n",
            "weighted avg       0.99      0.99      0.99     47013\n",
            "\n"
          ]
        },
        {
          "name": "stderr",
          "output_type": "stream",
          "text": [
            "/usr/local/lib/python3.7/dist-packages/sklearn/metrics/_classification.py:1318: UndefinedMetricWarning: Precision and F-score are ill-defined and being set to 0.0 in labels with no predicted samples. Use `zero_division` parameter to control this behavior.\n",
            "  _warn_prf(average, modifier, msg_start, len(result))\n",
            "/usr/local/lib/python3.7/dist-packages/sklearn/metrics/_classification.py:1318: UndefinedMetricWarning: Precision and F-score are ill-defined and being set to 0.0 in labels with no predicted samples. Use `zero_division` parameter to control this behavior.\n",
            "  _warn_prf(average, modifier, msg_start, len(result))\n",
            "/usr/local/lib/python3.7/dist-packages/sklearn/metrics/_classification.py:1318: UndefinedMetricWarning: Precision and F-score are ill-defined and being set to 0.0 in labels with no predicted samples. Use `zero_division` parameter to control this behavior.\n",
            "  _warn_prf(average, modifier, msg_start, len(result))\n"
          ]
        }
      ],
      "source": [
        "# View the classification report for test data and predictions\n",
        "from sklearn.metrics import classification_report\n",
        "\n",
        "print(classification_report(y_test, pred_y_forest))"
      ]
    },
    {
      "cell_type": "code",
      "execution_count": null,
      "metadata": {
        "colab": {
          "base_uri": "https://localhost:8080/",
          "height": 279
        },
        "id": "oZBpQVNFPfyl",
        "outputId": "9abd94cc-acbf-4b96-dc15-5c37dae898e8"
      },
      "outputs": [
        {
          "data": {
            "image/png": "[encoded data removed]",
            "text/plain": [
              "<Figure size 432x288 with 2 Axes>"
            ]
          },
          "metadata": {
            "needs_background": "light"
          },
          "output_type": "display_data"
        }
      ],
      "source": [
        "# View confusion matrix for test data and predictions\n",
        "from sklearn.metrics import ConfusionMatrixDisplay\n",
        "\n",
        "_ = ConfusionMatrixDisplay.from_estimator(classifier_forest, X_test, y_test)"
      ]
    },
    {
      "cell_type": "markdown",
      "metadata": {
        "id": "8MsOldFKHkxB"
      },
      "source": [
        "### Random Forest Classifier (weighted)"
      ]
    },
    {
      "cell_type": "code",
      "execution_count": 31,
      "metadata": {
        "colab": {
          "base_uri": "https://localhost:8080/"
        },
        "id": "O_VlBhi6HrSV",
        "outputId": "ff38f9e7-59b6-4efe-e99c-9f698d77538d"
      },
      "outputs": [
        {
          "name": "stdout",
          "output_type": "stream",
          "text": [
            "Elapsed time to compute the model: 7.311 seconds\n",
            "Classes that are being predicted: [0 1]\n",
            "Accuracy Score: 0.8607\n",
            "Area Under ROC Curve (AUROC): 0.8448\n",
            "Elapsed time to compute the model and evaluation: 7.787 seconds\n"
          ]
        }
      ],
      "source": [
        "# Train model with balanced class weight\n",
        "\n",
        "# measuring the time to run the model\n",
        "start_time = time.time()\n",
        "\n",
        "# The “balanced” mode uses the values of y to automatically adjust weights inversely proportional to class frequencies in the input data as n_samples / (n_classes * np.bincount(y))\n",
        "classifier_weighted_forest = RandomForestClassifier(random_state=123, class_weight='balanced')\n",
        "classifier_weighted_forest.fit(X_train, y_train)\n",
        " \n",
        "# Predict on training set\n",
        "pred_y_weighted_forest = classifier_weighted_forest.predict(X_test)\n",
        "\n",
        "# Time elapsed since starting computing\n",
        "elapsed_time = time.time() - start_time\n",
        "\n",
        "print(f\"Elapsed time to compute the model: \"\n",
        "      f\"{elapsed_time:.3f} seconds\")\n",
        " \n",
        "# Is our model still predicting just one class?\n",
        "print(f\"Classes that are being predicted: \"\n",
        "      f\"{np.unique(pred_y_weighted_forest)}\")\n",
        " \n",
        "# How's our accuracy when a weight is added?\n",
        "print(f\"Accuracy Score: \"\n",
        "      f\"{accuracy_score(y_test, pred_y_weighted_forest):.4f}\")\n",
        " \n",
        "# What about AUROC?\n",
        "# Area Under ROC Curve (AUROC) represents the likelihood of your model distinguishing observations from two classes\n",
        "prob_y_weighted_forest = classifier_weighted_forest.predict_proba(X_test)\n",
        "prob_y_weighted_forest = [p[1] for p in prob_y_weighted_forest]\n",
        "\n",
        "print(f\"Area Under ROC Curve (AUROC): \"\n",
        "      f\"{roc_auc_score(y_test, pred_y_weighted_forest):.4f}\")\n",
        "\n",
        "# time elapsed iclouding evalutaion\n",
        "elapsed_time = time.time() - start_time\n",
        "\n",
        "print(f\"Elapsed time to compute the model and evaluation: \"\n",
        "      f\"{elapsed_time:.3f} seconds\")"
      ]
    },
    {
      "cell_type": "code",
      "execution_count": null,
      "metadata": {
        "colab": {
          "base_uri": "https://localhost:8080/"
        },
        "id": "qWayl7QUh0Or",
        "outputId": "3a2eaf7a-12b0-4a96-ce32-73358b0575c3"
      },
      "outputs": [
        {
          "name": "stdout",
          "output_type": "stream",
          "text": [
            "              precision    recall  f1-score   support\n",
            "\n",
            "           0       1.00      0.86      0.92     46721\n",
            "           1       0.04      0.83      0.07       292\n",
            "\n",
            "    accuracy                           0.86     47013\n",
            "   macro avg       0.52      0.84      0.50     47013\n",
            "weighted avg       0.99      0.86      0.92     47013\n",
            "\n"
          ]
        }
      ],
      "source": [
        "# View the classification report for test data and predictions\n",
        "\n",
        "print(classification_report(y_test, pred_y_weighted_forest))"
      ]
    },
    {
      "cell_type": "code",
      "execution_count": null,
      "metadata": {
        "colab": {
          "base_uri": "https://localhost:8080/",
          "height": 282
        },
        "id": "pZs8mgGePQsR",
        "outputId": "0a494278-9ba3-4a13-f479-746f50daba48"
      },
      "outputs": [
        {
          "data": {
            "image/png": "[encoded data removed]",
            "text/plain": [
              "<Figure size 432x288 with 2 Axes>"
            ]
          },
          "metadata": {
            "needs_background": "light"
          },
          "output_type": "display_data"
        }
      ],
      "source": [
        "# View confusion matrix for test data and predictions\n",
        "from sklearn.metrics import ConfusionMatrixDisplay\n",
        "\n",
        "_ = ConfusionMatrixDisplay.from_estimator(classifier_weighted_forest, X_test, y_test)"
      ]
    },
    {
      "cell_type": "markdown",
      "metadata": {
        "id": "q5kOk2tbKynS"
      },
      "source": [
        "### Random Forest with Random Undersampling"
      ]
    },
    {
      "cell_type": "code",
      "execution_count": 32,
      "metadata": {
        "colab": {
          "base_uri": "https://localhost:8080/"
        },
        "id": "RkYCkYchK4Eh",
        "outputId": "17dce326-dc04-45fb-bcd3-eed7dbfa2758"
      },
      "outputs": [
        {
          "name": "stdout",
          "output_type": "stream",
          "text": [
            "Elapsed time to compute the model: 2.231 seconds\n",
            "Classes that are being predicted: [0 1]\n",
            "Accuracy Score: 0.8607\n",
            "Area Under ROC Curve (AUROC): 0.9035\n",
            "Elapsed time to compute the model and evaluation: 2.704 seconds\n"
          ]
        }
      ],
      "source": [
        "# A balanced random forest randomly under-samples each boostrap sample to balance it.\n",
        "from imblearn.ensemble import BalancedRandomForestClassifier\n",
        "\n",
        "# measuring the time to run the model\n",
        "start_time = time.time()\n",
        "\n",
        "# Train model \n",
        "classifier_balanced_forest = BalancedRandomForestClassifier(random_state=123)\n",
        "classifier_balanced_forest.fit(X_train, y_train)\n",
        " \n",
        "# Predict on training set\n",
        "pred_y_balanced_forest = classifier_balanced_forest.predict(X_test)\n",
        "\n",
        "# Time elapsed since starting computing\n",
        "elapsed_time = time.time() - start_time\n",
        "\n",
        "print(f\"Elapsed time to compute the model: \"\n",
        "      f\"{elapsed_time:.3f} seconds\")\n",
        " \n",
        "# Is our model still predicting just one class?\n",
        "print(f\"Classes that are being predicted: \"\n",
        "      f\"{np.unique(pred_y_balanced_forest)}\")\n",
        " \n",
        "# How's our accuracy when a weight is added?\n",
        "print(f\"Accuracy Score: \"\n",
        "      f\"{accuracy_score(y_test, pred_y_balanced_forest):.4f}\")\n",
        " \n",
        "# What about AUROC?\n",
        "# Area Under ROC Curve (AUROC) represents the likelihood of your model distinguishing observations from two classes\n",
        "prob_y_balanced_forest = classifier_balanced_forest.predict_proba(X_test)\n",
        "prob_y_balanced_forest = [p[1] for p in prob_y_balanced_forest]\n",
        "\n",
        "print(f\"Area Under ROC Curve (AUROC): \"\n",
        "      f\"{roc_auc_score(y_test, prob_y_balanced_forest):.4f}\")\n",
        "\n",
        "# time elapsed iclouding evalutaion\n",
        "elapsed_time = time.time() - start_time\n",
        "\n",
        "print(f\"Elapsed time to compute the model and evaluation: \"\n",
        "      f\"{elapsed_time:.3f} seconds\")"
      ]
    },
    {
      "cell_type": "code",
      "execution_count": 100,
      "metadata": {
        "colab": {
          "base_uri": "https://localhost:8080/"
        },
        "id": "OxdCYV8Mcow1",
        "outputId": "46fd3430-2f9d-44c4-b73f-1012f65d4d61"
      },
      "outputs": [
        {
          "name": "stdout",
          "output_type": "stream",
          "text": [
            "              precision    recall  f1-score   support\n",
            "\n",
            "           0       1.00      0.86      0.92     46721\n",
            "           1       0.04      0.83      0.07       292\n",
            "\n",
            "    accuracy                           0.86     47013\n",
            "   macro avg       0.52      0.84      0.50     47013\n",
            "weighted avg       0.99      0.86      0.92     47013\n",
            "\n"
          ]
        }
      ],
      "source": [
        "# View the classification report for test data and predictions\n",
        "from sklearn.metrics import classification_report\n",
        "\n",
        "print(classification_report(y_test, pred_y_balanced_forest))"
      ]
    },
    {
      "cell_type": "code",
      "execution_count": 101,
      "metadata": {
        "colab": {
          "base_uri": "https://localhost:8080/",
          "height": 390
        },
        "id": "R0aunB8yCxrd",
        "outputId": "dc4eb074-a689-437d-f67b-5a866d7476a5"
      },
      "outputs": [
        {
          "data": {
            "image/png": "[encoded data removed]",
            "text/plain": [
              "<Figure size 1152x432 with 2 Axes>"
            ]
          },
          "metadata": {
            "needs_background": "light"
          },
          "output_type": "display_data"
        }
      ],
      "source": [
        "# View confusion matrix for test data and predictions\n",
        "from sklearn.metrics import ConfusionMatrixDisplay\n",
        "\n",
        "_ = ConfusionMatrixDisplay.from_estimator(classifier_balanced_forest, X_test, y_test)"
      ]
    },
    {
      "cell_type": "code",
      "execution_count": 102,
      "metadata": {
        "colab": {
          "base_uri": "https://localhost:8080/"
        },
        "id": "TrhiGc3GQL8s",
        "outputId": "c052f124-d38e-4a9d-d733-cee45328651a"
      },
      "outputs": [
        {
          "name": "stdout",
          "output_type": "stream",
          "text": [
            "Index(['Country_Score.6_foreign', 'Country_Score.7_foreign',\n",
            "       'Country_Score.18_foreign', 'Distance.0_geography',\n",
            "       'Distance.12_geography', 'Distance.14_geography',\n",
            "       'Distance.15_geography', 'Distance.16_geography',\n",
            "       'Distance.17_geography', 'Distance.18_geography',\n",
            "       'Distance.19_geography', 'Distance.20_geography',\n",
            "       'Distance.21_geography', 'Distance.24_geography',\n",
            "       'Distance.26_geography', 'Distance.29_geography',\n",
            "       'Distance.30_geography', 'Country_Score.1_geography',\n",
            "       'Country_Score.2_geography', 'Country_Score.11_geography',\n",
            "       'Country_Score.15_geography', 'Country_Score.16_geography',\n",
            "       'Country_Score.20_geography', 'Country_Score.21_geography',\n",
            "       'Country_Score.26_geography', 'Country_Score.27_geography'],\n",
            "      dtype='object')\n"
          ]
        }
      ],
      "source": [
        "from sklearn.feature_selection import SelectFromModel\n",
        "from sklearn.inspection import permutation_importance\n",
        "from matplotlib import pyplot as plt\n",
        "\n",
        "sel = SelectFromModel(classifier_balanced_forest)\n",
        "sel.fit(X_train, y_train)\n",
        "\n",
        "sel.get_support()\n",
        "\n",
        "selected_feat= X_train.columns[(sel.get_support())]\n",
        "len(selected_feat)\n",
        "\n",
        "print(selected_feat)"
      ]
    },
    {
      "cell_type": "code",
      "execution_count": 103,
      "metadata": {
        "colab": {
          "base_uri": "https://localhost:8080/",
          "height": 561
        },
        "id": "AasRXOCMeFix",
        "outputId": "ea1a2682-bcb8-461a-a897-a93225fc490c"
      },
      "outputs": [
        {
          "name": "stdout",
          "output_type": "stream",
          "text": [
            "Feature: 0, Score: 106.00000\n",
            "Feature: 1, Score: 121.00000\n",
            "Feature: 2, Score: 139.00000\n",
            "Feature: 3, Score: 117.00000\n",
            "Feature: 4, Score: 108.00000\n",
            "Feature: 5, Score: 63.00000\n",
            "Feature: 6, Score: 120.00000\n",
            "Feature: 7, Score: 112.00000\n",
            "Feature: 8, Score: 146.00000\n",
            "Feature: 9, Score: 109.00000\n"
          ]
        },
        {
          "data": {
            "image/png": "[encoded data removed]",
            "text/plain": [
              "<Figure size 1152x432 with 1 Axes>"
            ]
          },
          "metadata": {
            "needs_background": "light"
          },
          "output_type": "display_data"
        },
        {
          "name": "stdout",
          "output_type": "stream",
          "text": [
            "None\n"
          ]
        }
      ],
      "source": [
        "# Random Forest Classification Feature Importance\n",
        "from matplotlib import pyplot\n",
        "\n",
        "# get importance\n",
        "importance = classifier_balanced_forest.feature_importances_\n",
        "sorted_importance = np.argsort(importance)\n",
        "most_important = sorted_importance[-10 : ]\n",
        "\n",
        "# summarize feature importance\n",
        "for i,v in enumerate(most_important):\n",
        "\tprint('Feature: %0d, Score: %.5f' % (i,v))\n",
        "# plot feature importance\n",
        "pyplot.bar([x for x in range(len(most_important))], most_important)\n",
        "print(pyplot.show())"
      ]
    },
    {
      "cell_type": "code",
      "execution_count": 167,
      "metadata": {
        "colab": {
          "base_uri": "https://localhost:8080/",
          "height": 390
        },
        "id": "oURp_-Dlh-6I",
        "outputId": "3d8eba64-d44e-43df-9706-364404e40913"
      },
      "outputs": [
        {
          "data": {
            "image/png": "[encoded data removed]",
            "text/plain": [
              "<Figure size 1152x432 with 1 Axes>"
            ]
          },
          "metadata": {
            "needs_background": "light"
          },
          "output_type": "display_data"
        }
      ],
      "source": [
        "feat_importances = pd.Series(classifier_balanced_forest.feature_importances_, index=X_interaction.columns)\n",
        "feat_importances.nlargest(15).plot(kind='barh')\n",
        "plt.title(\"Top 15 important features\")\n",
        "plt.show()"
      ]
    },
    {
      "cell_type": "code",
      "execution_count": 170,
      "metadata": {
        "colab": {
          "base_uri": "https://localhost:8080/",
          "height": 1000
        },
        "id": "3nd3rYeiGdXY",
        "outputId": "c4761fba-4da1-4f22-cca9-633bad299156"
      },
      "outputs": [
        {
          "data": {
            "image/png": "[encoded data removed]",
            "text/plain": [
              "<Figure size 1152x432 with 1 Axes>"
            ]
          },
          "metadata": {
            "needs_background": "light"
          },
          "output_type": "display_data"
        },
        {
          "name": "stdout",
          "output_type": "stream",
          "text": [
            "{\n",
            "    \"result_top_0\": {\n",
            "        \"109\": 0.000955445954375481,\n",
            "        \"120\": 0.0007590275545907413,\n",
            "        \"112\": 0.0007284471360907369,\n",
            "        \"108\": 0.00047952202331355613,\n",
            "        \"63\": 0.0004003425232439018,\n",
            "        \"106\": 0.00023529630985439157,\n",
            "        \"105\": 0.00011919855132614283,\n",
            "        \"145\": 0.00010428119467955865,\n",
            "        \"134\": 0.00010409391561717533,\n",
            "        \"107\": 8.835230641855868e-05,\n",
            "        \"104\": 6.200765834830338e-05,\n",
            "        \"119\": 3.541719845653274e-05,\n",
            "        \"103\": 3.509911078135814e-05,\n",
            "        \"110\": 3.207094278446428e-05,\n",
            "        \"118\": 2.4780447373026316e-05\n",
            "    },\n",
            "    \"result_top_1\": {\n",
            "        \"139\": 0.07150153961331028,\n",
            "        \"117\": 0.06158911439062946,\n",
            "        \"146\": 0.051603100692276575,\n",
            "        \"75\": 0.03282844078005778,\n",
            "        \"130\": 0.030651146728775558,\n",
            "        \"135\": 0.025491416587010447,\n",
            "        \"121\": 0.02519393012801422,\n",
            "        \"88\": 0.01894349581132059,\n",
            "        \"114\": 0.012130287381461527,\n",
            "        \"64\": 0.008254658929398126,\n",
            "        \"60\": 0.0028160880082898714,\n",
            "        \"113\": 0.0018154933835821273,\n",
            "        \"37\": 0.0014089351259136795,\n",
            "        \"91\": 0.0012945364696505055,\n",
            "        \"30\": 0.0012681217694233229\n",
            "    }\n",
            "}\n"
          ]
        },
        {
          "data": {
            "image/png": "[encoded data removed]",
            "text/plain": [
              "<Figure size 1152x432 with 1 Axes>"
            ]
          },
          "metadata": {
            "needs_background": "light"
          },
          "output_type": "display_data"
        },
        {
          "data": {
            "image/png": "[encoded data removed]",
            "text/plain": [
              "<Figure size 1152x432 with 1 Axes>"
            ]
          },
          "metadata": {
            "needs_background": "light"
          },
          "output_type": "display_data"
        }
      ],
      "source": [
        "from sklearn.preprocessing import scale\n",
        "import json\n",
        "\n",
        "# Features importances\n",
        "importances = classifier_balanced_forest.feature_importances_\n",
        "std = np.std([tree.feature_importances_ for tree in classifier_balanced_forest.estimators_],\n",
        "             axis=0)\n",
        "indices = np.argsort(importances)[::-1]\n",
        "feature_list = [X_interaction.columns[indices[f]] for f in range(X_interaction.shape[1])]  #names of features.\n",
        "ff = np.array(feature_list)\n",
        "\n",
        "# Plot the feature importances of the forest\n",
        "plt.figure()\n",
        "plt.rcParams['figure.figsize'] = [16, 6]\n",
        "plt.title(\"Feature importances\")\n",
        "plt.bar(range(X_interaction.shape[1]), importances[indices],\n",
        "       color=\"r\", yerr=std[indices], align=\"center\")\n",
        "plt.xticks(range(X_interaction.shape[1]), ff[indices], rotation=90)\n",
        "plt.xlim([-1, X_interaction.shape[1]])\n",
        "plt.show()\n",
        "\n",
        "## The new additions to get feature importance to classes: \n",
        "\n",
        "# To get the importance according to each class:\n",
        "def class_feature_importance(X, Y, feature_importances):\n",
        "    N, M = X_interaction.shape\n",
        "    X = scale(X_interaction)\n",
        "\n",
        "    out = {}\n",
        "    for c in set(Y):\n",
        "        out[c] = dict(\n",
        "            zip(range(N), np.mean(X[Y==c, :], axis=0)*feature_importances)\n",
        "        )\n",
        "\n",
        "    return out\n",
        "\n",
        "result = class_feature_importance(X, y, importances)\n",
        "result_top = dict(result_top_0 = {109: 0.000955445954375481, 120: 0.0007590275545907413, 112: 0.0007284471360907369, 108: 0.00047952202331355613, 63: 0.0004003425232439018, 106: 0.00023529630985439157, 105: 0.00011919855132614283, 145: 0.00010428119467955865, 134: 0.00010409391561717533, 107: 8.835230641855868e-05, 104: 6.200765834830338e-05, 119: 3.541719845653274e-05, 103: 3.509911078135814e-05, 110: 3.207094278446428e-05, 118: 2.4780447373026316e-05}, result_top_1 = {139: 0.07150153961331028, 117: 0.06158911439062946, 146: 0.051603100692276575, 75: 0.03282844078005778, 130: 0.030651146728775558, 135: 0.025491416587010447, 121: 0.02519393012801422, 88: 0.01894349581132059, 114: 0.012130287381461527, 64: 0.008254658929398126, 60: 0.0028160880082898714, 113: 0.0018154933835821273, 37: 0.0014089351259136795, 91: 0.0012945364696505055, 30: 0.0012681217694233229})\n",
        "result_top\n",
        "print (json.dumps(result_top,indent=4))\n",
        "\n",
        "# Plot the feature importances of the forest\n",
        "\n",
        "titles = [\"Domestic\", \"Foreign\"]\n",
        "for t, i in zip(titles, range(len(result))):\n",
        "    plt.figure()\n",
        "    plt.rcParams['figure.figsize'] = [16, 6]\n",
        "    plt.title(t)\n",
        "    plt.bar(range(len(result[i])), result[i].values(),\n",
        "           color=\"r\", align=\"center\")\n",
        "    plt.xticks(range(len(result[i])), ff[list(result[i].keys())], rotation=90)\n",
        "    plt.xlim([-1, len(result[i])])\n",
        "    plt.show()"
      ]
    },
    {
      "cell_type": "code",
      "execution_count": 154,
      "metadata": {
        "colab": {
          "base_uri": "https://localhost:8080/"
        },
        "id": "DgYg5i3IhPeZ",
        "outputId": "13879c54-03fa-41af-f052-4b9cda595534"
      },
      "outputs": [
        {
          "name": "stdout",
          "output_type": "stream",
          "text": [
            "dict_keys([139, 117, 146, 75, 130, 135, 121, 88, 114, 64, 60, 113, 37, 91, 30])\n"
          ]
        }
      ],
      "source": [
        "from operator import itemgetter\n",
        "result_top_0 = dict(sorted(result[0].items(), key = itemgetter(1), reverse = True)[:15])\n",
        "result_top_1 = dict(sorted(result[1].items(), key = itemgetter(1), reverse = True)[:15])\n",
        "print(result_top_1.keys())"
      ]
    },
    {
      "cell_type": "markdown",
      "metadata": {
        "id": "juSxRjvnRTzb"
      },
      "source": [
        "## Support Vector Machine Model"
      ]
    },
    {
      "cell_type": "code",
      "execution_count": 177,
      "metadata": {
        "colab": {
          "base_uri": "https://localhost:8080/"
        },
        "id": "PgIPyO_BSMla",
        "outputId": "3e1dce07-98d5-48bc-b4fe-2cb7322c85ca"
      },
      "outputs": [
        {
          "name": "stdout",
          "output_type": "stream",
          "text": [
            "Elapsed time to compute the model: 411.716 seconds\n"
          ]
        }
      ],
      "source": [
        "# SVM for imbalanced classification\n",
        "from sklearn.svm import SVC\n",
        "\n",
        "# measuring the time to run the model\n",
        "start_time = time.time()\n",
        "\n",
        "# Train model \n",
        "classifier_balanced_svm = SVC(gamma='scale', class_weight='balanced')\n",
        "classifier_balanced_svm.fit(X_train, y_train)\n",
        "\n",
        "# Predict on training set\n",
        "pred_y_balanced_svm = classifier_balanced_svm.predict(X_test)\n",
        "\n",
        "# elapsed time to run the model\n",
        "elapsed_time = time.time() - start_time\n",
        "\n",
        "print(f\"Elapsed time to compute the model: \"\n",
        "      f\"{elapsed_time:.3f} seconds\")"
      ]
    },
    {
      "cell_type": "code",
      "execution_count": 182,
      "metadata": {
        "colab": {
          "base_uri": "https://localhost:8080/"
        },
        "id": "ot7W_Xo2LDV5",
        "outputId": "cb409aad-533f-42e3-bc1d-2161cccb2591"
      },
      "outputs": [
        {
          "name": "stdout",
          "output_type": "stream",
          "text": [
            "Classes that are being predicted: [0 1]\n",
            "Accuracy Score: 0.8818\n",
            "Mean ROC AUC: 0.858\n",
            "Elapsed time to evaluate the model: 2.539 seconds\n"
          ]
        }
      ],
      "source": [
        "# SVM Model evaluation \n",
        "from sklearn.model_selection import cross_val_score\n",
        "from sklearn.model_selection import RepeatedStratifiedKFold\n",
        "from numpy import mean\n",
        "\n",
        "# measuring the time to evaluate  the model\n",
        "start_time = time.time()\n",
        "\n",
        "# Is our model still predicting just one class?\n",
        "print(f\"Classes that are being predicted: \"\n",
        "      f\"{np.unique(pred_y_balanced_svm)}\")\n",
        " \n",
        "# How's our accuracy when a weight is added?\n",
        "print(f\"Accuracy Score: \"\n",
        "      f\"{accuracy_score(y_test, pred_y_balanced_svm):.4f}\")\n",
        " \n",
        "# define evaluation procedure\n",
        "cv = RepeatedStratifiedKFold(n_splits=10, n_repeats=3, random_state=1)\n",
        "# evaluate model\n",
        "scores = cross_val_score(classifier_balanced_svm, X_test, y_test, scoring='roc_auc', cv=cv, n_jobs=-1)\n",
        "# summarize performance\n",
        "print('Mean ROC AUC: %.3f' % mean(scores))\n",
        "\n",
        "# time elapsed to evaluate the model\n",
        "elapsed_time = time.time() - start_time\n",
        "\n",
        "print(f\"Elapsed time to evaluate the model: \"\n",
        "      f\"{elapsed_time:.3f} seconds\")"
      ]
    },
    {
      "cell_type": "code",
      "execution_count": null,
      "metadata": {
        "colab": {
          "base_uri": "https://localhost:8080/"
        },
        "id": "dIcHAdylcY_7",
        "outputId": "d3c67b36-479d-4c8a-b31a-54391a857020"
      },
      "outputs": [
        {
          "name": "stdout",
          "output_type": "stream",
          "text": [
            "              precision    recall  f1-score   support\n",
            "\n",
            "           0       1.00      0.88      0.94     46721\n",
            "           1       0.04      0.81      0.08       292\n",
            "\n",
            "    accuracy                           0.88     47013\n",
            "   macro avg       0.52      0.85      0.51     47013\n",
            "weighted avg       0.99      0.88      0.93     47013\n",
            "\n"
          ]
        }
      ],
      "source": [
        "# View the classification report for test data and predictions\n",
        "\n",
        "print(classification_report(y_test, pred_y_balanced_svm))"
      ]
    },
    {
      "cell_type": "code",
      "execution_count": 184,
      "metadata": {
        "colab": {
          "base_uri": "https://localhost:8080/",
          "height": 388
        },
        "id": "fmz5COv9c-A8",
        "outputId": "4493974a-3f86-4d21-9cd5-e255d99c7b09"
      },
      "outputs": [
        {
          "data": {
            "image/png": "[encoded data removed]",
            "text/plain": [
              "<Figure size 1152x432 with 2 Axes>"
            ]
          },
          "metadata": {
            "needs_background": "light"
          },
          "output_type": "display_data"
        }
      ],
      "source": [
        "# View confusion matrix for test data and predictions\n",
        "from sklearn.metrics import ConfusionMatrixDisplay\n",
        "_ = ConfusionMatrixDisplay.from_estimator(classifier_balanced_svm, X_test, y_test)"
      ]
    }
  ],
  "metadata": {
    "colab": {
      "include_colab_link": true,
      "provenance": [],
      "toc_visible": true
    },
    "kernelspec": {
      "display_name": "Python 3",
      "name": "python3"
    },
    "language_info": {
      "name": "python"
    }
  },
  "nbformat": 4,
  "nbformat_minor": 0
}

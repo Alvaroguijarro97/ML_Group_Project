{
  "nbformat": 4,
  "nbformat_minor": 0,
  "metadata": {
    "colab": {
      "provenance": [],
      "authorship_tag": "ABX9TyN21PWwnZnx+5xTTE3Elqo6",
      "include_colab_link": true
    },
    "kernelspec": {
      "name": "python3",
      "display_name": "Python 3"
    },
    "language_info": {
      "name": "python"
    }
  },
  "cells": [
    {
      "cell_type": "markdown",
      "metadata": {
        "id": "view-in-github",
        "colab_type": "text"
      },
      "source": [
        "<a href=\"https://colab.research.google.com/github/Alvaroguijarro97/ML_Group_Project/blob/main/Sampling_and_Threshold_Evaluation.ipynb\" target=\"_parent\"><img src=\"https://colab.research.google.com/assets/colab-badge.svg\" alt=\"Open In Colab\"/></a>"
      ]
    },
    {
      "cell_type": "markdown",
      "source": [
        "# Undersampling and Oversampling"
      ],
      "metadata": {
        "id": "TNVz38neH6Jy"
      }
    },
    {
      "cell_type": "code",
      "source": [
        "# Implementation of Roughly Balanced Bagging for binary problem.\n",
        "\n",
        "# using a RandomUnderSampler or RandomOverSampler will create exactly the desired number of samples\n",
        "# However, it does not follow the statistical spirit wanted in the bagging framework.\n",
        "\n",
        "# not working in the moment\n",
        "\n",
        "from collections import Counter\n",
        "from imblearn import FunctionSampler\n",
        "from imblearn.ensemble import BalancedBaggingClassifier\n",
        "from sklearn.model_selection import cross_validate\n",
        "\n",
        "def roughly_balanced_bagging(X, y, replace=False):\n",
        "    \n",
        "    # find the minority and majority classes\n",
        "    class_counts = Counter(y)\n",
        "    majority_class = max(class_counts, key=class_counts.get)\n",
        "    minority_class = min(class_counts, key=class_counts.get)\n",
        "\n",
        "    # compute the number of sample to draw from the majority class using\n",
        "    # a negative binomial distribution\n",
        "    n_minority_class = class_counts[minority_class]\n",
        "    n_majority_resampled = np.random.negative_binomial(n=n_minority_class, p=0.5)\n",
        "\n",
        "    # draw randomly with or without replacement\n",
        "    majority_indices = np.random.choice(\n",
        "        np.flatnonzero(y == majority_class),\n",
        "        size=n_majority_resampled,\n",
        "        replace=replace,\n",
        "    )\n",
        "    minority_indices = np.random.choice(\n",
        "        np.flatnonzero(y == minority_class),\n",
        "        size=n_minority_class,\n",
        "        replace=replace,\n",
        "    )\n",
        "    indices = np.hstack([majority_indices, minority_indices])\n",
        "\n",
        "    return X[indices], y[indices]\n",
        "\n",
        "\n",
        "# Roughly Balanced Bagging\n",
        "rbb = BalancedBaggingClassifier(\n",
        "    sampler=FunctionSampler(func=roughly_balanced_bagging, kw_args={\"replace\": True})\n",
        ")\n",
        "cv_results = cross_validate(rbb, X, y, scoring=\"balanced_accuracy\")\n",
        "\n",
        "print(f\"{cv_results['test_score'].mean():.3f} +/- {cv_results['test_score'].std():.3f}\")"
      ],
      "metadata": {
        "id": "w9cWF6pHHy6d"
      },
      "execution_count": null,
      "outputs": []
    },
    {
      "cell_type": "markdown",
      "source": [
        "# Best Threshold Evaluation Metric"
      ],
      "metadata": {
        "id": "upjmTxpNHp8p"
      }
    },
    {
      "cell_type": "code",
      "execution_count": null,
      "metadata": {
        "id": "C2MmaeOoHdRr"
      },
      "outputs": [],
      "source": [
        "# This is only an example by now\n",
        "## Another option would be to change our Evaluation Metric in accordance to the imbalance\n",
        "# function to get the best threshold for maximizing F1 score for binary predictions\n",
        "\n",
        "def bestThresshold(y_true,y_pred):\n",
        "    best_thresh = None\n",
        "    best_score = 0\n",
        "    for thresh in np.arange(0.1, 0.501, 0.01):\n",
        "        score = f1_score(y_true, np.array(y_pred)>thresh)\n",
        "        if score > best_score:\n",
        "            best_thresh = thresh\n",
        "            best_score = score\n",
        "    return best_score , best_thresh"
      ]
    }
  ]
}